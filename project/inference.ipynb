{
 "nbformat": 4,
 "nbformat_minor": 2,
 "metadata": {
  "language_info": {
   "name": "python",
   "codemirror_mode": {
    "name": "ipython",
    "version": 3
   },
   "version": "3.7.4"
  },
  "orig_nbformat": 2,
  "file_extension": ".py",
  "mimetype": "text/x-python",
  "name": "python",
  "npconvert_exporter": "python",
  "pygments_lexer": "ipython3",
  "version": 3
 },
 "cells": [
  {
   "cell_type": "markdown",
   "execution_count": null,
   "metadata": {},
   "outputs": [],
   "source": [
    "# Model inference"
   ]
  },
  {
   "cell_type": "code",
   "execution_count": 42,
   "metadata": {},
   "outputs": [],
   "source": [
    "import pickle\n",
    "import gentype\n",
    "import numpy as np\n",
    "import matplotlib.pyplot as plt"
   ]
  },
  {
   "cell_type": "markdown",
   "execution_count": null,
   "metadata": {},
   "outputs": [],
   "source": [
    "## 1) Load Data, Preprocess\n",
    "\n",
    "Loads the fetched X_matrix and preprocess it into the right format.\n",
    "TODO Link index directly with corresponding individual\n"
   ]
  },
  {
   "cell_type": "code",
   "execution_count": 3,
   "metadata": {},
   "outputs": [],
   "source": [
    "file1 = open(\"X_matrix\", \"rb\")"
   ]
  },
  {
   "cell_type": "code",
   "execution_count": 4,
   "metadata": {},
   "outputs": [],
   "source": [
    "X_matrix = pickle.load(file1)"
   ]
  },
  {
   "cell_type": "code",
   "execution_count": 30,
   "metadata": {},
   "outputs": [],
   "source": [
    "X_matrix_allele_1 = X_matrix[:,0]\n",
    "X_matrix_allele_2 = X_matrix[:,1]\n",
    "\n",
    "X_matrix_al = np.concatenate((X_matrix_allele_1, X_matrix_allele_2), axis = 0)\n",
    "X_matrix_geno = X_matrix_allele_1 + X_matrix_allele_2"
   ]
  },
  {
   "cell_type": "markdown",
   "execution_count": null,
   "metadata": {},
   "outputs": [],
   "source": [
    "## 2) Model training\n",
    "Trains the model, TODO try different prior initilizations\n"
   ]
  },
  {
   "cell_type": "code",
   "execution_count": 6,
   "metadata": {},
   "outputs": [],
   "source": [
    "model = gentype.PiCollapsedNonparametricGibbsSampler(1)"
   ]
  },
  {
   "cell_type": "code",
   "execution_count": 34,
   "metadata": {},
   "outputs": [
    {
     "data": {
      "text/plain": "12.788538338658148"
     },
     "execution_count": 34,
     "metadata": {},
     "output_type": "execute_result"
    }
   ],
   "source": [
    "X_matrix_al.sum(axis=1).mean()"
   ]
  },
  {
   "cell_type": "code",
   "execution_count": 36,
   "metadata": {},
   "outputs": [
    {
     "data": {
      "text/plain": "25.577076677316295"
     },
     "execution_count": 36,
     "metadata": {},
     "output_type": "execute_result"
    }
   ],
   "source": [
    "X_matrix_geno.sum(axis=1).mean()"
   ]
  },
  {
   "cell_type": "code",
   "execution_count": 39,
   "metadata": {},
   "outputs": [
    {
     "name": "stdout",
     "output_type": "stream",
     "text": "Iteration: 1; Current clusters: 11; Likelihood: -228356.163\nIteration: 2; Current clusters: 8; Likelihood: -214525.651\nIteration: 3; Current clusters: 8; Likelihood: -210010.749\nIteration: 4; Current clusters: 8; Likelihood: -208462.123\nIteration: 5; Current clusters: 8; Likelihood: -208160.347\nIteration: 6; Current clusters: 8; Likelihood: -207999.115\nIteration: 7; Current clusters: 8; Likelihood: -207909.806\nIteration: 8; Current clusters: 8; Likelihood: -207961.448\nIteration: 9; Current clusters: 8; Likelihood: -207969.345\nIteration: 10; Current clusters: 8; Likelihood: -207864.484\nIteration: 11; Current clusters: 8; Likelihood: -207868.417\nIteration: 12; Current clusters: 8; Likelihood: -207888.649\nIteration: 13; Current clusters: 8; Likelihood: -207802.708\nIteration: 14; Current clusters: 8; Likelihood: -207738.894\nIteration: 15; Current clusters: 8; Likelihood: -207808.206\nIteration: 16; Current clusters: 8; Likelihood: -207867.807\nIteration: 17; Current clusters: 8; Likelihood: -207822.337\nIteration: 18; Current clusters: 8; Likelihood: -207880.508\nIteration: 19; Current clusters: 8; Likelihood: -207799.473\nIteration: 20; Current clusters: 8; Likelihood: -207856.821\nIteration: 21; Current clusters: 8; Likelihood: -207909.511\nIteration: 22; Current clusters: 8; Likelihood: -207875.191\nIteration: 23; Current clusters: 8; Likelihood: -207786.815\nIteration: 24; Current clusters: 8; Likelihood: -207853.345\nIteration: 25; Current clusters: 8; Likelihood: -207816.901\nIteration: 26; Current clusters: 8; Likelihood: -207769.690\nIteration: 27; Current clusters: 8; Likelihood: -207803.892\nIteration: 28; Current clusters: 8; Likelihood: -207734.564\nIteration: 29; Current clusters: 8; Likelihood: -207790.036\nIteration: 30; Current clusters: 8; Likelihood: -207802.780\nIteration: 31; Current clusters: 8; Likelihood: -207863.683\nIteration: 32; Current clusters: 8; Likelihood: -207729.176\nIteration: 33; Current clusters: 8; Likelihood: -207766.279\nIteration: 34; Current clusters: 8; Likelihood: -207734.061\nIteration: 35; Current clusters: 8; Likelihood: -207755.503\nIteration: 36; Current clusters: 8; Likelihood: -207802.937\nIteration: 37; Current clusters: 8; Likelihood: -207773.054\nIteration: 38; Current clusters: 8; Likelihood: -207746.234\nIteration: 39; Current clusters: 8; Likelihood: -207735.785\nIteration: 40; Current clusters: 8; Likelihood: -207625.690\nIteration: 41; Current clusters: 8; Likelihood: -207693.353\nIteration: 42; Current clusters: 8; Likelihood: -207467.254\nIteration: 43; Current clusters: 8; Likelihood: -207431.403\nIteration: 44; Current clusters: 8; Likelihood: -207355.609\nIteration: 45; Current clusters: 8; Likelihood: -207396.054\nIteration: 46; Current clusters: 8; Likelihood: -207339.874\nIteration: 47; Current clusters: 8; Likelihood: -207252.527\nIteration: 48; Current clusters: 8; Likelihood: -206735.443\nIteration: 49; Current clusters: 8; Likelihood: -203749.897\nIteration: 50; Current clusters: 8; Likelihood: -203582.292\nIteration: 51; Current clusters: 8; Likelihood: -203590.577\nIteration: 52; Current clusters: 8; Likelihood: -203431.948\nIteration: 53; Current clusters: 8; Likelihood: -203463.719\nIteration: 54; Current clusters: 8; Likelihood: -203438.159\nIteration: 55; Current clusters: 8; Likelihood: -203445.484\nIteration: 56; Current clusters: 8; Likelihood: -203481.683\nIteration: 57; Current clusters: 8; Likelihood: -203492.903\nIteration: 58; Current clusters: 8; Likelihood: -203427.691\nIteration: 59; Current clusters: 8; Likelihood: -203452.202\nIteration: 60; Current clusters: 8; Likelihood: -203345.314\nIteration: 61; Current clusters: 8; Likelihood: -203405.673\nIteration: 62; Current clusters: 8; Likelihood: -203428.388\nIteration: 63; Current clusters: 8; Likelihood: -203425.232\nIteration: 64; Current clusters: 8; Likelihood: -203347.256\nIteration: 65; Current clusters: 8; Likelihood: -203455.044\nIteration: 66; Current clusters: 8; Likelihood: -203402.300\nIteration: 67; Current clusters: 8; Likelihood: -203473.396\nIteration: 68; Current clusters: 8; Likelihood: -203401.992\nIteration: 69; Current clusters: 8; Likelihood: -203501.878\nIteration: 70; Current clusters: 8; Likelihood: -203505.056\nIteration: 71; Current clusters: 8; Likelihood: -203421.500\nIteration: 72; Current clusters: 8; Likelihood: -203379.211\nIteration: 73; Current clusters: 8; Likelihood: -203340.972\nIteration: 74; Current clusters: 8; Likelihood: -203413.279\nIteration: 75; Current clusters: 8; Likelihood: -203524.411\nIteration: 76; Current clusters: 8; Likelihood: -203374.778\nIteration: 77; Current clusters: 8; Likelihood: -203435.198\nIteration: 78; Current clusters: 8; Likelihood: -203431.317\nIteration: 79; Current clusters: 8; Likelihood: -203457.809\nIteration: 80; Current clusters: 8; Likelihood: -203369.708\nIteration: 81; Current clusters: 8; Likelihood: -203419.311\nIteration: 82; Current clusters: 8; Likelihood: -203455.410\nIteration: 83; Current clusters: 8; Likelihood: -203512.838\nIteration: 84; Current clusters: 8; Likelihood: -203486.600\nIteration: 85; Current clusters: 8; Likelihood: -203385.578\nIteration: 86; Current clusters: 8; Likelihood: -203521.636\nIteration: 87; Current clusters: 8; Likelihood: -203513.940\nIteration: 88; Current clusters: 8; Likelihood: -203406.127\nIteration: 89; Current clusters: 8; Likelihood: -203407.606\nIteration: 90; Current clusters: 8; Likelihood: -203431.759\nIteration: 91; Current clusters: 8; Likelihood: -203385.615\nIteration: 92; Current clusters: 8; Likelihood: -203481.525\nIteration: 93; Current clusters: 8; Likelihood: -203432.586\nIteration: 94; Current clusters: 8; Likelihood: -203373.125\nIteration: 95; Current clusters: 8; Likelihood: -203407.288\nIteration: 96; Current clusters: 8; Likelihood: -203395.317\nIteration: 97; Current clusters: 8; Likelihood: -203453.499\nIteration: 98; Current clusters: 8; Likelihood: -203470.845\nIteration: 99; Current clusters: 8; Likelihood: -203388.641\nIteration: 100; Current clusters: 8; Likelihood: -203445.519\nIteration: 101; Current clusters: 8; Likelihood: -203406.916\nIteration: 102; Current clusters: 8; Likelihood: -203493.328\nIteration: 103; Current clusters: 8; Likelihood: -203423.656\nIteration: 104; Current clusters: 8; Likelihood: -203514.272\nIteration: 105; Current clusters: 8; Likelihood: -203482.632\nIteration: 106; Current clusters: 8; Likelihood: -203399.681\nIteration: 107; Current clusters: 8; Likelihood: -203539.941\nIteration: 108; Current clusters: 8; Likelihood: -203396.692\nIteration: 109; Current clusters: 8; Likelihood: -203402.825\nIteration: 110; Current clusters: 8; Likelihood: -203502.154\nIteration: 111; Current clusters: 8; Likelihood: -203437.624\nIteration: 112; Current clusters: 8; Likelihood: -203418.277\nIteration: 113; Current clusters: 8; Likelihood: -203406.745\nIteration: 114; Current clusters: 8; Likelihood: -203480.975\nIteration: 115; Current clusters: 8; Likelihood: -203432.592\nIteration: 116; Current clusters: 8; Likelihood: -203386.633\nIteration: 117; Current clusters: 8; Likelihood: -203531.012\nIteration: 118; Current clusters: 8; Likelihood: -203539.710\nIteration: 119; Current clusters: 8; Likelihood: -203399.780\nIteration: 120; Current clusters: 8; Likelihood: -203539.144\n"
    }
   ],
   "source": [
    "model.fit(X_matrix_al, num_burn_in_steps = 100, delta = 2)"
   ]
  },
  {
   "cell_type": "code",
   "execution_count": 43,
   "metadata": {},
   "outputs": [
    {
     "data": {
      "text/plain": "[<matplotlib.lines.Line2D at 0x7f3106ccc750>]"
     },
     "execution_count": 43,
     "metadata": {},
     "output_type": "execute_result"
    },
    {
     "data": {
      "image/png": "[encoded data removed]",
      "image/svg+xml": "<?xml version=\"1.0\" encoding=\"utf-8\" standalone=\"no\"?>\n<!DOCTYPE svg PUBLIC \"-//W3C//DTD SVG 1.1//EN\"\n  \"http://www.w3.org/Graphics/SVG/1.1/DTD/svg11.dtd\">\n<!-- Created with matplotlib (https://matplotlib.org/) -->\n<svg height=\"248.518125pt\" version=\"1.1\" viewBox=\"0 0 402.754687 248.518125\" width=\"402.754687pt\" xmlns=\"http://www.w3.org/2000/svg\" xmlns:xlink=\"http://www.w3.org/1999/xlink\">\n <defs>\n  <style type=\"text/css\">\n*{stroke-linecap:butt;stroke-linejoin:round;}\n  </style>\n </defs>\n <g id=\"figure_1\">\n  <g id=\"patch_1\">\n   <path d=\"M 0 248.518125 \nL 402.754687 248.518125 \nL 402.754687 0 \nL 0 0 \nz\n\" style=\"fill:none;\"/>\n  </g>\n  <g id=\"axes_1\">\n   <g id=\"patch_2\">\n    <path d=\"M 60.754688 224.64 \nL 395.554688 224.64 \nL 395.554688 7.2 \nL 60.754688 7.2 \nz\n\" style=\"fill:#ffffff;\"/>\n   </g>\n   <g id=\"matplotlib.axis_1\">\n    <g id=\"xtick_1\">\n     <g id=\"line2d_1\">\n      <defs>\n       <path d=\"M 0 0 \nL 0 3.5 \n\" id=\"m45eb541cbd\" style=\"stroke:#000000;stroke-width:0.8;\"/>\n      </defs>\n      <g>\n       <use style=\"stroke:#000000;stroke-width:0.8;\" x=\"75.972869\" xlink:href=\"#m45eb541cbd\" y=\"224.64\"/>\n      </g>\n     </g>\n     <g id=\"text_1\">\n      <!-- 0 -->\n      <defs>\n       <path d=\"M 31.78125 66.40625 \nQ 24.171875 66.40625 20.328125 58.90625 \nQ 16.5 51.421875 16.5 36.375 \nQ 16.5 21.390625 20.328125 13.890625 \nQ 24.171875 6.390625 31.78125 6.390625 \nQ 39.453125 6.390625 43.28125 13.890625 \nQ 47.125 21.390625 47.125 36.375 \nQ 47.125 51.421875 43.28125 58.90625 \nQ 39.453125 66.40625 31.78125 66.40625 \nz\nM 31.78125 74.21875 \nQ 44.046875 74.21875 50.515625 64.515625 \nQ 56.984375 54.828125 56.984375 36.375 \nQ 56.984375 17.96875 50.515625 8.265625 \nQ 44.046875 -1.421875 31.78125 -1.421875 \nQ 19.53125 -1.421875 13.0625 8.265625 \nQ 6.59375 17.96875 6.59375 36.375 \nQ 6.59375 54.828125 13.0625 64.515625 \nQ 19.53125 74.21875 31.78125 74.21875 \nz\n\" id=\"DejaVuSans-48\"/>\n      </defs>\n      <g transform=\"translate(72.791619 239.238438)scale(0.1 -0.1)\">\n       <use xlink:href=\"#DejaVuSans-48\"/>\n      </g>\n     </g>\n    </g>\n    <g id=\"xtick_2\">\n     <g id=\"line2d_2\">\n      <g>\n       <use style=\"stroke:#000000;stroke-width:0.8;\" x=\"127.126422\" xlink:href=\"#m45eb541cbd\" y=\"224.64\"/>\n      </g>\n     </g>\n     <g id=\"text_2\">\n      <!-- 20 -->\n      <defs>\n       <path d=\"M 19.1875 8.296875 \nL 53.609375 8.296875 \nL 53.609375 0 \nL 7.328125 0 \nL 7.328125 8.296875 \nQ 12.9375 14.109375 22.625 23.890625 \nQ 32.328125 33.6875 34.8125 36.53125 \nQ 39.546875 41.84375 41.421875 45.53125 \nQ 43.3125 49.21875 43.3125 52.78125 \nQ 43.3125 58.59375 39.234375 62.25 \nQ 35.15625 65.921875 28.609375 65.921875 \nQ 23.96875 65.921875 18.8125 64.3125 \nQ 13.671875 62.703125 7.8125 59.421875 \nL 7.8125 69.390625 \nQ 13.765625 71.78125 18.9375 73 \nQ 24.125 74.21875 28.421875 74.21875 \nQ 39.75 74.21875 46.484375 68.546875 \nQ 53.21875 62.890625 53.21875 53.421875 \nQ 53.21875 48.921875 51.53125 44.890625 \nQ 49.859375 40.875 45.40625 35.40625 \nQ 44.1875 33.984375 37.640625 27.21875 \nQ 31.109375 20.453125 19.1875 8.296875 \nz\n\" id=\"DejaVuSans-50\"/>\n      </defs>\n      <g transform=\"translate(120.763922 239.238438)scale(0.1 -0.1)\">\n       <use xlink:href=\"#DejaVuSans-50\"/>\n       <use x=\"63.623047\" xlink:href=\"#DejaVuSans-48\"/>\n      </g>\n     </g>\n    </g>\n    <g id=\"xtick_3\">\n     <g id=\"line2d_3\">\n      <g>\n       <use style=\"stroke:#000000;stroke-width:0.8;\" x=\"178.279974\" xlink:href=\"#m45eb541cbd\" y=\"224.64\"/>\n      </g>\n     </g>\n     <g id=\"text_3\">\n      <!-- 40 -->\n      <defs>\n       <path d=\"M 37.796875 64.3125 \nL 12.890625 25.390625 \nL 37.796875 25.390625 \nz\nM 35.203125 72.90625 \nL 47.609375 72.90625 \nL 47.609375 25.390625 \nL 58.015625 25.390625 \nL 58.015625 17.1875 \nL 47.609375 17.1875 \nL 47.609375 0 \nL 37.796875 0 \nL 37.796875 17.1875 \nL 4.890625 17.1875 \nL 4.890625 26.703125 \nz\n\" id=\"DejaVuSans-52\"/>\n      </defs>\n      <g transform=\"translate(171.917474 239.238438)scale(0.1 -0.1)\">\n       <use xlink:href=\"#DejaVuSans-52\"/>\n       <use x=\"63.623047\" xlink:href=\"#DejaVuSans-48\"/>\n      </g>\n     </g>\n    </g>\n    <g id=\"xtick_4\">\n     <g id=\"line2d_4\">\n      <g>\n       <use style=\"stroke:#000000;stroke-width:0.8;\" x=\"229.433526\" xlink:href=\"#m45eb541cbd\" y=\"224.64\"/>\n      </g>\n     </g>\n     <g id=\"text_4\">\n      <!-- 60 -->\n      <defs>\n       <path d=\"M 33.015625 40.375 \nQ 26.375 40.375 22.484375 35.828125 \nQ 18.609375 31.296875 18.609375 23.390625 \nQ 18.609375 15.53125 22.484375 10.953125 \nQ 26.375 6.390625 33.015625 6.390625 \nQ 39.65625 6.390625 43.53125 10.953125 \nQ 47.40625 15.53125 47.40625 23.390625 \nQ 47.40625 31.296875 43.53125 35.828125 \nQ 39.65625 40.375 33.015625 40.375 \nz\nM 52.59375 71.296875 \nL 52.59375 62.3125 \nQ 48.875 64.0625 45.09375 64.984375 \nQ 41.3125 65.921875 37.59375 65.921875 \nQ 27.828125 65.921875 22.671875 59.328125 \nQ 17.53125 52.734375 16.796875 39.40625 \nQ 19.671875 43.65625 24.015625 45.921875 \nQ 28.375 48.1875 33.59375 48.1875 \nQ 44.578125 48.1875 50.953125 41.515625 \nQ 57.328125 34.859375 57.328125 23.390625 \nQ 57.328125 12.15625 50.6875 5.359375 \nQ 44.046875 -1.421875 33.015625 -1.421875 \nQ 20.359375 -1.421875 13.671875 8.265625 \nQ 6.984375 17.96875 6.984375 36.375 \nQ 6.984375 53.65625 15.1875 63.9375 \nQ 23.390625 74.21875 37.203125 74.21875 \nQ 40.921875 74.21875 44.703125 73.484375 \nQ 48.484375 72.75 52.59375 71.296875 \nz\n\" id=\"DejaVuSans-54\"/>\n      </defs>\n      <g transform=\"translate(223.071026 239.238438)scale(0.1 -0.1)\">\n       <use xlink:href=\"#DejaVuSans-54\"/>\n       <use x=\"63.623047\" xlink:href=\"#DejaVuSans-48\"/>\n      </g>\n     </g>\n    </g>\n    <g id=\"xtick_5\">\n     <g id=\"line2d_5\">\n      <g>\n       <use style=\"stroke:#000000;stroke-width:0.8;\" x=\"280.587079\" xlink:href=\"#m45eb541cbd\" y=\"224.64\"/>\n      </g>\n     </g>\n     <g id=\"text_5\">\n      <!-- 80 -->\n      <defs>\n       <path d=\"M 31.78125 34.625 \nQ 24.75 34.625 20.71875 30.859375 \nQ 16.703125 27.09375 16.703125 20.515625 \nQ 16.703125 13.921875 20.71875 10.15625 \nQ 24.75 6.390625 31.78125 6.390625 \nQ 38.8125 6.390625 42.859375 10.171875 \nQ 46.921875 13.96875 46.921875 20.515625 \nQ 46.921875 27.09375 42.890625 30.859375 \nQ 38.875 34.625 31.78125 34.625 \nz\nM 21.921875 38.8125 \nQ 15.578125 40.375 12.03125 44.71875 \nQ 8.5 49.078125 8.5 55.328125 \nQ 8.5 64.0625 14.71875 69.140625 \nQ 20.953125 74.21875 31.78125 74.21875 \nQ 42.671875 74.21875 48.875 69.140625 \nQ 55.078125 64.0625 55.078125 55.328125 \nQ 55.078125 49.078125 51.53125 44.71875 \nQ 48 40.375 41.703125 38.8125 \nQ 48.828125 37.15625 52.796875 32.3125 \nQ 56.78125 27.484375 56.78125 20.515625 \nQ 56.78125 9.90625 50.3125 4.234375 \nQ 43.84375 -1.421875 31.78125 -1.421875 \nQ 19.734375 -1.421875 13.25 4.234375 \nQ 6.78125 9.90625 6.78125 20.515625 \nQ 6.78125 27.484375 10.78125 32.3125 \nQ 14.796875 37.15625 21.921875 38.8125 \nz\nM 18.3125 54.390625 \nQ 18.3125 48.734375 21.84375 45.5625 \nQ 25.390625 42.390625 31.78125 42.390625 \nQ 38.140625 42.390625 41.71875 45.5625 \nQ 45.3125 48.734375 45.3125 54.390625 \nQ 45.3125 60.0625 41.71875 63.234375 \nQ 38.140625 66.40625 31.78125 66.40625 \nQ 25.390625 66.40625 21.84375 63.234375 \nQ 18.3125 60.0625 18.3125 54.390625 \nz\n\" id=\"DejaVuSans-56\"/>\n      </defs>\n      <g transform=\"translate(274.224579 239.238438)scale(0.1 -0.1)\">\n       <use xlink:href=\"#DejaVuSans-56\"/>\n       <use x=\"63.623047\" xlink:href=\"#DejaVuSans-48\"/>\n      </g>\n     </g>\n    </g>\n    <g id=\"xtick_6\">\n     <g id=\"line2d_6\">\n      <g>\n       <use style=\"stroke:#000000;stroke-width:0.8;\" x=\"331.740631\" xlink:href=\"#m45eb541cbd\" y=\"224.64\"/>\n      </g>\n     </g>\n     <g id=\"text_6\">\n      <!-- 100 -->\n      <defs>\n       <path d=\"M 12.40625 8.296875 \nL 28.515625 8.296875 \nL 28.515625 63.921875 \nL 10.984375 60.40625 \nL 10.984375 69.390625 \nL 28.421875 72.90625 \nL 38.28125 72.90625 \nL 38.28125 8.296875 \nL 54.390625 8.296875 \nL 54.390625 0 \nL 12.40625 0 \nz\n\" id=\"DejaVuSans-49\"/>\n      </defs>\n      <g transform=\"translate(322.196881 239.238438)scale(0.1 -0.1)\">\n       <use xlink:href=\"#DejaVuSans-49\"/>\n       <use x=\"63.623047\" xlink:href=\"#DejaVuSans-48\"/>\n       <use x=\"127.246094\" xlink:href=\"#DejaVuSans-48\"/>\n      </g>\n     </g>\n    </g>\n    <g id=\"xtick_7\">\n     <g id=\"line2d_7\">\n      <g>\n       <use style=\"stroke:#000000;stroke-width:0.8;\" x=\"382.894183\" xlink:href=\"#m45eb541cbd\" y=\"224.64\"/>\n      </g>\n     </g>\n     <g id=\"text_7\">\n      <!-- 120 -->\n      <g transform=\"translate(373.350433 239.238438)scale(0.1 -0.1)\">\n       <use xlink:href=\"#DejaVuSans-49\"/>\n       <use x=\"63.623047\" xlink:href=\"#DejaVuSans-50\"/>\n       <use x=\"127.246094\" xlink:href=\"#DejaVuSans-48\"/>\n      </g>\n     </g>\n    </g>\n   </g>\n   <g id=\"matplotlib.axis_2\">\n    <g id=\"ytick_1\">\n     <g id=\"line2d_8\">\n      <defs>\n       <path d=\"M 0 0 \nL -3.5 0 \n\" id=\"mac7f8ed33a\" style=\"stroke:#000000;stroke-width:0.8;\"/>\n      </defs>\n      <g>\n       <use style=\"stroke:#000000;stroke-width:0.8;\" x=\"60.754688\" xlink:href=\"#mac7f8ed33a\" y=\"188.235601\"/>\n      </g>\n     </g>\n     <g id=\"text_8\">\n      <!-- −225000 -->\n      <defs>\n       <path d=\"M 10.59375 35.5 \nL 73.1875 35.5 \nL 73.1875 27.203125 \nL 10.59375 27.203125 \nz\n\" id=\"DejaVuSans-8722\"/>\n       <path d=\"M 10.796875 72.90625 \nL 49.515625 72.90625 \nL 49.515625 64.59375 \nL 19.828125 64.59375 \nL 19.828125 46.734375 \nQ 21.96875 47.46875 24.109375 47.828125 \nQ 26.265625 48.1875 28.421875 48.1875 \nQ 40.625 48.1875 47.75 41.5 \nQ 54.890625 34.8125 54.890625 23.390625 \nQ 54.890625 11.625 47.5625 5.09375 \nQ 40.234375 -1.421875 26.90625 -1.421875 \nQ 22.3125 -1.421875 17.546875 -0.640625 \nQ 12.796875 0.140625 7.71875 1.703125 \nL 7.71875 11.625 \nQ 12.109375 9.234375 16.796875 8.0625 \nQ 21.484375 6.890625 26.703125 6.890625 \nQ 35.15625 6.890625 40.078125 11.328125 \nQ 45.015625 15.765625 45.015625 23.390625 \nQ 45.015625 31 40.078125 35.4375 \nQ 35.15625 39.890625 26.703125 39.890625 \nQ 22.75 39.890625 18.8125 39.015625 \nQ 14.890625 38.140625 10.796875 36.28125 \nz\n\" id=\"DejaVuSans-53\"/>\n      </defs>\n      <g transform=\"translate(7.2 192.03482)scale(0.1 -0.1)\">\n       <use xlink:href=\"#DejaVuSans-8722\"/>\n       <use x=\"83.789062\" xlink:href=\"#DejaVuSans-50\"/>\n       <use x=\"147.412109\" xlink:href=\"#DejaVuSans-50\"/>\n       <use x=\"211.035156\" xlink:href=\"#DejaVuSans-53\"/>\n       <use x=\"274.658203\" xlink:href=\"#DejaVuSans-48\"/>\n       <use x=\"338.28125\" xlink:href=\"#DejaVuSans-48\"/>\n       <use x=\"401.904297\" xlink:href=\"#DejaVuSans-48\"/>\n      </g>\n     </g>\n    </g>\n    <g id=\"ytick_2\">\n     <g id=\"line2d_9\">\n      <g>\n       <use style=\"stroke:#000000;stroke-width:0.8;\" x=\"60.754688\" xlink:href=\"#mac7f8ed33a\" y=\"148.725063\"/>\n      </g>\n     </g>\n     <g id=\"text_9\">\n      <!-- −220000 -->\n      <g transform=\"translate(7.2 152.524282)scale(0.1 -0.1)\">\n       <use xlink:href=\"#DejaVuSans-8722\"/>\n       <use x=\"83.789062\" xlink:href=\"#DejaVuSans-50\"/>\n       <use x=\"147.412109\" xlink:href=\"#DejaVuSans-50\"/>\n       <use x=\"211.035156\" xlink:href=\"#DejaVuSans-48\"/>\n       <use x=\"274.658203\" xlink:href=\"#DejaVuSans-48\"/>\n       <use x=\"338.28125\" xlink:href=\"#DejaVuSans-48\"/>\n       <use x=\"401.904297\" xlink:href=\"#DejaVuSans-48\"/>\n      </g>\n     </g>\n    </g>\n    <g id=\"ytick_3\">\n     <g id=\"line2d_10\">\n      <g>\n       <use style=\"stroke:#000000;stroke-width:0.8;\" x=\"60.754688\" xlink:href=\"#mac7f8ed33a\" y=\"109.214526\"/>\n      </g>\n     </g>\n     <g id=\"text_10\">\n      <!-- −215000 -->\n      <g transform=\"translate(7.2 113.013745)scale(0.1 -0.1)\">\n       <use xlink:href=\"#DejaVuSans-8722\"/>\n       <use x=\"83.789062\" xlink:href=\"#DejaVuSans-50\"/>\n       <use x=\"147.412109\" xlink:href=\"#DejaVuSans-49\"/>\n       <use x=\"211.035156\" xlink:href=\"#DejaVuSans-53\"/>\n       <use x=\"274.658203\" xlink:href=\"#DejaVuSans-48\"/>\n       <use x=\"338.28125\" xlink:href=\"#DejaVuSans-48\"/>\n       <use x=\"401.904297\" xlink:href=\"#DejaVuSans-48\"/>\n      </g>\n     </g>\n    </g>\n    <g id=\"ytick_4\">\n     <g id=\"line2d_11\">\n      <g>\n       <use style=\"stroke:#000000;stroke-width:0.8;\" x=\"60.754688\" xlink:href=\"#mac7f8ed33a\" y=\"69.703988\"/>\n      </g>\n     </g>\n     <g id=\"text_11\">\n      <!-- −210000 -->\n      <g transform=\"translate(7.2 73.503207)scale(0.1 -0.1)\">\n       <use xlink:href=\"#DejaVuSans-8722\"/>\n       <use x=\"83.789062\" xlink:href=\"#DejaVuSans-50\"/>\n       <use x=\"147.412109\" xlink:href=\"#DejaVuSans-49\"/>\n       <use x=\"211.035156\" xlink:href=\"#DejaVuSans-48\"/>\n       <use x=\"274.658203\" xlink:href=\"#DejaVuSans-48\"/>\n       <use x=\"338.28125\" xlink:href=\"#DejaVuSans-48\"/>\n       <use x=\"401.904297\" xlink:href=\"#DejaVuSans-48\"/>\n      </g>\n     </g>\n    </g>\n    <g id=\"ytick_5\">\n     <g id=\"line2d_12\">\n      <g>\n       <use style=\"stroke:#000000;stroke-width:0.8;\" x=\"60.754688\" xlink:href=\"#mac7f8ed33a\" y=\"30.193451\"/>\n      </g>\n     </g>\n     <g id=\"text_12\">\n      <!-- −205000 -->\n      <g transform=\"translate(7.2 33.99267)scale(0.1 -0.1)\">\n       <use xlink:href=\"#DejaVuSans-8722\"/>\n       <use x=\"83.789062\" xlink:href=\"#DejaVuSans-50\"/>\n       <use x=\"147.412109\" xlink:href=\"#DejaVuSans-48\"/>\n       <use x=\"211.035156\" xlink:href=\"#DejaVuSans-53\"/>\n       <use x=\"274.658203\" xlink:href=\"#DejaVuSans-48\"/>\n       <use x=\"338.28125\" xlink:href=\"#DejaVuSans-48\"/>\n       <use x=\"401.904297\" xlink:href=\"#DejaVuSans-48\"/>\n      </g>\n     </g>\n    </g>\n   </g>\n   <g id=\"line2d_13\">\n    <path clip-path=\"url(#p52eb6caad9)\" d=\"M 75.972869 214.756364 \nL 78.530547 105.466171 \nL 81.088225 69.788932 \nL 83.645902 57.551523 \nL 86.20358 55.166853 \nL 88.761257 53.892778 \nL 91.318935 53.187048 \nL 93.876613 53.595128 \nL 96.43429 53.657531 \nL 98.991968 52.828915 \nL 101.549645 52.859994 \nL 104.107323 53.019864 \nL 106.665001 52.340749 \nL 109.222678 51.836487 \nL 111.780356 52.384193 \nL 114.338034 52.855172 \nL 116.895711 52.495865 \nL 119.453389 52.955533 \nL 122.011066 52.315187 \nL 124.568744 52.768358 \nL 127.126422 53.184719 \nL 129.684099 52.913523 \nL 132.241777 52.215162 \nL 134.799454 52.740886 \nL 137.357132 52.452904 \nL 139.91481 52.079837 \nL 142.472487 52.350105 \nL 145.030165 51.802268 \nL 147.587843 52.240619 \nL 150.14552 52.341321 \nL 152.703198 52.822584 \nL 155.260875 51.759692 \nL 157.818553 52.052888 \nL 160.376231 51.798299 \nL 162.933908 51.967735 \nL 165.491586 52.342562 \nL 168.049264 52.10642 \nL 170.606941 51.894489 \nL 173.164619 51.811921 \nL 175.722296 50.941935 \nL 178.279974 51.476617 \nL 180.837652 49.689961 \nL 183.395329 49.406658 \nL 185.953007 48.807729 \nL 188.510684 49.127327 \nL 191.068362 48.683383 \nL 193.62604 47.993161 \nL 196.183717 43.907111 \nL 198.741395 20.315006 \nL 201.299073 18.990566 \nL 203.85675 19.056035 \nL 206.414428 17.802539 \nL 208.972105 18.05359 \nL 211.529783 17.851615 \nL 214.087461 17.909501 \nL 216.645138 18.19555 \nL 219.202816 18.284209 \nL 221.760493 17.768893 \nL 224.318171 17.962586 \nL 226.875849 17.117944 \nL 229.433526 17.594908 \nL 231.991204 17.774403 \nL 234.548882 17.749464 \nL 237.106559 17.133291 \nL 239.664237 17.985043 \nL 242.221914 17.568256 \nL 244.779592 18.130064 \nL 247.33727 17.565817 \nL 249.894947 18.355131 \nL 252.452625 18.380239 \nL 255.010302 17.719973 \nL 257.56798 17.3858 \nL 260.125658 17.083636 \nL 262.683335 17.655011 \nL 265.241013 18.533188 \nL 267.798691 17.350769 \nL 270.356368 17.828214 \nL 272.914046 17.797546 \nL 275.471723 18.006891 \nL 278.029401 17.310708 \nL 280.587079 17.702674 \nL 283.144756 17.987937 \nL 285.702434 18.441736 \nL 288.260111 18.2344 \nL 290.817789 17.436116 \nL 293.375467 18.511262 \nL 295.933144 18.450444 \nL 298.490822 17.598495 \nL 301.0485 17.610181 \nL 303.606177 17.801045 \nL 306.163855 17.436407 \nL 308.721532 18.194299 \nL 311.27921 17.807578 \nL 313.836888 17.337709 \nL 316.394565 17.607669 \nL 318.952243 17.513077 \nL 321.509921 17.97283 \nL 324.067598 18.1099 \nL 326.625276 17.460321 \nL 329.182953 17.909773 \nL 331.740631 17.604734 \nL 334.298309 18.287566 \nL 336.855986 17.737013 \nL 339.413664 18.453069 \nL 341.971341 18.203049 \nL 344.529019 17.547559 \nL 347.086697 18.65591 \nL 349.644374 17.523942 \nL 352.202052 17.572404 \nL 354.75973 18.357314 \nL 357.317407 17.847391 \nL 359.875085 17.694503 \nL 362.432762 17.603382 \nL 364.99044 18.189952 \nL 367.548118 17.807623 \nL 370.105795 17.444453 \nL 372.663473 18.58535 \nL 375.22115 18.654081 \nL 377.778828 17.54834 \nL 380.336506 18.649612 \n\" style=\"fill:none;stroke:#1f77b4;stroke-linecap:square;stroke-width:1.5;\"/>\n   </g>\n   <g id=\"patch_3\">\n    <path d=\"M 60.754688 224.64 \nL 60.754688 7.2 \n\" style=\"fill:none;stroke:#000000;stroke-linecap:square;stroke-linejoin:miter;stroke-width:0.8;\"/>\n   </g>\n   <g id=\"patch_4\">\n    <path d=\"M 395.554688 224.64 \nL 395.554688 7.2 \n\" style=\"fill:none;stroke:#000000;stroke-linecap:square;stroke-linejoin:miter;stroke-width:0.8;\"/>\n   </g>\n   <g id=\"patch_5\">\n    <path d=\"M 60.754688 224.64 \nL 395.554688 224.64 \n\" style=\"fill:none;stroke:#000000;stroke-linecap:square;stroke-linejoin:miter;stroke-width:0.8;\"/>\n   </g>\n   <g id=\"patch_6\">\n    <path d=\"M 60.754688 7.2 \nL 395.554688 7.2 \n\" style=\"fill:none;stroke:#000000;stroke-linecap:square;stroke-linejoin:miter;stroke-width:0.8;\"/>\n   </g>\n  </g>\n </g>\n <defs>\n  <clipPath id=\"p52eb6caad9\">\n   <rect height=\"217.44\" width=\"334.8\" x=\"60.754688\" y=\"7.2\"/>\n  </clipPath>\n </defs>\n</svg>\n",
      "text/plain": "<Figure size 432x288 with 1 Axes>"
     },
     "metadata": {
      "needs_background": "light"
     },
     "output_type": "display_data"
    }
   ],
   "source": [
    "plt.plot(model.ll_list)"
   ]
  },
  {
   "cell_type": "markdown",
   "execution_count": null,
   "metadata": {},
   "outputs": [],
   "source": [
    "## 3) Model evalutation\n",
    "..."
   ]
  },
  {
   "cell_type": "code",
   "execution_count": 45,
   "metadata": {},
   "outputs": [],
   "source": [
    "clustering = model.Z"
   ]
  },
  {
   "cell_type": "code",
   "execution_count": 48,
   "metadata": {},
   "outputs": [
    {
     "data": {
      "text/plain": "array([[0., 0., 0., ..., 0., 0., 0.],\n       [0., 0., 0., ..., 0., 0., 0.],\n       [0., 0., 0., ..., 0., 0., 0.],\n       ...,\n       [0., 0., 0., ..., 0., 0., 0.],\n       [0., 0., 0., ..., 0., 0., 0.],\n       [0., 0., 0., ..., 0., 0., 0.]])"
     },
     "execution_count": 48,
     "metadata": {},
     "output_type": "execute_result"
    }
   ],
   "source": [
    "cluster1 = X_matrix_al[clustering == 0]"
   ]
  },
  {
   "cell_type": "markdown",
   "execution_count": null,
   "metadata": {},
   "outputs": [],
   "source": [
    "Here you can see the variational frequencies of a the first cluster"
   ]
  },
  {
   "cell_type": "code",
   "execution_count": 53,
   "metadata": {},
   "outputs": [
    {
     "name": "stdout",
     "output_type": "stream",
     "text": "[30.0, 1.0, 0.0, 0.0, 0.0, 4.0, 1.0, 1.0, 1.0, 0.0, 5.0, 0.0, 0.0, 5.0, 0.0, 0.0, 1.0, 0.0, 0.0, 0.0, 1.0, 0.0, 0.0, 1.0, 0.0, 1.0, 3.0, 20.0, 30.0, 1.0, 4.0, 2.0, 0.0, 0.0, 0.0, 0.0, 0.0, 1274.0, 7.0, 2.0, 2.0, 34.0, 2.0, 0.0, 2.0, 0.0, 105.0, 0.0, 0.0, 0.0, 1.0, 20.0, 0.0, 0.0, 7.0, 0.0, 0.0, 0.0, 0.0, 5.0, 1.0, 2.0, 0.0, 12.0, 0.0, 1.0, 2.0, 25.0, 0.0, 1.0, 371.0, 0.0, 13.0, 0.0, 370.0, 0.0, 1.0, 2.0, 0.0, 1.0, 1.0, 13.0, 0.0, 0.0, 1.0, 0.0, 0.0, 1.0, 0.0, 0.0, 1.0, 0.0, 1.0, 0.0, 10.0, 0.0, 1.0, 0.0, 15.0, 1.0, 2.0, 0.0, 47.0, 0.0, 0.0, 0.0, 0.0, 31.0, 1.0, 0.0, 0.0, 0.0, 0.0, 0.0, 0.0, 0.0, 0.0, 4.0, 12.0, 0.0, 0.0, 0.0, 1.0, 17.0, 0.0, 0.0, 1.0, 1.0, 0.0, 5.0, 0.0, 0.0, 0.0, 0.0, 0.0, 1.0, 0.0, 0.0, 0.0, 1.0, 1.0, 0.0, 0.0, 0.0, 0.0, 0.0, 3.0, 0.0, 71.0, 1.0, 0.0, 0.0, 0.0, 0.0, 0.0, 0.0, 0.0, 12.0, 1.0, 4.0, 0.0, 3.0, 216.0, 1.0, 0.0, 0.0, 0.0, 0.0, 0.0, 0.0, 0.0, 0.0, 0.0, 0.0, 0.0, 0.0, 0.0, 0.0, 0.0, 17.0, 0.0, 0.0, 0.0, 0.0, 2.0, 0.0, 0.0, 0.0, 0.0, 0.0, 10.0, 0.0, 0.0, 0.0, 1.0, 0.0, 0.0, 2.0, 0.0, 0.0, 0.0, 0.0, 0.0, 0.0, 0.0, 18.0, 1.0, 159.0, 0.0, 0.0, 0.0, 0.0, 0.0, 0.0, 0.0, 0.0, 0.0, 0.0, 0.0, 0.0, 0.0, 0.0, 0.0, 0.0, 0.0, 0.0, 0.0, 0.0, 0.0, 0.0, 0.0, 0.0, 1.0, 6.0, 0.0, 0.0, 0.0, 0.0, 0.0, 0.0, 2.0, 0.0, 0.0, 1.0, 0.0, 0.0, 0.0, 0.0, 5.0, 1.0, 4.0, 0.0, 1.0, 0.0, 0.0, 0.0, 0.0, 0.0, 1.0, 0.0, 0.0, 0.0, 0.0, 0.0, 3.0, 1101.0, 0.0, 0.0, 0.0, 0.0, 0.0, 1.0, 0.0, 0.0, 0.0, 0.0, 0.0, 0.0, 0.0, 0.0, 1231.0, 0.0, 0.0, 6.0, 0.0, 0.0, 0.0, 0.0, 0.0, 0.0, 0.0, 0.0, 0.0, 1.0, 0.0, 0.0, 0.0, 1.0, 0.0, 0.0, 1.0, 0.0, 0.0, 1232.0, 0.0, 0.0, 0.0, 0.0, 0.0, 0.0, 0.0, 0.0, 0.0, 0.0, 0.0, 102.0, 3.0, 0.0, 0.0, 0.0, 0.0, 7.0, 0.0, 0.0, 0.0, 1.0, 30.0, 0.0, 0.0, 0.0, 0.0, 0.0, 0.0, 1.0]\n"
    }
   ],
   "source": [
    "print(list(cluster1.sum(axis=0)))"
   ]
  },
  {
   "cell_type": "code",
   "execution_count": 54,
   "metadata": {},
   "outputs": [
    {
     "data": {
      "text/plain": "array([4.68014663e-03, 5.50934719e-04, 5.74819116e-05, 3.25779071e-04,\n       1.24033955e-04, 3.91295324e-04, 7.12719099e-04, 4.28293874e-04,\n       1.11803746e-04, 1.64733660e-04, 5.99349042e-04, 1.68658792e-04,\n       3.86785251e-05, 1.13261244e-03, 1.15580593e-04, 1.27965915e-04,\n       3.19497187e-04, 3.01523710e-04, 6.58332625e-05, 1.55345546e-05,\n       2.19574578e-04, 1.54098537e-04, 1.48216752e-04, 3.30337465e-04,\n       1.19442857e-04, 6.38681082e-05, 6.72453997e-04, 3.86816121e-03,\n       4.82784795e-03, 4.84396068e-04, 4.64199611e-04, 6.50744453e-04,\n       3.74093888e-04, 3.71592897e-05, 2.18195767e-05, 1.74846338e-04,\n       3.23824186e-05, 1.80261046e-01, 6.73550667e-04, 2.54665778e-04,\n       4.64776310e-04, 4.13149756e-03, 5.85302143e-04, 5.35811989e-05,\n       3.03045869e-04, 2.18894752e-04, 1.42144685e-02, 1.05448810e-04,\n       5.21198268e-06, 7.64922042e-04, 6.30627243e-04, 4.51730080e-03,\n       1.00422773e-04, 1.64857804e-04, 1.04679177e-03, 2.44935623e-04,\n       7.43274423e-06, 1.50298338e-04, 2.42625034e-04, 4.17716890e-04,\n       2.33568347e-04, 2.50468554e-04, 2.63725670e-04, 1.77948511e-03,\n       2.55800407e-04, 1.22745063e-04, 1.63645102e-04, 4.14738125e-03,\n       4.99202792e-05, 3.88262167e-04, 5.54717088e-02, 1.84474410e-04,\n       2.61020356e-03, 1.58912106e-04, 5.83730041e-02, 1.24027076e-04,\n       4.10309728e-04, 5.07531361e-04, 1.74477519e-04, 1.19735966e-04,\n       8.48860446e-05, 2.18162537e-03, 7.36250394e-04, 4.04000432e-05,\n       1.27666181e-04, 1.04527720e-04, 1.84869118e-04, 6.14429586e-04,\n       3.62848953e-04, 8.58199195e-05, 1.25941480e-04, 1.87548198e-04,\n       2.36791921e-04, 1.71614792e-04, 1.40006362e-03, 2.20926007e-04,\n       1.27964421e-04, 3.79585519e-05, 1.95337044e-03, 3.52354444e-04,\n       5.04787630e-04, 6.21396042e-05, 7.00674152e-03, 5.81890998e-05,\n       4.50474215e-05, 5.38372080e-05, 1.47576074e-04, 4.26439839e-03,\n       1.70002126e-04, 2.09935431e-05, 6.33100210e-05, 2.11887464e-04,\n       9.65489730e-05, 2.89198792e-04, 8.32135169e-05, 5.97174452e-05,\n       4.14676649e-04, 9.74111673e-04, 2.56373375e-03, 1.14077341e-04,\n       1.78366968e-04, 3.47144126e-04, 2.42562025e-04, 2.63253840e-03,\n       2.75456281e-04, 1.36963790e-04, 2.71716530e-04, 2.06865884e-04,\n       1.97893988e-04, 7.47650784e-04, 8.59584532e-05, 4.08771013e-04,\n       4.71547388e-05, 2.02266015e-04, 6.05880485e-05, 2.73365892e-04,\n       2.95584117e-04, 1.61758342e-05, 2.05912646e-04, 2.91492511e-04,\n       2.66531086e-04, 7.70713649e-05, 1.40581372e-04, 6.88996482e-05,\n       1.25064363e-04, 8.31946178e-06, 4.14642206e-04, 1.83028891e-04,\n       1.00301886e-02, 3.81435384e-04, 1.16465578e-04, 3.40479476e-04,\n       2.55169028e-05, 2.65824844e-05, 3.70876876e-04, 3.02387521e-05,\n       1.82328945e-04, 1.60048417e-03, 1.28910513e-04, 4.62993127e-04,\n       5.75185984e-04, 5.00485096e-04, 2.52075994e-02, 4.99500561e-04,\n       4.95726138e-04, 5.85459873e-05, 3.43317375e-05, 1.35572894e-04,\n       4.14926272e-05, 1.08447197e-04, 3.86442892e-04, 1.19737625e-04,\n       8.63805037e-05, 2.40136872e-04, 7.70763714e-05, 3.27116294e-05,\n       1.82221925e-04, 3.74999559e-05, 7.58045960e-05, 2.35728090e-03,\n       9.76963840e-05, 1.16480426e-04, 8.90002325e-05, 3.21506166e-04,\n       4.54438102e-04, 3.51220509e-04, 1.41993272e-04, 2.20820862e-04,\n       1.47342361e-05, 1.08360045e-04, 1.35585220e-03, 1.07400188e-04,\n       1.98051192e-04, 4.39522845e-05, 8.52701625e-04, 5.83242241e-05,\n       7.41261494e-04, 3.04737369e-04, 1.14544912e-04, 6.05080846e-05,\n       8.76279829e-05, 4.98156078e-05, 7.37427670e-05, 2.66983460e-04,\n       4.41240547e-04, 1.82024215e-03, 5.52693779e-04, 2.23545120e-02,\n       6.94749182e-05, 2.51638448e-05, 1.02064002e-04, 4.77480727e-05,\n       7.65168785e-05, 6.38625333e-05, 8.87785091e-04, 2.01273457e-04,\n       7.45443330e-05, 2.07340675e-04, 4.52672425e-05, 1.10126744e-05,\n       5.20393387e-05, 1.60660692e-04, 5.90943754e-05, 1.18350407e-04,\n       3.37292746e-05, 2.55438505e-05, 5.39353222e-05, 1.62894318e-04,\n       3.78161091e-04, 3.37999132e-04, 2.86294666e-04, 3.51196349e-04,\n       2.50570791e-04, 1.14151655e-03, 1.20348051e-07, 1.44160998e-04,\n       1.82840468e-04, 1.28213400e-04, 2.17245767e-04, 1.93906589e-04,\n       4.57126792e-04, 4.97638799e-04, 2.13498412e-05, 7.02397664e-04,\n       1.19332801e-04, 3.61314366e-04, 2.21291093e-06, 7.73834981e-05,\n       7.54522846e-04, 2.80649748e-04, 3.85726853e-04, 4.96573842e-04,\n       7.09616693e-05, 2.88741614e-05, 1.75567818e-04, 1.11685479e-04,\n       4.69083258e-05, 2.54543039e-04, 6.79769061e-04, 1.17313880e-04,\n       6.82207724e-05, 1.44443114e-04, 9.14513219e-05, 3.80243007e-05,\n       3.90774203e-04, 1.52213793e-01, 6.10486543e-05, 8.91543642e-05,\n       1.16876440e-05, 1.05809913e-04, 1.81431598e-06, 9.75004013e-05,\n       1.16567323e-04, 8.04792653e-06, 2.14750994e-05, 4.58449637e-06,\n       8.83220527e-05, 4.24509623e-05, 1.03532177e-04, 3.29790567e-04,\n       1.73659180e-01, 9.37483138e-06, 1.72147259e-04, 1.39289615e-03,\n       3.44261421e-04, 1.51126331e-04, 3.24982171e-04, 5.97283573e-06,\n       2.65065143e-04, 3.59979596e-05, 2.67267388e-04, 1.92518198e-05,\n       1.27308880e-04, 1.72422044e-04, 1.48577384e-05, 1.57970960e-04,\n       2.26465619e-04, 1.23536784e-04, 3.07919295e-05, 2.56066632e-04,\n       2.26830098e-04, 8.27444309e-05, 3.99323083e-05, 1.63286664e-01,\n       2.05560742e-05, 2.28984272e-05, 2.76761938e-04, 2.39113913e-04,\n       4.23803190e-04, 1.22704714e-05, 9.46201598e-05, 8.59648513e-05,\n       3.45727782e-04, 2.90602878e-04, 2.01971485e-04, 1.27191629e-02,\n       1.05607259e-03, 1.40651567e-04, 1.06748500e-04, 8.44437495e-06,\n       4.47610117e-04, 1.23861264e-03, 4.16908963e-05, 1.17454139e-05,\n       1.88669511e-04, 1.59601034e-04, 3.54486557e-03, 5.91253701e-06,\n       3.82124193e-05, 4.39012501e-05, 5.34021858e-05, 6.35383891e-04,\n       4.19222307e-04, 2.47167728e-04])"
     },
     "execution_count": 54,
     "metadata": {},
     "output_type": "execute_result"
    }
   ],
   "source": [
    "model.theta[0]"
   ]
  }
 ]
}