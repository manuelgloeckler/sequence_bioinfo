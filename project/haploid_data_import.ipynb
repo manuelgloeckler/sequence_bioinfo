{
 "cells": [
  {
   "cell_type": "markdown",
   "metadata": {},
   "source": [
    "# Data extraction and visualistation\n",
    "The Data is extracted from 1000GENOMES:phase3 project"
   ]
  },
  {
   "cell_type": "code",
   "execution_count": 1,
   "metadata": {},
   "outputs": [],
   "source": [
    "import requests, sys\n",
    "import matplotlib.pyplot as plt\n",
    "import numpy as np\n",
    "import os\n",
    "\n",
    "from Bio.Seq import Seq\n",
    "from Bio.Align import MultipleSeqAlignment\n",
    "from Bio.Align.Applications import MuscleCommandline\n",
    "from Bio.Align.Applications import MafftCommandline\n",
    "from Bio import AlignIO, SeqIO\n",
    "from Bio.Alphabet import generic_dna\n",
    "from Bio.SeqRecord import SeqRecord\n"
   ]
  },
  {
   "cell_type": "code",
   "execution_count": null,
   "metadata": {},
   "outputs": [],
   "source": []
  },
  {
   "cell_type": "markdown",
   "metadata": {},
   "source": [
    "## Get request to obtain json data"
   ]
  },
  {
   "cell_type": "code",
   "execution_count": 4,
   "metadata": {},
   "outputs": [
    {
     "name": "stdout",
     "output_type": "stream",
     "text": [
      "Stored 'ensembl_data' (dict)\n"
     ]
    }
   ],
   "source": [
    "#%store -d ensembl_data # uncomment to send a new GET request\n",
    "ensembl_data = None\n",
    "%store -r ensembl_data\n",
    "if ensembl_data is None:\n",
    "    print(\"Sending GET request, this might take a while...\")\n",
    "    server = \"https://rest.ensembl.org/transcript_haplotypes/homo_sapiens/\"\n",
    "    # Choose different extension for different gene\n",
    "    ext = \"ENST00000380152?content-type=application/json;sequence=1\"\n",
    "\n",
    "    r = requests.get(server + ext, headers={ \"Content-Type\" : \"application/json\"})\n",
    "    \n",
    "    \n",
    "    if not r.ok:\n",
    "      r.raise_for_status()\n",
    "      sys.exit()\n",
    "    print(\"Data received, decoding...\")\n",
    "    ensembl_data = r.json()\n",
    "    print(\"Done.\")\n",
    "%store ensembl_data\n",
    "#ensembl_data.keys()"
   ]
  },
  {
   "cell_type": "code",
   "execution_count": 5,
   "metadata": {},
   "outputs": [
    {
     "data": {
      "text/plain": [
       "'ENST00000380152'"
      ]
     },
     "execution_count": 5,
     "metadata": {},
     "output_type": "execute_result"
    }
   ],
   "source": [
    "# ID of the transcript, where we investigate the haplotypes\n",
    "ensembl_data[\"transcript_id\"]"
   ]
  },
  {
   "cell_type": "markdown",
   "metadata": {},
   "source": [
    "### Populations counts\n",
    "Frequencies of sampled individuals that were sequenced to obtain this haplotypes"
   ]
  },
  {
   "cell_type": "code",
   "execution_count": 6,
   "metadata": {},
   "outputs": [
    {
     "data": {
      "text/plain": [
       "<BarContainer object of 31 artists>"
      ]
     },
     "execution_count": 6,
     "metadata": {},
     "output_type": "execute_result"
    },
    {
     "data": {
      "image/png": "[encoded data removed]",
      "text/plain": [
       "<Figure size 1080x360 with 1 Axes>"
      ]
     },
     "metadata": {
      "needs_background": "light"
     },
     "output_type": "display_data"
    }
   ],
   "source": [
    "population_counts = ensembl_data[\"total_population_counts\"]\n",
    "populations = []\n",
    "counts = []\n",
    "for key in population_counts:\n",
    "    if not ('_all' in key or ':ALL' in key):\n",
    "        name = key.split(sep=\":\")\n",
    "        populations.append(name[2])\n",
    "        counts.append(population_counts[key])\n",
    "\n",
    "plt.figure(figsize=(15, 5))\n",
    "plt.title(\"A total of \" + str(population_counts[\"_all\"]) + \" individuals from \" + str(len(population_counts)-2) + \" different locations where investigated\")\n",
    "plt.xlabel(\"Region\")\n",
    "plt.ylabel(\"Frequency\")\n",
    "plt.bar(populations, counts, align='center')\n",
    "    "
   ]
  },
  {
   "cell_type": "markdown",
   "metadata": {},
   "source": [
    "## Extract sequence data"
   ]
  },
  {
   "cell_type": "code",
   "execution_count": 7,
   "metadata": {},
   "outputs": [],
   "source": [
    "haplotypes = ensembl_data[\"cds_haplotypes\"]\n",
    "#haplotypes"
   ]
  },
  {
   "cell_type": "code",
   "execution_count": 8,
   "metadata": {},
   "outputs": [],
   "source": [
    "def prune_haplotypes(haplotypes):\n",
    "    ''' Takes a dictionary as returned by e!ensembl and removes all data we don't need.\n",
    "    Additionally it maps regions to sequences instead of the other way around.\n",
    "    \n",
    "    Params:\n",
    "        haplotypes (dict): Dictionary as returned by e!ensembl\n",
    "        \n",
    "    Returns:\n",
    "        dict: {Region: [{name: name, seq: sequence, count: count}]} dictionary mapping a region to its sequences,\n",
    "        their names and the amount of times this sequence was found in the respective region.\n",
    "    '''\n",
    "    pruned_haplo_dict = {}\n",
    "    for haplotype in haplotypes:\n",
    "        name = haplotype['name']\n",
    "        sequence = haplotype['seq']\n",
    "        population_counts = haplotype['population_counts']\n",
    "        for population in population_counts:\n",
    "            count = population_counts[population]\n",
    "            if population in pruned_haplo_dict:\n",
    "                pruned_haplo_dict[population].append({'name' : name, 'seq': sequence, 'count': count})\n",
    "            else:\n",
    "                pruned_haplo_dict[population] = [{'name' : name, 'seq': sequence, 'count': count}]\n",
    "    return pruned_haplo_dict\n",
    "            \n",
    "                "
   ]
  },
  {
   "cell_type": "code",
   "execution_count": 9,
   "metadata": {},
   "outputs": [],
   "source": [
    "pruned_haplos = prune_haplotypes(haplotypes)\n",
    "#pruned_haplos"
   ]
  },
  {
   "cell_type": "code",
   "execution_count": 8,
   "metadata": {},
   "outputs": [],
   "source": [
    "seqs = []\n",
    "i = 0\n",
    "for haplo in haplotypes:\n",
    "    i += 1\n",
    "    seqs.append(SeqRecord(Seq(haplo[\"seq\"], generic_dna), id=str(i)))"
   ]
  },
  {
   "cell_type": "code",
   "execution_count": 9,
   "metadata": {},
   "outputs": [],
   "source": [
    "def muscle_alignment(seqs):\n",
    "    \"\"\"Align 2 sequences with muscle\"\"\"\n",
    "    filename = 'temp.faa'\n",
    "    SeqIO.write(seqs, filename, \"fasta\")\n",
    "    name = os.path.splitext(filename)[0]\n",
    "    from Bio.Align.Applications import MuscleCommandline\n",
    "    cline = MuscleCommandline(input=filename, out=name+'.txt')\n",
    "    stdout, stderr = cline()\n",
    "    align = AlignIO.read(name+'.txt', 'fasta')\n",
    "    return align\n",
    "\n",
    "def mafft_alignment(seqs):\n",
    "    \"\"\"Align 2 sequences with muscle\"\"\"\n",
    "    filename = 'temp.faa'\n",
    "    SeqIO.write(seqs, filename, \"fasta\")\n",
    "    name = os.path.splitext(filename)[0]\n",
    "\n",
    "    cline = MuscleCommandline(input=filename, out=name+'.txt')\n",
    "    stdout, stderr = cline()\n",
    "    align = AlignIO.read(name+'.txt', 'fasta')\n",
    "    return align    "
   ]
  },
  {
   "cell_type": "code",
   "execution_count": 13,
   "metadata": {},
   "outputs": [
    {
     "ename": "ApplicationError",
     "evalue": "Non-zero return code 127 from 'muscle -in temp.faa -out temp.txt', message '/bin/sh: 1: muscle: not found'",
     "output_type": "error",
     "traceback": [
      "\u001b[0;31m---------------------------------------------------------------------------\u001b[0m",
      "\u001b[0;31mApplicationError\u001b[0m                          Traceback (most recent call last)",
      "\u001b[0;32m<ipython-input-13-8207e99506f5>\u001b[0m in \u001b[0;36m<module>\u001b[0;34m\u001b[0m\n\u001b[0;32m----> 1\u001b[0;31m \u001b[0malign\u001b[0m \u001b[0;34m=\u001b[0m \u001b[0mmafft_alignment\u001b[0m\u001b[0;34m(\u001b[0m\u001b[0mseqs\u001b[0m\u001b[0;34m)\u001b[0m\u001b[0;34m\u001b[0m\u001b[0;34m\u001b[0m\u001b[0m\n\u001b[0m",
      "\u001b[0;32m<ipython-input-9-38048a009943>\u001b[0m in \u001b[0;36mmafft_alignment\u001b[0;34m(seqs)\u001b[0m\n\u001b[1;32m     17\u001b[0m \u001b[0;34m\u001b[0m\u001b[0m\n\u001b[1;32m     18\u001b[0m     \u001b[0mcline\u001b[0m \u001b[0;34m=\u001b[0m \u001b[0mMuscleCommandline\u001b[0m\u001b[0;34m(\u001b[0m\u001b[0minput\u001b[0m\u001b[0;34m=\u001b[0m\u001b[0mfilename\u001b[0m\u001b[0;34m,\u001b[0m \u001b[0mout\u001b[0m\u001b[0;34m=\u001b[0m\u001b[0mname\u001b[0m\u001b[0;34m+\u001b[0m\u001b[0;34m'.txt'\u001b[0m\u001b[0;34m)\u001b[0m\u001b[0;34m\u001b[0m\u001b[0;34m\u001b[0m\u001b[0m\n\u001b[0;32m---> 19\u001b[0;31m     \u001b[0mstdout\u001b[0m\u001b[0;34m,\u001b[0m \u001b[0mstderr\u001b[0m \u001b[0;34m=\u001b[0m \u001b[0mcline\u001b[0m\u001b[0;34m(\u001b[0m\u001b[0;34m)\u001b[0m\u001b[0;34m\u001b[0m\u001b[0;34m\u001b[0m\u001b[0m\n\u001b[0m\u001b[1;32m     20\u001b[0m     \u001b[0malign\u001b[0m \u001b[0;34m=\u001b[0m \u001b[0mAlignIO\u001b[0m\u001b[0;34m.\u001b[0m\u001b[0mread\u001b[0m\u001b[0;34m(\u001b[0m\u001b[0mname\u001b[0m\u001b[0;34m+\u001b[0m\u001b[0;34m'.txt'\u001b[0m\u001b[0;34m,\u001b[0m \u001b[0;34m'fasta'\u001b[0m\u001b[0;34m)\u001b[0m\u001b[0;34m\u001b[0m\u001b[0;34m\u001b[0m\u001b[0m\n\u001b[1;32m     21\u001b[0m     \u001b[0;32mreturn\u001b[0m \u001b[0malign\u001b[0m\u001b[0;34m\u001b[0m\u001b[0;34m\u001b[0m\u001b[0m\n",
      "\u001b[0;32m~/.local/lib/python3.6/site-packages/Bio/Application/__init__.py\u001b[0m in \u001b[0;36m__call__\u001b[0;34m(self, stdin, stdout, stderr, cwd, env)\u001b[0m\n\u001b[1;32m    525\u001b[0m         \u001b[0;32mif\u001b[0m \u001b[0mreturn_code\u001b[0m\u001b[0;34m:\u001b[0m\u001b[0;34m\u001b[0m\u001b[0;34m\u001b[0m\u001b[0m\n\u001b[1;32m    526\u001b[0m             raise ApplicationError(return_code, str(self),\n\u001b[0;32m--> 527\u001b[0;31m                                    stdout_str, stderr_str)\n\u001b[0m\u001b[1;32m    528\u001b[0m         \u001b[0;32mreturn\u001b[0m \u001b[0mstdout_str\u001b[0m\u001b[0;34m,\u001b[0m \u001b[0mstderr_str\u001b[0m\u001b[0;34m\u001b[0m\u001b[0;34m\u001b[0m\u001b[0m\n\u001b[1;32m    529\u001b[0m \u001b[0;34m\u001b[0m\u001b[0m\n",
      "\u001b[0;31mApplicationError\u001b[0m: Non-zero return code 127 from 'muscle -in temp.faa -out temp.txt', message '/bin/sh: 1: muscle: not found'"
     ]
    }
   ],
   "source": [
    "align = mafft_alignment(seqs)"
   ]
  },
  {
   "cell_type": "code",
   "execution_count": null,
   "metadata": {},
   "outputs": [],
   "source": []
  }
 ],
 "metadata": {
  "kernelspec": {
   "display_name": "Python 3",
   "language": "python",
   "name": "python3"
  },
  "language_info": {
   "codemirror_mode": {
    "name": "ipython",
    "version": 3
   },
   "file_extension": ".py",
   "mimetype": "text/x-python",
   "name": "python",
   "nbconvert_exporter": "python",
   "pygments_lexer": "ipython3",
   "version": "3.6.8"
  }
 },
 "nbformat": 4,
 "nbformat_minor": 2
}
