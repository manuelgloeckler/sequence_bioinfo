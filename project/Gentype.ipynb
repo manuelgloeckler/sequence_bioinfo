{
 "cells": [
  {
   "cell_type": "code",
   "execution_count": 1,
   "metadata": {},
   "outputs": [],
   "source": [
    "from gentype import EnsemblClient, DataManager, PiCollapsedNonparametricGibbsSampler"
   ]
  },
  {
   "cell_type": "markdown",
   "metadata": {},
   "source": [
    "Set up Classes:"
   ]
  },
  {
   "cell_type": "code",
   "execution_count": 2,
   "metadata": {},
   "outputs": [],
   "source": [
    "Database_Name = \"Gentype_DB\"\n",
    "client = EnsemblClient()\n",
    "data_manager = DataManager(client, Database_Name)"
   ]
  },
  {
   "cell_type": "markdown",
   "metadata": {},
   "source": [
    "The following will fill the Database which can be expected to take a while. If the database was already filled it is not necessary to execute the cell below.\n",
    "You can however copy and alter specific statements to fetch different data.\n",
    "In order to inspect the resulting database I recommend https://sqlitebrowser.org/.\n",
    "The database should be found in the same directory as this notebook."
   ]
  },
  {
   "cell_type": "code",
   "execution_count": 3,
   "metadata": {},
   "outputs": [],
   "source": [
    "data_manager.fetch_reference_set()\n",
    "data_manager.fetch_reference_sequences(\"GRCh37.p13\")\n",
    "data_manager.fetch_populations(pop_filter = None)\n",
    "data_manager.fetch_individuals()\n",
    "data_manager.fetch_individuals(\"CHB\", \"1000GENOMES:phase_3\")\n",
    "data_manager.fetch_variants(17671934, 17675934, \"22\")"
   ]
  },
  {
   "cell_type": "markdown",
   "metadata": {},
   "source": [
    "The following generates a inference matrix from the data provided by the local database. The inference matrix can be constructed with respect to a population and a section specified by start and end. Be sure to fetch the according population before constructing the matrix."
   ]
  },
  {
   "cell_type": "code",
   "execution_count": 8,
   "metadata": {},
   "outputs": [
    {
     "data": {
      "text/plain": [
       "(103, 123)"
      ]
     },
     "execution_count": 8,
     "metadata": {},
     "output_type": "execute_result"
    }
   ],
   "source": [
    "inference_matrix = data_manager.generate_inference_matrix(start = 17671934, end = 17675934, population = \"CHB\")\n",
    "inference_matrix.shape"
   ]
  },
  {
   "cell_type": "markdown",
   "metadata": {},
   "source": [
    "The following cell runs the sampler using the inference matrix."
   ]
  },
  {
   "cell_type": "code",
   "execution_count": 10,
   "metadata": {},
   "outputs": [
    {
     "name": "stdout",
     "output_type": "stream",
     "text": [
      "Iteration: 1; Current clusters: 2; Likelihood:   -846.579\n",
      "Iteration: 2; Current clusters: 1; Likelihood:   -794.950\n",
      "Iteration: 3; Current clusters: 1; Likelihood:   -807.332\n",
      "Iteration: 4; Current clusters: 1; Likelihood:   -788.632\n",
      "Iteration: 5; Current clusters: 1; Likelihood:   -790.156\n",
      "Iteration: 6; Current clusters: 1; Likelihood:   -799.969\n",
      "Iteration: 7; Current clusters: 1; Likelihood:   -785.419\n",
      "Iteration: 8; Current clusters: 1; Likelihood:   -800.578\n",
      "Iteration: 9; Current clusters: 1; Likelihood:   -784.470\n",
      "Iteration: 10; Current clusters: 1; Likelihood:   -817.566\n",
      "Iteration: 11; Current clusters: 1; Likelihood:   -807.962\n",
      "Iteration: 12; Current clusters: 1; Likelihood:   -791.088\n",
      "Iteration: 13; Current clusters: 1; Likelihood:   -780.603\n",
      "Iteration: 14; Current clusters: 1; Likelihood:   -800.377\n",
      "Iteration: 15; Current clusters: 1; Likelihood:   -793.273\n",
      "Iteration: 16; Current clusters: 1; Likelihood:   -808.522\n",
      "Iteration: 17; Current clusters: 1; Likelihood:   -801.812\n",
      "Iteration: 18; Current clusters: 1; Likelihood:   -814.798\n",
      "Iteration: 19; Current clusters: 1; Likelihood:   -779.903\n",
      "Iteration: 20; Current clusters: 1; Likelihood:   -811.624\n",
      "Iteration: 21; Current clusters: 1; Likelihood:   -794.310\n"
     ]
    }
   ],
   "source": [
    "sampler = PiCollapsedNonparametricGibbsSampler()\n",
    "sampler.fit(inference_matrix)"
   ]
  },
  {
   "cell_type": "markdown",
   "metadata": {},
   "source": [
    "The following generates the distribution (as a dict) of number of variations per strand in the specified region. I.e. {n : #strands with n variations}."
   ]
  },
  {
   "cell_type": "code",
   "execution_count": 4,
   "metadata": {},
   "outputs": [
    {
     "data": {
      "text/plain": [
       "{2: 137, 1: 6, 3: 54, 4: 8, 5: 1}"
      ]
     },
     "execution_count": 4,
     "metadata": {},
     "output_type": "execute_result"
    }
   ],
   "source": [
    "distribution = data_manager.get_variation_distribution(start = 17671934, end = 17675934, population = \"CHB\")\n",
    "distribution"
   ]
  },
  {
   "cell_type": "code",
   "execution_count": null,
   "metadata": {},
   "outputs": [],
   "source": []
  }
 ],
 "metadata": {
  "kernelspec": {
   "display_name": "Python 3",
   "language": "python",
   "name": "python3"
  },
  "language_info": {
   "codemirror_mode": {
    "name": "ipython",
    "version": 3
   },
   "file_extension": ".py",
   "mimetype": "text/x-python",
   "name": "python",
   "nbconvert_exporter": "python",
   "pygments_lexer": "ipython3",
   "version": "3.6.9"
  }
 },
 "nbformat": 4,
 "nbformat_minor": 2
}
