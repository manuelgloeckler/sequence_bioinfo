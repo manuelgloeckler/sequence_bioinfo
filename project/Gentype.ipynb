{
 "cells": [
  {
   "cell_type": "code",
   "execution_count": 1,
   "metadata": {},
   "outputs": [],
   "source": [
    "from gentype import EnsemblClient, DataManager, PiCollapsedNonparametricGibbsSampler"
   ]
  },
  {
   "cell_type": "markdown",
   "metadata": {},
   "source": [
    "Set up Classes:"
   ]
  },
  {
   "cell_type": "code",
   "execution_count": 2,
   "metadata": {},
   "outputs": [],
   "source": [
    "Database_Name = \"Gentype_DB\"\n",
    "client = EnsemblClient()\n",
    "data_manager = DataManager(client, Database_Name)"
   ]
  },
  {
   "cell_type": "markdown",
   "metadata": {},
   "source": [
    "The following will fill the Database which can be expected to take a while. If the database was already filled it is not necessary to execute the cell below.\n",
    "You can however copy and alter specific statements to fetch different data.\n",
    "In order to inspect the resulting database I recommend https://sqlitebrowser.org/.\n",
    "The database should be found in the same directory as this notebook."
   ]
  },
  {
   "cell_type": "code",
   "execution_count": 3,
   "metadata": {},
   "outputs": [],
   "source": [
    "data_manager.fetch_reference_set()\n",
    "data_manager.fetch_reference_sequences(\"GRCh37.p13\")\n",
    "data_manager.fetch_populations(pop_filter = None)\n",
    "data_manager.fetch_individuals()\n",
    "data_manager.fetch_individuals(\"CHB\", \"1000GENOMES:phase_3\")\n",
    "data_manager.fetch_variants(17671934, 17675934, \"22\")"
   ]
  },
  {
   "cell_type": "markdown",
   "metadata": {},
   "source": [
    "The following generates a inference matrix from the data provided by the local database. The inference matrix can be constructed with respect to a population and a section specified by start and end. Be sure to fetch the according population before construction the matrix."
   ]
  },
  {
   "cell_type": "code",
   "execution_count": 6,
   "metadata": {},
   "outputs": [
    {
     "data": {
      "text/plain": [
       "(2504, 123)"
      ]
     },
     "execution_count": 6,
     "metadata": {},
     "output_type": "execute_result"
    }
   ],
   "source": [
    "inference_matrix = data_manager.generate_inference_matrix(start = 17671934, end = 17675934, population = \"ALL\")\n",
    "inference_matrix.shape"
   ]
  },
  {
   "cell_type": "markdown",
   "metadata": {},
   "source": [
    "The following cell runs the sampler with the inference matrix."
   ]
  },
  {
   "cell_type": "code",
   "execution_count": 7,
   "metadata": {},
   "outputs": [
    {
     "name": "stdout",
     "output_type": "stream",
     "text": [
      "Iteration: 1; Current clusters: 3; Likelihood: -28968.778\n",
      "Iteration: 2; Current clusters: 2; Likelihood: -28930.802\n",
      "Iteration: 3; Current clusters: 2; Likelihood: -28912.060\n",
      "Iteration: 4; Current clusters: 2; Likelihood: -28838.925\n",
      "Iteration: 5; Current clusters: 2; Likelihood: -28846.841\n",
      "Iteration: 6; Current clusters: 2; Likelihood: -28816.714\n",
      "Iteration: 7; Current clusters: 2; Likelihood: -28818.587\n",
      "Iteration: 8; Current clusters: 2; Likelihood: -28812.185\n",
      "Iteration: 9; Current clusters: 2; Likelihood: -28793.387\n",
      "Iteration: 10; Current clusters: 2; Likelihood: -28762.678\n",
      "Iteration: 11; Current clusters: 2; Likelihood: -28771.244\n",
      "Iteration: 12; Current clusters: 2; Likelihood: -28699.184\n",
      "Iteration: 13; Current clusters: 2; Likelihood: -28618.639\n",
      "Iteration: 14; Current clusters: 2; Likelihood: -28530.348\n",
      "Iteration: 15; Current clusters: 2; Likelihood: -28455.006\n",
      "Iteration: 16; Current clusters: 2; Likelihood: -28185.044\n",
      "Iteration: 17; Current clusters: 2; Likelihood: -27960.246\n",
      "Iteration: 18; Current clusters: 2; Likelihood: -27731.945\n",
      "Iteration: 19; Current clusters: 2; Likelihood: -27689.586\n",
      "Iteration: 20; Current clusters: 2; Likelihood: -27722.940\n",
      "Iteration: 21; Current clusters: 2; Likelihood: -27710.674\n",
      "Iteration: 22; Current clusters: 2; Likelihood: -27718.161\n",
      "Iteration: 23; Current clusters: 2; Likelihood: -27675.544\n",
      "Iteration: 24; Current clusters: 2; Likelihood: -27679.220\n",
      "Iteration: 25; Current clusters: 2; Likelihood: -27638.135\n",
      "Iteration: 26; Current clusters: 2; Likelihood: -27661.904\n",
      "Iteration: 27; Current clusters: 2; Likelihood: -27641.502\n",
      "Iteration: 28; Current clusters: 2; Likelihood: -27652.038\n",
      "Iteration: 29; Current clusters: 2; Likelihood: -27636.781\n",
      "Iteration: 30; Current clusters: 2; Likelihood: -27617.240\n",
      "Iteration: 31; Current clusters: 2; Likelihood: -27643.112\n",
      "Iteration: 32; Current clusters: 2; Likelihood: -27644.107\n",
      "Iteration: 33; Current clusters: 2; Likelihood: -27615.687\n",
      "Iteration: 34; Current clusters: 2; Likelihood: -27623.189\n",
      "Iteration: 35; Current clusters: 2; Likelihood: -27608.086\n",
      "Iteration: 36; Current clusters: 2; Likelihood: -27606.230\n",
      "Iteration: 37; Current clusters: 2; Likelihood: -27620.954\n",
      "Iteration: 38; Current clusters: 2; Likelihood: -27631.832\n",
      "Iteration: 39; Current clusters: 2; Likelihood: -27620.787\n",
      "Iteration: 40; Current clusters: 2; Likelihood: -27616.326\n",
      "Iteration: 41; Current clusters: 2; Likelihood: -27591.041\n",
      "Iteration: 42; Current clusters: 2; Likelihood: -27604.475\n",
      "Iteration: 43; Current clusters: 2; Likelihood: -27641.596\n",
      "Iteration: 44; Current clusters: 2; Likelihood: -27598.086\n",
      "Iteration: 45; Current clusters: 2; Likelihood: -27583.904\n",
      "Iteration: 46; Current clusters: 2; Likelihood: -27643.729\n",
      "Iteration: 47; Current clusters: 2; Likelihood: -27617.578\n",
      "Iteration: 48; Current clusters: 2; Likelihood: -27643.967\n"
     ]
    }
   ],
   "source": [
    "sampler = PiCollapsedNonparametricGibbsSampler()\n",
    "sampler.fit(inference_matrix)"
   ]
  },
  {
   "cell_type": "markdown",
   "metadata": {},
   "source": [
    "The following generates the distribution (as a dict) of number of variations per strand in the specified region. I.e. {n : #strands with n variations}"
   ]
  },
  {
   "cell_type": "code",
   "execution_count": 4,
   "metadata": {},
   "outputs": [
    {
     "data": {
      "text/plain": [
       "{2: 137, 1: 6, 3: 54, 4: 8, 5: 1}"
      ]
     },
     "execution_count": 4,
     "metadata": {},
     "output_type": "execute_result"
    }
   ],
   "source": [
    "distribution = data_manager.get_variation_distribution(start = 17671934, end = 17675934, population = \"CHB\")\n",
    "distribution"
   ]
  },
  {
   "cell_type": "code",
   "execution_count": null,
   "metadata": {},
   "outputs": [],
   "source": []
  }
 ],
 "metadata": {
  "kernelspec": {
   "display_name": "Python 3",
   "language": "python",
   "name": "python3"
  },
  "language_info": {
   "codemirror_mode": {
    "name": "ipython",
    "version": 3
   },
   "file_extension": ".py",
   "mimetype": "text/x-python",
   "name": "python",
   "nbconvert_exporter": "python",
   "pygments_lexer": "ipython3",
   "version": "3.6.9"
  }
 },
 "nbformat": 4,
 "nbformat_minor": 2
}
