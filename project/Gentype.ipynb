{
 "cells": [
  {
   "cell_type": "code",
   "execution_count": 1,
   "metadata": {},
   "outputs": [],
   "source": [
    "from gentype import EnsemblClient, DataManager, PiCollapsedNonparametricGibbsSampler\n",
    "import matplotlib.pyplot as plt\n",
    "import numpy as np"
   ]
  },
  {
   "cell_type": "markdown",
   "metadata": {},
   "source": [
    "Set up Classes:"
   ]
  },
  {
   "cell_type": "code",
   "execution_count": 2,
   "metadata": {},
   "outputs": [],
   "source": [
    "Database_Name = \"Gentype_DB\"\n",
    "client = EnsemblClient()\n",
    "data_manager = DataManager(client, Database_Name)"
   ]
  },
  {
   "cell_type": "markdown",
   "metadata": {},
   "source": [
    "The following will fill the Database which can be expected to take a while. If the database was already filled it is not necessary to execute the cell below.\n",
    "You can however copy and alter specific statements to fetch different data.\n",
    "In order to inspect the resulting database I recommend https://sqlitebrowser.org/.\n",
    "The database should be found in the same directory as this notebook."
   ]
  },
  {
   "cell_type": "code",
   "execution_count": 3,
   "metadata": {},
   "outputs": [],
   "source": [
    "data_manager.fetch_reference_set()\n",
    "data_manager.fetch_reference_sequences(\"GRCh38\")\n",
    "data_manager.fetch_populations(pop_filter = None)\n",
    "# fetch_individuals defaults to ALL\n",
    "data_manager.fetch_individuals()\n",
    "#in order to relate the individuals to specific populations we need to fetch them with respect to that population\n",
    "data_manager.fetch_individuals(\"CHB\", \"1000GENOMES:phase_3\") \n",
    "data_manager.fetch_variants(17671934, 17681934, \"22\")"
   ]
  },
  {
   "cell_type": "markdown",
   "metadata": {},
   "source": [
    "The following generates a inference matrix from the data provided by the local database. The inference matrix can be constructed with respect to a population and a section specified by start and end. Be sure to fetch the according population before constructing the matrix. If _sum_allels = True_ is passed, the expression for an individual per allele will be summed (if expressed on both -> 2, on one -> 1, on neither -> 0). Otherwise each strand will be represented by a seperate row.\n",
    "\n",
    "idv_map and var_map map the used individuals / variations to the corresponding row/column in the inference matrix."
   ]
  },
  {
   "cell_type": "code",
   "execution_count": 4,
   "metadata": {},
   "outputs": [
    {
     "data": {
      "text/plain": [
       "(206, 279)"
      ]
     },
     "execution_count": 4,
     "metadata": {},
     "output_type": "execute_result"
    }
   ],
   "source": [
    "inference_matrix, idv_map, var_map = data_manager.generate_inference_matrix(start = 17671934, end = 17681934, population = \"CHB\")\n",
    "inference_matrix.shape"
   ]
  },
  {
   "cell_type": "markdown",
   "metadata": {},
   "source": [
    "The following cell runs the sampler using the inference matrix."
   ]
  },
  {
   "cell_type": "code",
   "execution_count": 5,
   "metadata": {},
   "outputs": [
    {
     "name": "stdout",
     "output_type": "stream",
     "text": [
      "Iteration: 1; Current clusters: 3; Likelihood:  -7076.348\n",
      "Iteration: 2; Current clusters: 3; Likelihood:  -7032.508\n",
      "Iteration: 3; Current clusters: 2; Likelihood:  -6971.953\n",
      "Iteration: 4; Current clusters: 2; Likelihood:  -6978.917\n",
      "Iteration: 5; Current clusters: 2; Likelihood:  -6979.027\n",
      "Iteration: 6; Current clusters: 2; Likelihood:  -6973.055\n",
      "Iteration: 7; Current clusters: 2; Likelihood:  -6982.961\n",
      "Iteration: 8; Current clusters: 2; Likelihood:  -6985.855\n",
      "Iteration: 9; Current clusters: 2; Likelihood:  -6975.861\n",
      "Iteration: 10; Current clusters: 2; Likelihood:  -7004.473\n",
      "Iteration: 11; Current clusters: 2; Likelihood:  -6993.524\n",
      "Iteration: 12; Current clusters: 2; Likelihood:  -6985.737\n",
      "Iteration: 13; Current clusters: 2; Likelihood:  -7013.476\n",
      "Iteration: 14; Current clusters: 2; Likelihood:  -6956.935\n",
      "Iteration: 15; Current clusters: 2; Likelihood:  -6999.958\n",
      "Iteration: 16; Current clusters: 2; Likelihood:  -6982.080\n",
      "Iteration: 17; Current clusters: 2; Likelihood:  -6964.833\n",
      "Iteration: 18; Current clusters: 2; Likelihood:  -6958.280\n",
      "Iteration: 19; Current clusters: 2; Likelihood:  -7006.478\n",
      "Iteration: 20; Current clusters: 2; Likelihood:  -6985.908\n",
      "Iteration: 21; Current clusters: 2; Likelihood:  -6983.620\n",
      "Iteration: 22; Current clusters: 2; Likelihood:  -6991.374\n",
      "Iteration: 23; Current clusters: 2; Likelihood:  -7002.221\n",
      "Iteration: 24; Current clusters: 2; Likelihood:  -7006.564\n",
      "Iteration: 25; Current clusters: 2; Likelihood:  -6987.289\n",
      "Iteration: 26; Current clusters: 2; Likelihood:  -6988.271\n",
      "Iteration: 27; Current clusters: 2; Likelihood:  -6966.605\n",
      "Iteration: 28; Current clusters: 2; Likelihood:  -6973.060\n",
      "Iteration: 29; Current clusters: 2; Likelihood:  -6996.077\n",
      "Iteration: 30; Current clusters: 2; Likelihood:  -6962.387\n",
      "Iteration: 31; Current clusters: 2; Likelihood:  -7010.786\n",
      "Iteration: 32; Current clusters: 2; Likelihood:  -6985.847\n",
      "Iteration: 33; Current clusters: 2; Likelihood:  -6978.780\n",
      "Iteration: 34; Current clusters: 2; Likelihood:  -6976.864\n",
      "Iteration: 35; Current clusters: 2; Likelihood:  -6968.042\n",
      "Iteration: 36; Current clusters: 2; Likelihood:  -6985.724\n",
      "Iteration: 37; Current clusters: 2; Likelihood:  -7020.175\n",
      "Iteration: 38; Current clusters: 2; Likelihood:  -6960.415\n",
      "Iteration: 39; Current clusters: 2; Likelihood:  -6982.811\n",
      "Iteration: 40; Current clusters: 2; Likelihood:  -6977.461\n",
      "Iteration: 41; Current clusters: 2; Likelihood:  -7009.498\n",
      "Iteration: 42; Current clusters: 2; Likelihood:  -6988.233\n",
      "Iteration: 43; Current clusters: 2; Likelihood:  -6973.793\n",
      "Iteration: 44; Current clusters: 2; Likelihood:  -7005.069\n",
      "Iteration: 45; Current clusters: 2; Likelihood:  -6976.746\n",
      "Iteration: 46; Current clusters: 2; Likelihood:  -7007.274\n",
      "Iteration: 47; Current clusters: 2; Likelihood:  -7021.476\n",
      "Iteration: 48; Current clusters: 2; Likelihood:  -7025.679\n",
      "Iteration: 49; Current clusters: 2; Likelihood:  -7043.884\n",
      "Iteration: 50; Current clusters: 2; Likelihood:  -7020.561\n",
      "Iteration: 51; Current clusters: 2; Likelihood:  -7000.508\n",
      "Iteration: 52; Current clusters: 2; Likelihood:  -6982.211\n",
      "Iteration: 53; Current clusters: 2; Likelihood:  -6989.992\n",
      "Iteration: 54; Current clusters: 2; Likelihood:  -6965.871\n",
      "Iteration: 55; Current clusters: 2; Likelihood:  -7032.180\n",
      "Iteration: 56; Current clusters: 2; Likelihood:  -6997.442\n",
      "Iteration: 57; Current clusters: 3; Likelihood:  -6976.995\n",
      "Iteration: 58; Current clusters: 2; Likelihood:  -6958.471\n",
      "Iteration: 59; Current clusters: 2; Likelihood:  -7001.255\n",
      "Iteration: 60; Current clusters: 3; Likelihood:  -6978.892\n",
      "Iteration: 61; Current clusters: 2; Likelihood:  -6988.119\n",
      "Iteration: 62; Current clusters: 2; Likelihood:  -6986.703\n",
      "Iteration: 63; Current clusters: 3; Likelihood:  -7004.166\n",
      "Iteration: 64; Current clusters: 2; Likelihood:  -7032.300\n",
      "Iteration: 65; Current clusters: 2; Likelihood:  -6989.020\n",
      "Iteration: 66; Current clusters: 3; Likelihood:  -7000.329\n",
      "Iteration: 67; Current clusters: 2; Likelihood:  -6987.589\n",
      "Iteration: 68; Current clusters: 2; Likelihood:  -6996.541\n",
      "Iteration: 69; Current clusters: 2; Likelihood:  -7001.090\n",
      "Iteration: 70; Current clusters: 2; Likelihood:  -6989.016\n",
      "Iteration: 71; Current clusters: 2; Likelihood:  -7011.533\n",
      "Iteration: 72; Current clusters: 2; Likelihood:  -6983.219\n",
      "Iteration: 73; Current clusters: 3; Likelihood:  -7038.116\n",
      "Iteration: 74; Current clusters: 2; Likelihood:  -6986.332\n",
      "Iteration: 75; Current clusters: 2; Likelihood:  -7029.226\n",
      "Iteration: 76; Current clusters: 2; Likelihood:  -6994.540\n",
      "Iteration: 77; Current clusters: 2; Likelihood:  -7000.717\n",
      "Iteration: 78; Current clusters: 2; Likelihood:  -7045.398\n",
      "Iteration: 79; Current clusters: 2; Likelihood:  -7028.288\n",
      "Iteration: 80; Current clusters: 2; Likelihood:  -7013.470\n",
      "Iteration: 81; Current clusters: 2; Likelihood:  -7026.458\n",
      "Iteration: 82; Current clusters: 2; Likelihood:  -7002.069\n",
      "Iteration: 83; Current clusters: 2; Likelihood:  -7004.050\n",
      "Iteration: 84; Current clusters: 2; Likelihood:  -7023.823\n",
      "Iteration: 85; Current clusters: 2; Likelihood:  -6996.198\n",
      "Iteration: 86; Current clusters: 2; Likelihood:  -6975.805\n",
      "Iteration: 87; Current clusters: 2; Likelihood:  -6993.498\n",
      "Iteration: 88; Current clusters: 2; Likelihood:  -6969.631\n",
      "Iteration: 89; Current clusters: 2; Likelihood:  -6970.741\n",
      "Iteration: 90; Current clusters: 2; Likelihood:  -7004.630\n",
      "Iteration: 91; Current clusters: 2; Likelihood:  -6996.547\n",
      "Iteration: 92; Current clusters: 3; Likelihood:  -7010.255\n",
      "Iteration: 93; Current clusters: 2; Likelihood:  -6984.582\n",
      "Iteration: 94; Current clusters: 2; Likelihood:  -6992.064\n",
      "Iteration: 95; Current clusters: 2; Likelihood:  -6981.887\n",
      "Iteration: 96; Current clusters: 2; Likelihood:  -7002.588\n",
      "Iteration: 97; Current clusters: 2; Likelihood:  -7008.525\n",
      "Iteration: 98; Current clusters: 2; Likelihood:  -7005.933\n",
      "Iteration: 99; Current clusters: 2; Likelihood:  -7004.404\n",
      "Iteration: 100; Current clusters: 2; Likelihood:  -6993.696\n"
     ]
    },
    {
     "data": {
      "text/plain": [
       "[<matplotlib.lines.Line2D at 0x7f06006bd7b8>]"
      ]
     },
     "execution_count": 5,
     "metadata": {},
     "output_type": "execute_result"
    },
    {
     "data": {
      "image/png": "[encoded data removed]",
      "text/plain": [
       "<Figure size 432x288 with 1 Axes>"
      ]
     },
     "metadata": {
      "needs_background": "light"
     },
     "output_type": "display_data"
    }
   ],
   "source": [
    "sampler = PiCollapsedNonparametricGibbsSampler(1)\n",
    "sampler.fit(inference_matrix, num_burn_in_steps = 100, delta = 2)\n",
    "plt.plot(sampler.ll_list)"
   ]
  },
  {
   "cell_type": "markdown",
   "metadata": {},
   "source": [
    "The following generates the distribution (as a dict) of amount of variations per strand in the specified region. I.e. {n : #strands with n variations}. And chooses one of the amounts according to the distribution."
   ]
  },
  {
   "cell_type": "code",
   "execution_count": 6,
   "metadata": {},
   "outputs": [
    {
     "name": "stdout",
     "output_type": "stream",
     "text": [
      "Choices: [13 14  1 12 10  9 15  0  2]\n",
      "Probabilities: [0.59708738 0.12621359 0.02427184 0.0776699  0.00485437 0.09223301\n",
      " 0.04368932 0.00970874 0.02427184]\n"
     ]
    },
    {
     "data": {
      "text/plain": [
       "13"
      ]
     },
     "execution_count": 6,
     "metadata": {},
     "output_type": "execute_result"
    }
   ],
   "source": [
    "distribution = data_manager.get_variation_distribution(start = 17671934, end = 17681934, population = \"CHB\")\n",
    "choices = []\n",
    "probabilities = []\n",
    "for choice in distribution:\n",
    "    choices.append(choice)\n",
    "    probabilities.append(distribution[choice])\n",
    "choices = np.array(choices)\n",
    "probabilities = np.array(probabilities) / sum(probabilities)\n",
    "print(\"Choices: {}\".format(choices))\n",
    "print(\"Probabilities: {}\".format(probabilities))\n",
    "np.random.choice(choices, p=probabilities)"
   ]
  },
  {
   "cell_type": "code",
   "execution_count": null,
   "metadata": {},
   "outputs": [],
   "source": []
  }
 ],
 "metadata": {
  "kernelspec": {
   "display_name": "Python 3",
   "language": "python",
   "name": "python3"
  },
  "language_info": {
   "codemirror_mode": {
    "name": "ipython",
    "version": 3
   },
   "file_extension": ".py",
   "mimetype": "text/x-python",
   "name": "python",
   "nbconvert_exporter": "python",
   "pygments_lexer": "ipython3",
   "version": "3.6.8"
  }
 },
 "nbformat": 4,
 "nbformat_minor": 2
}
