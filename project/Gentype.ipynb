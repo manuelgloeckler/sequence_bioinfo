{
 "cells": [
  {
   "cell_type": "code",
   "execution_count": 10,
   "metadata": {},
   "outputs": [],
   "source": [
    "from gentype import EnsemblClient, DataManager, PiCollapsedNonparametricGibbsSampler\n",
    "import matplotlib.pyplot as plt\n",
    "import numpy as np"
   ]
  },
  {
   "cell_type": "markdown",
   "metadata": {},
   "source": [
    "Set up Classes:"
   ]
  },
  {
   "cell_type": "code",
   "execution_count": 11,
   "metadata": {},
   "outputs": [],
   "source": [
    "Database_Name = \"Gentype_DB\"\n",
    "client = EnsemblClient()\n",
    "data_manager = DataManager(client, Database_Name)"
   ]
  },
  {
   "cell_type": "markdown",
   "metadata": {},
   "source": [
    "The following will fill the Database which can be expected to take a while. If the database was already filled it is not necessary to execute the cell below.\n",
    "You can however copy and alter specific statements to fetch different data.\n",
    "In order to inspect the resulting database I recommend https://sqlitebrowser.org/.\n",
    "The database should be found in the same directory as this notebook."
   ]
  },
  {
   "cell_type": "code",
   "execution_count": 3,
   "metadata": {},
   "outputs": [],
   "source": [
    "data_manager.fetch_reference_set()\n",
    "data_manager.fetch_reference_sequences(\"GRCh37.p13\")\n",
    "data_manager.fetch_populations(pop_filter = None)\n",
    "# fetch_individuals defaults to ALL\n",
    "data_manager.fetch_individuals()\n",
    "#in order to relate the individuals to specific populations we need to fetch them with respect to that population\n",
    "data_manager.fetch_individuals(\"CHB\", \"1000GENOMES:phase_3\") \n",
    "data_manager.fetch_variants(17671934, 17681934, \"22\")"
   ]
  },
  {
   "cell_type": "markdown",
   "metadata": {},
   "source": [
    "The following generates a inference matrix from the data provided by the local database. The inference matrix can be constructed with respect to a population and a section specified by start and end. Be sure to fetch the according population before constructing the matrix. If _sum_allels = True_ is passed, the expression for an individual per allele will be summed (if expressed on both -> 2, on one -> 1, on neither -> 0). Otherwise each strand will be represented by a seperate row."
   ]
  },
  {
   "cell_type": "code",
   "execution_count": 19,
   "metadata": {},
   "outputs": [
    {
     "data": {
      "text/plain": [
       "(206, 332)"
      ]
     },
     "execution_count": 19,
     "metadata": {},
     "output_type": "execute_result"
    }
   ],
   "source": [
    "inference_matrix = data_manager.generate_inference_matrix(start = 17671934, end = 17681934, population = \"CHB\")\n",
    "inference_matrix.shape"
   ]
  },
  {
   "cell_type": "markdown",
   "metadata": {},
   "source": [
    "The following cell runs the sampler using the inference matrix."
   ]
  },
  {
   "cell_type": "code",
   "execution_count": 35,
   "metadata": {},
   "outputs": [
    {
     "name": "stdout",
     "output_type": "stream",
     "text": [
      "Iteration: 1; Current clusters: 6; Likelihood: -10123.396\n",
      "Iteration: 2; Current clusters: 4; Likelihood:  -9941.705\n",
      "Iteration: 3; Current clusters: 4; Likelihood:  -9872.787\n",
      "Iteration: 4; Current clusters: 3; Likelihood:  -9854.807\n",
      "Iteration: 5; Current clusters: 3; Likelihood:  -9822.101\n",
      "Iteration: 6; Current clusters: 3; Likelihood:  -9793.007\n",
      "Iteration: 7; Current clusters: 3; Likelihood:  -9805.250\n",
      "Iteration: 8; Current clusters: 3; Likelihood:  -9805.953\n",
      "Iteration: 9; Current clusters: 3; Likelihood:  -9793.502\n",
      "Iteration: 10; Current clusters: 3; Likelihood:  -9857.551\n",
      "Iteration: 11; Current clusters: 3; Likelihood:  -9765.092\n",
      "Iteration: 12; Current clusters: 3; Likelihood:  -9799.306\n",
      "Iteration: 13; Current clusters: 3; Likelihood:  -9721.746\n",
      "Iteration: 14; Current clusters: 3; Likelihood:  -9797.057\n",
      "Iteration: 15; Current clusters: 3; Likelihood:  -9763.248\n",
      "Iteration: 16; Current clusters: 3; Likelihood:  -9780.187\n",
      "Iteration: 17; Current clusters: 3; Likelihood:  -9745.792\n",
      "Iteration: 18; Current clusters: 3; Likelihood:  -9760.795\n",
      "Iteration: 19; Current clusters: 3; Likelihood:  -9773.419\n",
      "Iteration: 20; Current clusters: 3; Likelihood:  -9789.792\n",
      "Iteration: 21; Current clusters: 3; Likelihood:  -9789.481\n",
      "Iteration: 22; Current clusters: 3; Likelihood:  -9773.954\n",
      "Iteration: 23; Current clusters: 3; Likelihood:  -9728.479\n",
      "Iteration: 24; Current clusters: 3; Likelihood:  -9777.679\n",
      "Iteration: 25; Current clusters: 3; Likelihood:  -9783.288\n",
      "Iteration: 26; Current clusters: 3; Likelihood:  -9744.008\n",
      "Iteration: 27; Current clusters: 3; Likelihood:  -9756.055\n",
      "Iteration: 28; Current clusters: 3; Likelihood:  -9775.449\n",
      "Iteration: 29; Current clusters: 3; Likelihood:  -9774.501\n",
      "Iteration: 30; Current clusters: 3; Likelihood:  -9748.979\n",
      "Iteration: 31; Current clusters: 3; Likelihood:  -9773.116\n",
      "Iteration: 32; Current clusters: 3; Likelihood:  -9797.767\n",
      "Iteration: 33; Current clusters: 3; Likelihood:  -9758.332\n",
      "Iteration: 34; Current clusters: 3; Likelihood:  -9790.332\n",
      "Iteration: 35; Current clusters: 3; Likelihood:  -9800.224\n",
      "Iteration: 36; Current clusters: 3; Likelihood:  -9775.586\n",
      "Iteration: 37; Current clusters: 3; Likelihood:  -9791.792\n",
      "Iteration: 38; Current clusters: 3; Likelihood:  -9797.006\n",
      "Iteration: 39; Current clusters: 3; Likelihood:  -9783.027\n",
      "Iteration: 40; Current clusters: 3; Likelihood:  -9835.816\n",
      "Iteration: 41; Current clusters: 3; Likelihood:  -9755.302\n",
      "Iteration: 42; Current clusters: 3; Likelihood:  -9790.360\n",
      "Iteration: 43; Current clusters: 3; Likelihood:  -9788.167\n",
      "Iteration: 44; Current clusters: 3; Likelihood:  -9791.918\n",
      "Iteration: 45; Current clusters: 3; Likelihood:  -9753.246\n",
      "Iteration: 46; Current clusters: 3; Likelihood:  -9767.103\n",
      "Iteration: 47; Current clusters: 3; Likelihood:  -9795.596\n",
      "Iteration: 48; Current clusters: 3; Likelihood:  -9822.059\n",
      "Iteration: 49; Current clusters: 3; Likelihood:  -9777.697\n",
      "Iteration: 50; Current clusters: 3; Likelihood:  -9743.081\n",
      "Iteration: 51; Current clusters: 3; Likelihood:  -9735.995\n",
      "Iteration: 52; Current clusters: 3; Likelihood:  -9751.790\n",
      "Iteration: 53; Current clusters: 3; Likelihood:  -9788.826\n",
      "Iteration: 54; Current clusters: 3; Likelihood:  -9817.133\n",
      "Iteration: 55; Current clusters: 3; Likelihood:  -9728.377\n",
      "Iteration: 56; Current clusters: 3; Likelihood:  -9785.755\n",
      "Iteration: 57; Current clusters: 3; Likelihood:  -9784.365\n",
      "Iteration: 58; Current clusters: 3; Likelihood:  -9781.355\n",
      "Iteration: 59; Current clusters: 3; Likelihood:  -9828.481\n",
      "Iteration: 60; Current clusters: 3; Likelihood:  -9803.737\n",
      "Iteration: 61; Current clusters: 3; Likelihood:  -9799.183\n",
      "Iteration: 62; Current clusters: 3; Likelihood:  -9790.320\n",
      "Iteration: 63; Current clusters: 3; Likelihood:  -9760.773\n",
      "Iteration: 64; Current clusters: 3; Likelihood:  -9779.198\n",
      "Iteration: 65; Current clusters: 3; Likelihood:  -9793.320\n",
      "Iteration: 66; Current clusters: 3; Likelihood:  -9772.504\n",
      "Iteration: 67; Current clusters: 3; Likelihood:  -9802.672\n",
      "Iteration: 68; Current clusters: 3; Likelihood:  -9791.226\n",
      "Iteration: 69; Current clusters: 3; Likelihood:  -9761.420\n",
      "Iteration: 70; Current clusters: 3; Likelihood:  -9751.061\n",
      "Iteration: 71; Current clusters: 3; Likelihood:  -9759.996\n",
      "Iteration: 72; Current clusters: 3; Likelihood:  -9757.117\n",
      "Iteration: 73; Current clusters: 3; Likelihood:  -9768.382\n",
      "Iteration: 74; Current clusters: 3; Likelihood:  -9783.448\n",
      "Iteration: 75; Current clusters: 3; Likelihood:  -9802.764\n",
      "Iteration: 76; Current clusters: 3; Likelihood:  -9771.634\n",
      "Iteration: 77; Current clusters: 3; Likelihood:  -9742.673\n",
      "Iteration: 78; Current clusters: 3; Likelihood:  -9789.071\n",
      "Iteration: 79; Current clusters: 3; Likelihood:  -9827.768\n",
      "Iteration: 80; Current clusters: 3; Likelihood:  -9790.368\n",
      "Iteration: 81; Current clusters: 3; Likelihood:  -9738.160\n",
      "Iteration: 82; Current clusters: 3; Likelihood:  -9764.614\n",
      "Iteration: 83; Current clusters: 3; Likelihood:  -9768.916\n",
      "Iteration: 84; Current clusters: 3; Likelihood:  -9743.129\n",
      "Iteration: 85; Current clusters: 3; Likelihood:  -9738.988\n",
      "Iteration: 86; Current clusters: 3; Likelihood:  -9804.205\n",
      "Iteration: 87; Current clusters: 3; Likelihood:  -9797.236\n",
      "Iteration: 88; Current clusters: 3; Likelihood:  -9757.984\n",
      "Iteration: 89; Current clusters: 3; Likelihood:  -9774.929\n",
      "Iteration: 90; Current clusters: 3; Likelihood:  -9793.676\n",
      "Iteration: 91; Current clusters: 3; Likelihood:  -9745.997\n",
      "Iteration: 92; Current clusters: 3; Likelihood:  -9820.614\n",
      "Iteration: 93; Current clusters: 3; Likelihood:  -9800.750\n",
      "Iteration: 94; Current clusters: 3; Likelihood:  -9769.341\n",
      "Iteration: 95; Current clusters: 3; Likelihood:  -9781.118\n",
      "Iteration: 96; Current clusters: 3; Likelihood:  -9773.462\n",
      "Iteration: 97; Current clusters: 3; Likelihood:  -9791.298\n",
      "Iteration: 98; Current clusters: 3; Likelihood:  -9752.417\n",
      "Iteration: 99; Current clusters: 3; Likelihood:  -9792.678\n",
      "Iteration: 100; Current clusters: 3; Likelihood:  -9771.574\n",
      "Iteration: 101; Current clusters: 3; Likelihood:  -9776.285\n",
      "Iteration: 102; Current clusters: 3; Likelihood:  -9780.052\n",
      "Iteration: 103; Current clusters: 3; Likelihood:  -9773.118\n"
     ]
    },
    {
     "data": {
      "text/plain": [
       "[<matplotlib.lines.Line2D at 0x7f119d00b358>]"
      ]
     },
     "execution_count": 35,
     "metadata": {},
     "output_type": "execute_result"
    },
    {
     "data": {
      "image/png": "[encoded data removed]",
      "text/plain": [
       "<Figure size 432x288 with 1 Axes>"
      ]
     },
     "metadata": {
      "needs_background": "light"
     },
     "output_type": "display_data"
    }
   ],
   "source": [
    "sampler = PiCollapsedNonparametricGibbsSampler(1)\n",
    "sampler.fit(inference_matrix, num_burn_in_steps = 100, delta = 2)\n",
    "plt.plot(sampler.ll_list)"
   ]
  },
  {
   "cell_type": "markdown",
   "metadata": {},
   "source": [
    "The following generates the distribution (as a dict) of amount of variations per strand in the specified region. I.e. {n : #strands with n variations}. And chooses one of the amounts according to the distribution."
   ]
  },
  {
   "cell_type": "code",
   "execution_count": 34,
   "metadata": {},
   "outputs": [
    {
     "name": "stdout",
     "output_type": "stream",
     "text": [
      "Choices: [15 12 22 20 14 13 11 16 18 21 17 10  4  9  5 23  6  8  7]\n",
      "Probabilities: [0.11165049 0.14563107 0.03883495 0.00970874 0.15533981 0.18932039\n",
      " 0.05825243 0.09708738 0.05339806 0.02427184 0.03398058 0.01456311\n",
      " 0.00485437 0.03398058 0.00485437 0.00485437 0.00485437 0.00970874\n",
      " 0.00485437]\n"
     ]
    },
    {
     "data": {
      "text/plain": [
       "12"
      ]
     },
     "execution_count": 34,
     "metadata": {},
     "output_type": "execute_result"
    }
   ],
   "source": [
    "distribution = data_manager.get_variation_distribution(start = 17671934, end = 17681934, population = \"CHB\")\n",
    "choices = []\n",
    "probabilities = []\n",
    "for choice in distribution:\n",
    "    choices.append(choice)\n",
    "    probabilities.append(distribution[choice])\n",
    "choices = np.array(choices)\n",
    "probabilities = np.array(probabilities) / sum(probabilities)\n",
    "print(\"Choices: {}\".format(choices))\n",
    "print(\"Probabilities: {}\".format(probabilities))\n",
    "np.random.choice(choices, p=probabilities)"
   ]
  },
  {
   "cell_type": "code",
   "execution_count": null,
   "metadata": {},
   "outputs": [],
   "source": []
  }
 ],
 "metadata": {
  "kernelspec": {
   "display_name": "Python 3",
   "language": "python",
   "name": "python3"
  },
  "language_info": {
   "codemirror_mode": {
    "name": "ipython",
    "version": 3
   },
   "file_extension": ".py",
   "mimetype": "text/x-python",
   "name": "python",
   "nbconvert_exporter": "python",
   "pygments_lexer": "ipython3",
   "version": "3.6.9"
  }
 },
 "nbformat": 4,
 "nbformat_minor": 2
}
