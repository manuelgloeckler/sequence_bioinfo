{
 "cells": [
  {
   "cell_type": "markdown",
   "metadata": {},
   "source": [
    "# Generation of artifical sequence data based on Categorical Mixture Models"
   ]
  },
  {
   "cell_type": "markdown",
   "metadata": {},
   "source": [
    "This notebook is an example of how to generate artifical sequences for the HLA-A gene using our approach based on categorical mixture models."
   ]
  },
  {
   "cell_type": "markdown",
   "metadata": {},
   "source": [
    "## Section 1: Setup"
   ]
  },
  {
   "cell_type": "code",
   "execution_count": 1,
   "metadata": {},
   "outputs": [],
   "source": [
    "from gentype import EnsemblClient, DataManager, PiCollapsedNonparametricGibbsSampler\n",
    "from gentype import AlleleMM, write_sequences\n",
    "import matplotlib.pyplot as plt\n",
    "import seaborn as sns\n",
    "import pandas as pd\n",
    "from sklearn.decomposition import PCA\n",
    "import numpy as np"
   ]
  },
  {
   "cell_type": "markdown",
   "metadata": {},
   "source": [
    "Set up Classes:"
   ]
  },
  {
   "cell_type": "code",
   "execution_count": 2,
   "metadata": {},
   "outputs": [],
   "source": [
    "Database_Name = \"Gentype_DB.db\"\n",
    "client = EnsemblClient()\n",
    "data_manager = DataManager(client, Database_Name)"
   ]
  },
  {
   "cell_type": "markdown",
   "metadata": {},
   "source": [
    "Setting the paramaters for our selected allele: HLA-A. For options for ref_name and population_name you can also take a look at the database after fetching."
   ]
  },
  {
   "cell_type": "code",
   "execution_count": 3,
   "metadata": {},
   "outputs": [],
   "source": [
    "region_start = 29941260\n",
    "region_end = 29945884\n",
    "ref_name = \"6\" # generally the name of the chromosome\n",
    "population_name = \"ALL\"\n",
    "project_name = \"1000GENOMES:phase_3\"\n",
    "allele_args = {'start' : region_start, 'end' : region_end, 'reference_name' : ref_name, 'population' : population_name, 'project' : project_name}"
   ]
  },
  {
   "cell_type": "markdown",
   "metadata": {},
   "source": [
    "We use store magic to store the values of costly computations (data fetching, model training), so they only have to be done once."
   ]
  },
  {
   "cell_type": "markdown",
   "metadata": {},
   "source": [
    "Initialize storable data:"
   ]
  },
  {
   "cell_type": "code",
   "execution_count": 4,
   "metadata": {},
   "outputs": [],
   "source": [
    "fetched = False\n",
    "inference_matrix = None\n",
    "models = None"
   ]
  },
  {
   "cell_type": "markdown",
   "metadata": {},
   "source": [
    "Restore stored data (remove # to recompute instead of restore respective data):"
   ]
  },
  {
   "cell_type": "code",
   "execution_count": 5,
   "metadata": {},
   "outputs": [],
   "source": [
    "#%store -d fetched # if you want to refetch the data, uncomment this line\n",
    "%store -d inference_matrix # if you want to recompute the inference_matrix, uncomment this line\n",
    "%store -d models # if you want to recompute the models, uncomment this line\n",
    "%store -r"
   ]
  },
  {
   "cell_type": "markdown",
   "metadata": {},
   "source": [
    "## Section 2: Collecting and preparing data"
   ]
  },
  {
   "cell_type": "markdown",
   "metadata": {},
   "source": [
    "Fetches all HLA-A data obtained in 1000 Genomes project phase3 and stores them in a local sqlite server. This only needs to be done once but might take a while."
   ]
  },
  {
   "cell_type": "code",
   "execution_count": 6,
   "metadata": {},
   "outputs": [
    {
     "name": "stdout",
     "output_type": "stream",
     "text": [
      "Stored 'fetched' (bool)\n"
     ]
    }
   ],
   "source": [
    "if not fetched:\n",
    "    data_manager.fetch_all(region_start, region_end, ref_name, report_progress = True)\n",
    "fetched = True\n",
    "%store fetched"
   ]
  },
  {
   "cell_type": "markdown",
   "metadata": {},
   "source": [
    "The following generates an inference matrix from the data provided by the local database. The inference matrix can be constructed with respect to a population and a section specified by start and end. Be sure to fetch the according population before constructing the matrix. \n",
    "\n",
    "Each row in the matrix represents the variants present in each individual as a bitvector."
   ]
  },
  {
   "cell_type": "code",
   "execution_count": 7,
   "metadata": {},
   "outputs": [
    {
     "name": "stdout",
     "output_type": "stream",
     "text": [
      "Stored 'inference_matrix' (ndarray)\n",
      "Stored 'individual_map' (dict)\n",
      "Stored 'variation_map' (dict)\n"
     ]
    },
    {
     "data": {
      "text/plain": [
       "(5008, 438)"
      ]
     },
     "execution_count": 7,
     "metadata": {},
     "output_type": "execute_result"
    }
   ],
   "source": [
    "if inference_matrix is None:\n",
    "    inference_matrix, individual_map, variation_map = data_manager.generate_inference_matrix(**allele_args)\n",
    "%store inference_matrix \n",
    "%store individual_map \n",
    "%store variation_map\n",
    "inference_matrix.shape"
   ]
  },
  {
   "cell_type": "markdown",
   "metadata": {},
   "source": [
    "Mean number of variations per allele, for HLA-A as expected high."
   ]
  },
  {
   "cell_type": "code",
   "execution_count": 8,
   "metadata": {},
   "outputs": [
    {
     "data": {
      "text/plain": [
       "91.09704472843451"
      ]
     },
     "execution_count": 8,
     "metadata": {},
     "output_type": "execute_result"
    }
   ],
   "source": [
    "inference_matrix.sum(axis=1).mean()"
   ]
  },
  {
   "cell_type": "markdown",
   "metadata": {},
   "source": [
    "## Section 3: Training the Model"
   ]
  },
  {
   "cell_type": "markdown",
   "metadata": {},
   "source": [
    "Train models with different initializations without seeding.\n",
    "\n",
    "Here we compute different models with varying dirichlet prior alpha. This prior is proportional to the probability of creating a new cluster, therefore inference with high alphas tends to begin with a higher number of clusters. This might take a while."
   ]
  },
  {
   "cell_type": "code",
   "execution_count": 9,
   "metadata": {
    "scrolled": true
   },
   "outputs": [
    {
     "name": "stdout",
     "output_type": "stream",
     "text": [
      "Model 0:\n",
      "Iteration: 1; Current clusters: 10; Likelihood: -2277998.611\n",
      "Iteration: 2; Current clusters: 10; Likelihood: -2257359.875\n",
      "Iteration: 3; Current clusters: 10; Likelihood: -2237687.324\n",
      "Iteration: 4; Current clusters: 10; Likelihood: -2237578.336\n",
      "Iteration: 5; Current clusters: 10; Likelihood: -2237589.127\n",
      "Iteration: 6; Current clusters: 9; Likelihood: -2237540.133\n",
      "Iteration: 7; Current clusters: 9; Likelihood: -2237542.481\n",
      "Iteration: 8; Current clusters: 9; Likelihood: -2237600.378\n",
      "Iteration: 9; Current clusters: 9; Likelihood: -2237587.742\n",
      "Iteration: 10; Current clusters: 9; Likelihood: -2237570.829\n",
      "Iteration: 11; Current clusters: 9; Likelihood: -2237601.674\n",
      "Iteration: 12; Current clusters: 9; Likelihood: -2237565.115\n",
      "Iteration: 13; Current clusters: 9; Likelihood: -2237594.577\n",
      "Iteration: 14; Current clusters: 9; Likelihood: -2237606.614\n",
      "Iteration: 15; Current clusters: 9; Likelihood: -2237653.815\n",
      "Iteration: 16; Current clusters: 9; Likelihood: -2237575.406\n",
      "Iteration: 17; Current clusters: 9; Likelihood: -2237606.656\n",
      "Iteration: 18; Current clusters: 9; Likelihood: -2237535.822\n",
      "Iteration: 19; Current clusters: 9; Likelihood: -2237500.260\n",
      "Iteration: 20; Current clusters: 9; Likelihood: -2237510.454\n",
      "Iteration: 21; Current clusters: 9; Likelihood: -2237566.776\n",
      "Iteration: 22; Current clusters: 9; Likelihood: -2237503.693\n",
      "Iteration: 23; Current clusters: 9; Likelihood: -2237462.119\n",
      "Iteration: 24; Current clusters: 9; Likelihood: -2237596.226\n",
      "Iteration: 25; Current clusters: 10; Likelihood: -2237552.732\n",
      "Iteration: 26; Current clusters: 9; Likelihood: -2237540.987\n",
      "Iteration: 27; Current clusters: 9; Likelihood: -2237590.661\n",
      "Iteration: 28; Current clusters: 9; Likelihood: -2237513.455\n",
      "Iteration: 29; Current clusters: 9; Likelihood: -2237625.782\n",
      "Iteration: 30; Current clusters: 9; Likelihood: -2237518.612\n",
      "Iteration: 31; Current clusters: 9; Likelihood: -2237656.607\n",
      "Iteration: 32; Current clusters: 9; Likelihood: -2237518.597\n",
      "Iteration: 33; Current clusters: 9; Likelihood: -2237673.487\n",
      "Iteration: 34; Current clusters: 9; Likelihood: -2237583.121\n",
      "Iteration: 35; Current clusters: 9; Likelihood: -2237526.146\n",
      "Iteration: 36; Current clusters: 9; Likelihood: -2237496.434\n",
      "Iteration: 37; Current clusters: 9; Likelihood: -2237604.317\n",
      "Iteration: 38; Current clusters: 9; Likelihood: -2237670.451\n",
      "Iteration: 39; Current clusters: 9; Likelihood: -2237554.270\n",
      "Iteration: 40; Current clusters: 9; Likelihood: -2237636.446\n",
      "Iteration: 41; Current clusters: 9; Likelihood: -2237581.204\n",
      "Iteration: 42; Current clusters: 9; Likelihood: -2237500.121\n",
      "Iteration: 43; Current clusters: 9; Likelihood: -2237483.327\n",
      "Iteration: 44; Current clusters: 9; Likelihood: -2237540.125\n",
      "Iteration: 45; Current clusters: 9; Likelihood: -2237644.345\n",
      "Iteration: 46; Current clusters: 9; Likelihood: -2237613.675\n",
      "Iteration: 47; Current clusters: 9; Likelihood: -2237512.815\n",
      "Iteration: 48; Current clusters: 9; Likelihood: -2237633.387\n",
      "Iteration: 49; Current clusters: 9; Likelihood: -2237573.725\n",
      "Iteration: 50; Current clusters: 9; Likelihood: -2237494.609\n",
      "Iteration: 51; Current clusters: 9; Likelihood: -2237581.099\n",
      "Iteration: 52; Current clusters: 9; Likelihood: -2237530.481\n",
      "Iteration: 53; Current clusters: 9; Likelihood: -2237602.133\n",
      "Iteration: 54; Current clusters: 9; Likelihood: -2237474.034\n",
      "Iteration: 55; Current clusters: 9; Likelihood: -2237518.449\n",
      "Iteration: 56; Current clusters: 9; Likelihood: -2237554.820\n",
      "Iteration: 57; Current clusters: 9; Likelihood: -2237549.806\n",
      "Iteration: 58; Current clusters: 9; Likelihood: -2237562.168\n",
      "Iteration: 59; Current clusters: 9; Likelihood: -2237529.229\n",
      "Iteration: 60; Current clusters: 9; Likelihood: -2237562.896\n",
      "Iteration: 61; Current clusters: 9; Likelihood: -2237497.829\n",
      "Iteration: 62; Current clusters: 9; Likelihood: -2237467.145\n",
      "Iteration: 63; Current clusters: 9; Likelihood: -2237618.039\n",
      "Iteration: 64; Current clusters: 9; Likelihood: -2237522.464\n",
      "Iteration: 65; Current clusters: 9; Likelihood: -2237539.722\n",
      "Iteration: 66; Current clusters: 9; Likelihood: -2237585.349\n",
      "Iteration: 67; Current clusters: 9; Likelihood: -2237514.013\n",
      "Iteration: 68; Current clusters: 9; Likelihood: -2237566.196\n",
      "Iteration: 69; Current clusters: 9; Likelihood: -2237554.980\n",
      "Iteration: 70; Current clusters: 9; Likelihood: -2237526.565\n",
      "Iteration: 71; Current clusters: 9; Likelihood: -2237529.679\n",
      "Iteration: 72; Current clusters: 9; Likelihood: -2237576.932\n",
      "Iteration: 73; Current clusters: 9; Likelihood: -2237500.687\n",
      "Iteration: 74; Current clusters: 9; Likelihood: -2237431.320\n",
      "Iteration: 75; Current clusters: 9; Likelihood: -2237624.073\n",
      "Iteration: 76; Current clusters: 9; Likelihood: -2237502.861\n",
      "Iteration: 77; Current clusters: 9; Likelihood: -2237497.308\n",
      "Iteration: 78; Current clusters: 9; Likelihood: -2237580.589\n",
      "Iteration: 79; Current clusters: 9; Likelihood: -2237568.114\n",
      "Iteration: 80; Current clusters: 9; Likelihood: -2237511.477\n",
      "Iteration: 81; Current clusters: 9; Likelihood: -2237578.654\n",
      "Iteration: 82; Current clusters: 9; Likelihood: -2237571.626\n",
      "Iteration: 83; Current clusters: 9; Likelihood: -2237486.498\n",
      "Iteration: 84; Current clusters: 9; Likelihood: -2237511.862\n",
      "Iteration: 85; Current clusters: 9; Likelihood: -2237571.389\n",
      "Iteration: 86; Current clusters: 9; Likelihood: -2237620.275\n",
      "Iteration: 87; Current clusters: 9; Likelihood: -2237527.521\n",
      "Iteration: 88; Current clusters: 9; Likelihood: -2237583.889\n",
      "Iteration: 89; Current clusters: 9; Likelihood: -2237546.293\n",
      "Iteration: 90; Current clusters: 9; Likelihood: -2237586.549\n",
      "Iteration: 91; Current clusters: 9; Likelihood: -2237557.833\n",
      "Iteration: 92; Current clusters: 9; Likelihood: -2237557.886\n",
      "Iteration: 93; Current clusters: 9; Likelihood: -2237498.254\n",
      "Iteration: 94; Current clusters: 9; Likelihood: -2237481.778\n",
      "Iteration: 95; Current clusters: 9; Likelihood: -2237537.439\n",
      "Iteration: 96; Current clusters: 9; Likelihood: -2237466.009\n",
      "Iteration: 97; Current clusters: 9; Likelihood: -2237564.970\n",
      "Iteration: 98; Current clusters: 9; Likelihood: -2237508.147\n",
      "Iteration: 99; Current clusters: 9; Likelihood: -2237535.869\n",
      "Iteration: 100; Current clusters: 9; Likelihood: -2237521.623\n",
      "Iteration: 101; Current clusters: 9; Likelihood: -2237608.362\n",
      "Iteration: 102; Current clusters: 9; Likelihood: -2237540.595\n",
      "Iteration: 103; Current clusters: 9; Likelihood: -2237521.733\n",
      "Iteration: 104; Current clusters: 9; Likelihood: -2237498.523\n",
      "Iteration: 105; Current clusters: 9; Likelihood: -2237569.774\n",
      "Iteration: 106; Current clusters: 9; Likelihood: -2237627.898\n",
      "Iteration: 107; Current clusters: 9; Likelihood: -2237557.176\n",
      "Iteration: 108; Current clusters: 9; Likelihood: -2237527.835\n",
      "Iteration: 109; Current clusters: 9; Likelihood: -2237409.479\n",
      "Iteration: 110; Current clusters: 9; Likelihood: -2237664.786\n",
      "Iteration: 111; Current clusters: 9; Likelihood: -2237557.255\n",
      "Iteration: 112; Current clusters: 9; Likelihood: -2237598.212\n",
      "Iteration: 113; Current clusters: 9; Likelihood: -2237546.032\n",
      "Iteration: 114; Current clusters: 9; Likelihood: -2237542.927\n",
      "Iteration: 115; Current clusters: 9; Likelihood: -2237541.871\n",
      "Iteration: 116; Current clusters: 9; Likelihood: -2237553.812\n",
      "Model 1:\n",
      "Iteration: 1; Current clusters: 9; Likelihood: -2215810.067\n",
      "Iteration: 2; Current clusters: 9; Likelihood: -2204030.462\n",
      "Iteration: 3; Current clusters: 9; Likelihood: -2201014.926\n",
      "Iteration: 4; Current clusters: 9; Likelihood: -2200775.335\n",
      "Iteration: 5; Current clusters: 10; Likelihood: -2200778.081\n",
      "Iteration: 6; Current clusters: 8; Likelihood: -2200868.983\n",
      "Iteration: 7; Current clusters: 8; Likelihood: -2200887.167\n",
      "Iteration: 8; Current clusters: 8; Likelihood: -2200767.874\n",
      "Iteration: 9; Current clusters: 8; Likelihood: -2200828.179\n",
      "Iteration: 10; Current clusters: 8; Likelihood: -2200737.447\n",
      "Iteration: 11; Current clusters: 8; Likelihood: -2200800.013\n",
      "Iteration: 12; Current clusters: 9; Likelihood: -2200868.656\n",
      "Iteration: 13; Current clusters: 9; Likelihood: -2200807.723\n",
      "Iteration: 14; Current clusters: 8; Likelihood: -2200807.250\n",
      "Iteration: 15; Current clusters: 8; Likelihood: -2200804.803\n",
      "Iteration: 16; Current clusters: 9; Likelihood: -2200736.136\n",
      "Iteration: 17; Current clusters: 8; Likelihood: -2200848.631\n",
      "Iteration: 18; Current clusters: 8; Likelihood: -2200865.378\n"
     ]
    },
    {
     "name": "stdout",
     "output_type": "stream",
     "text": [
      "Iteration: 19; Current clusters: 9; Likelihood: -2200878.487\n",
      "Iteration: 20; Current clusters: 8; Likelihood: -2200955.306\n",
      "Iteration: 21; Current clusters: 8; Likelihood: -2200851.502\n",
      "Iteration: 22; Current clusters: 8; Likelihood: -2200869.673\n",
      "Iteration: 23; Current clusters: 8; Likelihood: -2200834.282\n",
      "Iteration: 24; Current clusters: 8; Likelihood: -2200867.716\n",
      "Iteration: 25; Current clusters: 8; Likelihood: -2200803.300\n",
      "Iteration: 26; Current clusters: 8; Likelihood: -2200843.152\n",
      "Iteration: 27; Current clusters: 8; Likelihood: -2200884.624\n",
      "Iteration: 28; Current clusters: 8; Likelihood: -2200833.857\n",
      "Iteration: 29; Current clusters: 8; Likelihood: -2200781.157\n",
      "Iteration: 30; Current clusters: 8; Likelihood: -2200856.977\n",
      "Iteration: 31; Current clusters: 8; Likelihood: -2200841.774\n",
      "Iteration: 32; Current clusters: 8; Likelihood: -2200798.457\n",
      "Iteration: 33; Current clusters: 8; Likelihood: -2200834.114\n",
      "Iteration: 34; Current clusters: 8; Likelihood: -2200943.140\n",
      "Iteration: 35; Current clusters: 8; Likelihood: -2200832.054\n",
      "Iteration: 36; Current clusters: 8; Likelihood: -2200881.358\n",
      "Iteration: 37; Current clusters: 8; Likelihood: -2200895.786\n",
      "Iteration: 38; Current clusters: 8; Likelihood: -2200960.722\n",
      "Iteration: 39; Current clusters: 8; Likelihood: -2200730.594\n",
      "Iteration: 40; Current clusters: 8; Likelihood: -2200860.590\n",
      "Iteration: 41; Current clusters: 8; Likelihood: -2200843.429\n",
      "Iteration: 42; Current clusters: 8; Likelihood: -2200779.500\n",
      "Iteration: 43; Current clusters: 8; Likelihood: -2200890.832\n",
      "Iteration: 44; Current clusters: 8; Likelihood: -2200856.268\n",
      "Iteration: 45; Current clusters: 9; Likelihood: -2200915.348\n",
      "Iteration: 46; Current clusters: 8; Likelihood: -2200875.032\n",
      "Iteration: 47; Current clusters: 8; Likelihood: -2200900.907\n",
      "Iteration: 48; Current clusters: 8; Likelihood: -2200805.675\n",
      "Iteration: 49; Current clusters: 8; Likelihood: -2200918.439\n",
      "Iteration: 50; Current clusters: 8; Likelihood: -2200870.129\n",
      "Iteration: 51; Current clusters: 8; Likelihood: -2200808.975\n",
      "Iteration: 52; Current clusters: 8; Likelihood: -2200775.657\n",
      "Iteration: 53; Current clusters: 8; Likelihood: -2200894.206\n",
      "Iteration: 54; Current clusters: 8; Likelihood: -2200752.721\n",
      "Iteration: 55; Current clusters: 8; Likelihood: -2200755.920\n",
      "Iteration: 56; Current clusters: 8; Likelihood: -2200903.041\n",
      "Iteration: 57; Current clusters: 8; Likelihood: -2200876.402\n",
      "Iteration: 58; Current clusters: 8; Likelihood: -2200827.057\n",
      "Iteration: 59; Current clusters: 8; Likelihood: -2200849.075\n",
      "Iteration: 60; Current clusters: 8; Likelihood: -2200784.289\n",
      "Iteration: 61; Current clusters: 8; Likelihood: -2200928.804\n",
      "Iteration: 62; Current clusters: 8; Likelihood: -2200779.596\n",
      "Iteration: 63; Current clusters: 8; Likelihood: -2200977.031\n",
      "Iteration: 64; Current clusters: 9; Likelihood: -2200818.194\n",
      "Iteration: 65; Current clusters: 8; Likelihood: -2200906.661\n",
      "Iteration: 66; Current clusters: 8; Likelihood: -2200891.309\n",
      "Iteration: 67; Current clusters: 8; Likelihood: -2200763.648\n",
      "Iteration: 68; Current clusters: 8; Likelihood: -2200810.235\n",
      "Iteration: 69; Current clusters: 8; Likelihood: -2200843.287\n",
      "Iteration: 70; Current clusters: 8; Likelihood: -2200815.562\n",
      "Iteration: 71; Current clusters: 8; Likelihood: -2200837.529\n",
      "Iteration: 72; Current clusters: 8; Likelihood: -2200803.263\n",
      "Iteration: 73; Current clusters: 8; Likelihood: -2200758.627\n",
      "Iteration: 74; Current clusters: 8; Likelihood: -2200876.726\n",
      "Iteration: 75; Current clusters: 8; Likelihood: -2200883.610\n",
      "Iteration: 76; Current clusters: 8; Likelihood: -2200839.951\n",
      "Iteration: 77; Current clusters: 8; Likelihood: -2200810.452\n",
      "Iteration: 78; Current clusters: 8; Likelihood: -2200752.710\n",
      "Iteration: 79; Current clusters: 8; Likelihood: -2200813.492\n",
      "Iteration: 80; Current clusters: 8; Likelihood: -2200814.817\n",
      "Iteration: 81; Current clusters: 9; Likelihood: -2200861.136\n",
      "Iteration: 82; Current clusters: 8; Likelihood: -2200742.147\n",
      "Iteration: 83; Current clusters: 9; Likelihood: -2200826.009\n",
      "Iteration: 84; Current clusters: 8; Likelihood: -2200799.251\n",
      "Iteration: 85; Current clusters: 8; Likelihood: -2200755.954\n",
      "Iteration: 86; Current clusters: 8; Likelihood: -2200842.667\n",
      "Iteration: 87; Current clusters: 9; Likelihood: -2200897.996\n",
      "Iteration: 88; Current clusters: 8; Likelihood: -2200765.685\n",
      "Iteration: 89; Current clusters: 8; Likelihood: -2200821.076\n",
      "Iteration: 90; Current clusters: 8; Likelihood: -2200827.061\n",
      "Iteration: 91; Current clusters: 8; Likelihood: -2200769.613\n",
      "Iteration: 92; Current clusters: 8; Likelihood: -2200830.756\n",
      "Iteration: 93; Current clusters: 8; Likelihood: -2200786.530\n",
      "Iteration: 94; Current clusters: 8; Likelihood: -2200804.262\n",
      "Iteration: 95; Current clusters: 8; Likelihood: -2200825.316\n",
      "Iteration: 96; Current clusters: 10; Likelihood: -2200804.683\n",
      "Iteration: 97; Current clusters: 9; Likelihood: -2200745.973\n",
      "Iteration: 98; Current clusters: 8; Likelihood: -2200845.689\n",
      "Iteration: 99; Current clusters: 8; Likelihood: -2200817.749\n",
      "Iteration: 100; Current clusters: 8; Likelihood: -2200875.822\n",
      "Iteration: 101; Current clusters: 8; Likelihood: -2200748.173\n",
      "Iteration: 102; Current clusters: 9; Likelihood: -2200811.637\n",
      "Iteration: 103; Current clusters: 8; Likelihood: -2200887.391\n",
      "Iteration: 104; Current clusters: 9; Likelihood: -2200839.717\n",
      "Iteration: 105; Current clusters: 8; Likelihood: -2200839.321\n",
      "Iteration: 106; Current clusters: 8; Likelihood: -2200929.847\n",
      "Iteration: 107; Current clusters: 8; Likelihood: -2200858.680\n",
      "Iteration: 108; Current clusters: 8; Likelihood: -2200870.191\n",
      "Iteration: 109; Current clusters: 8; Likelihood: -2200902.949\n",
      "Iteration: 110; Current clusters: 8; Likelihood: -2200770.988\n",
      "Iteration: 111; Current clusters: 8; Likelihood: -2200819.569\n",
      "Iteration: 112; Current clusters: 8; Likelihood: -2200822.339\n",
      "Iteration: 113; Current clusters: 8; Likelihood: -2200844.276\n",
      "Iteration: 114; Current clusters: 8; Likelihood: -2200890.337\n",
      "Iteration: 115; Current clusters: 8; Likelihood: -2200858.791\n",
      "Iteration: 116; Current clusters: 8; Likelihood: -2200812.731\n",
      "Iteration: 117; Current clusters: 8; Likelihood: -2200896.805\n",
      "Iteration: 118; Current clusters: 8; Likelihood: -2200778.301\n",
      "Iteration: 119; Current clusters: 8; Likelihood: -2200804.582\n",
      "Iteration: 120; Current clusters: 8; Likelihood: -2200810.512\n",
      "Iteration: 121; Current clusters: 8; Likelihood: -2200791.083\n",
      "Iteration: 122; Current clusters: 8; Likelihood: -2200841.312\n",
      "Iteration: 123; Current clusters: 8; Likelihood: -2200830.760\n",
      "Iteration: 124; Current clusters: 9; Likelihood: -2200878.119\n",
      "Iteration: 125; Current clusters: 8; Likelihood: -2200795.738\n",
      "Iteration: 126; Current clusters: 8; Likelihood: -2200863.459\n",
      "Iteration: 127; Current clusters: 8; Likelihood: -2200827.976\n",
      "Iteration: 128; Current clusters: 8; Likelihood: -2200798.744\n",
      "Iteration: 129; Current clusters: 8; Likelihood: -2200740.896\n",
      "Iteration: 130; Current clusters: 10; Likelihood: -2200753.556\n",
      "Iteration: 131; Current clusters: 9; Likelihood: -2200871.530\n",
      "Iteration: 132; Current clusters: 8; Likelihood: -2200870.084\n",
      "Iteration: 133; Current clusters: 8; Likelihood: -2200847.206\n",
      "Iteration: 134; Current clusters: 8; Likelihood: -2200927.252\n",
      "Model 2:\n",
      "Iteration: 1; Current clusters: 10; Likelihood: -2204908.203\n",
      "Iteration: 2; Current clusters: 15; Likelihood: -2192055.113\n",
      "Iteration: 3; Current clusters: 12; Likelihood: -2191434.294\n",
      "Iteration: 4; Current clusters: 13; Likelihood: -2191214.028\n",
      "Iteration: 5; Current clusters: 13; Likelihood: -2191222.428\n",
      "Iteration: 6; Current clusters: 12; Likelihood: -2191352.461\n",
      "Iteration: 7; Current clusters: 10; Likelihood: -2191205.350\n",
      "Iteration: 8; Current clusters: 10; Likelihood: -2191289.736\n",
      "Iteration: 9; Current clusters: 10; Likelihood: -2191368.997\n",
      "Iteration: 10; Current clusters: 10; Likelihood: -2191339.029\n",
      "Iteration: 11; Current clusters: 9; Likelihood: -2191227.956\n",
      "Iteration: 12; Current clusters: 9; Likelihood: -2191365.033\n",
      "Iteration: 13; Current clusters: 12; Likelihood: -2191280.414\n",
      "Iteration: 14; Current clusters: 9; Likelihood: -2191288.812\n",
      "Iteration: 15; Current clusters: 9; Likelihood: -2191276.654\n",
      "Iteration: 16; Current clusters: 11; Likelihood: -2191338.539\n",
      "Iteration: 17; Current clusters: 9; Likelihood: -2191330.692\n",
      "Iteration: 18; Current clusters: 9; Likelihood: -2191269.199\n"
     ]
    },
    {
     "name": "stdout",
     "output_type": "stream",
     "text": [
      "Iteration: 19; Current clusters: 10; Likelihood: -2191309.158\n",
      "Iteration: 20; Current clusters: 11; Likelihood: -2191268.117\n",
      "Iteration: 21; Current clusters: 12; Likelihood: -2191356.932\n",
      "Iteration: 22; Current clusters: 11; Likelihood: -2191323.225\n",
      "Iteration: 23; Current clusters: 10; Likelihood: -2191343.231\n",
      "Iteration: 24; Current clusters: 10; Likelihood: -2191337.732\n",
      "Iteration: 25; Current clusters: 10; Likelihood: -2191339.738\n",
      "Iteration: 26; Current clusters: 10; Likelihood: -2191359.238\n",
      "Iteration: 27; Current clusters: 13; Likelihood: -2191353.910\n",
      "Iteration: 28; Current clusters: 10; Likelihood: -2191247.807\n",
      "Iteration: 29; Current clusters: 11; Likelihood: -2191283.295\n",
      "Iteration: 30; Current clusters: 11; Likelihood: -2191305.425\n",
      "Iteration: 31; Current clusters: 9; Likelihood: -2191402.761\n",
      "Iteration: 32; Current clusters: 10; Likelihood: -2191271.508\n",
      "Iteration: 33; Current clusters: 10; Likelihood: -2191242.669\n",
      "Iteration: 34; Current clusters: 11; Likelihood: -2191410.503\n",
      "Iteration: 35; Current clusters: 11; Likelihood: -2191225.338\n",
      "Iteration: 36; Current clusters: 9; Likelihood: -2191272.941\n",
      "Iteration: 37; Current clusters: 12; Likelihood: -2191218.725\n",
      "Iteration: 38; Current clusters: 10; Likelihood: -2191280.623\n",
      "Iteration: 39; Current clusters: 11; Likelihood: -2191313.045\n",
      "Iteration: 40; Current clusters: 11; Likelihood: -2191375.157\n",
      "Iteration: 41; Current clusters: 11; Likelihood: -2191327.333\n",
      "Iteration: 42; Current clusters: 10; Likelihood: -2191304.414\n",
      "Iteration: 43; Current clusters: 12; Likelihood: -2191315.941\n",
      "Iteration: 44; Current clusters: 11; Likelihood: -2191276.890\n",
      "Iteration: 45; Current clusters: 10; Likelihood: -2191271.957\n",
      "Iteration: 46; Current clusters: 12; Likelihood: -2191348.216\n",
      "Iteration: 47; Current clusters: 10; Likelihood: -2191293.789\n",
      "Iteration: 48; Current clusters: 11; Likelihood: -2191296.002\n",
      "Iteration: 49; Current clusters: 10; Likelihood: -2191399.410\n",
      "Iteration: 50; Current clusters: 9; Likelihood: -2191272.066\n",
      "Iteration: 51; Current clusters: 11; Likelihood: -2191308.106\n",
      "Iteration: 52; Current clusters: 11; Likelihood: -2191317.802\n",
      "Iteration: 53; Current clusters: 11; Likelihood: -2191356.649\n",
      "Iteration: 54; Current clusters: 10; Likelihood: -2191239.377\n",
      "Iteration: 55; Current clusters: 11; Likelihood: -2191271.971\n",
      "Iteration: 56; Current clusters: 10; Likelihood: -2191302.317\n",
      "Iteration: 57; Current clusters: 12; Likelihood: -2191357.666\n",
      "Iteration: 58; Current clusters: 11; Likelihood: -2191352.040\n",
      "Iteration: 59; Current clusters: 9; Likelihood: -2191297.719\n",
      "Iteration: 60; Current clusters: 12; Likelihood: -2191222.885\n",
      "Iteration: 61; Current clusters: 11; Likelihood: -2191303.804\n",
      "Iteration: 62; Current clusters: 10; Likelihood: -2191168.837\n",
      "Iteration: 63; Current clusters: 11; Likelihood: -2191299.116\n",
      "Iteration: 64; Current clusters: 12; Likelihood: -2191366.098\n",
      "Iteration: 65; Current clusters: 10; Likelihood: -2191324.099\n",
      "Iteration: 66; Current clusters: 11; Likelihood: -2191396.691\n",
      "Iteration: 67; Current clusters: 11; Likelihood: -2191271.861\n",
      "Iteration: 68; Current clusters: 12; Likelihood: -2191117.276\n",
      "Iteration: 69; Current clusters: 11; Likelihood: -2191336.886\n",
      "Iteration: 70; Current clusters: 9; Likelihood: -2191363.800\n",
      "Iteration: 71; Current clusters: 11; Likelihood: -2191385.713\n",
      "Iteration: 72; Current clusters: 12; Likelihood: -2191267.761\n",
      "Iteration: 73; Current clusters: 11; Likelihood: -2191369.201\n",
      "Iteration: 74; Current clusters: 14; Likelihood: -2191238.979\n",
      "Iteration: 75; Current clusters: 11; Likelihood: -2191419.230\n",
      "Iteration: 76; Current clusters: 10; Likelihood: -2191336.647\n",
      "Iteration: 77; Current clusters: 12; Likelihood: -2191328.006\n",
      "Iteration: 78; Current clusters: 10; Likelihood: -2191274.658\n",
      "Iteration: 79; Current clusters: 10; Likelihood: -2191322.592\n",
      "Iteration: 80; Current clusters: 14; Likelihood: -2191364.109\n",
      "Iteration: 81; Current clusters: 11; Likelihood: -2191349.833\n",
      "Iteration: 82; Current clusters: 10; Likelihood: -2191252.737\n",
      "Iteration: 83; Current clusters: 11; Likelihood: -2191406.302\n",
      "Iteration: 84; Current clusters: 10; Likelihood: -2191345.102\n",
      "Iteration: 85; Current clusters: 10; Likelihood: -2191347.575\n",
      "Iteration: 86; Current clusters: 9; Likelihood: -2191406.540\n",
      "Iteration: 87; Current clusters: 10; Likelihood: -2191300.019\n",
      "Iteration: 88; Current clusters: 10; Likelihood: -2191324.034\n",
      "Iteration: 89; Current clusters: 12; Likelihood: -2191403.378\n",
      "Iteration: 90; Current clusters: 12; Likelihood: -2191329.928\n",
      "Iteration: 91; Current clusters: 11; Likelihood: -2191278.396\n",
      "Iteration: 92; Current clusters: 12; Likelihood: -2191279.017\n",
      "Iteration: 93; Current clusters: 12; Likelihood: -2191222.606\n",
      "Iteration: 94; Current clusters: 10; Likelihood: -2191206.556\n",
      "Iteration: 95; Current clusters: 11; Likelihood: -2191194.750\n",
      "Iteration: 96; Current clusters: 10; Likelihood: -2191233.533\n",
      "Iteration: 97; Current clusters: 11; Likelihood: -2191281.525\n",
      "Iteration: 98; Current clusters: 10; Likelihood: -2191425.578\n",
      "Iteration: 99; Current clusters: 10; Likelihood: -2191203.480\n",
      "Iteration: 100; Current clusters: 10; Likelihood: -2191403.146\n",
      "Iteration: 101; Current clusters: 11; Likelihood: -2191462.970\n",
      "Iteration: 102; Current clusters: 15; Likelihood: -2191222.434\n",
      "Iteration: 103; Current clusters: 12; Likelihood: -2191324.530\n",
      "Iteration: 104; Current clusters: 12; Likelihood: -2191214.716\n",
      "Iteration: 105; Current clusters: 12; Likelihood: -2191229.230\n",
      "Iteration: 106; Current clusters: 10; Likelihood: -2191266.361\n",
      "Iteration: 107; Current clusters: 9; Likelihood: -2191338.646\n",
      "Iteration: 108; Current clusters: 10; Likelihood: -2191313.823\n",
      "Iteration: 109; Current clusters: 9; Likelihood: -2191300.752\n",
      "Iteration: 110; Current clusters: 9; Likelihood: -2191264.479\n",
      "Iteration: 111; Current clusters: 11; Likelihood: -2191315.873\n",
      "Iteration: 112; Current clusters: 10; Likelihood: -2191346.718\n",
      "Iteration: 113; Current clusters: 10; Likelihood: -2191332.812\n",
      "Iteration: 114; Current clusters: 10; Likelihood: -2191335.153\n",
      "Iteration: 115; Current clusters: 10; Likelihood: -2191368.633\n",
      "Iteration: 116; Current clusters: 9; Likelihood: -2191288.943\n",
      "Iteration: 117; Current clusters: 10; Likelihood: -2191222.118\n",
      "Model 0:\n"
     ]
    },
    {
     "data": {
      "image/png": "[encoded data removed]",
      "text/plain": [
       "<Figure size 432x288 with 1 Axes>"
      ]
     },
     "metadata": {
      "needs_background": "light"
     },
     "output_type": "display_data"
    },
    {
     "name": "stdout",
     "output_type": "stream",
     "text": [
      "Model 1:\n"
     ]
    },
    {
     "data": {
      "image/png": "[encoded data removed]",
      "text/plain": [
       "<Figure size 432x288 with 1 Axes>"
      ]
     },
     "metadata": {
      "needs_background": "light"
     },
     "output_type": "display_data"
    },
    {
     "name": "stdout",
     "output_type": "stream",
     "text": [
      "Model 2:\n"
     ]
    },
    {
     "data": {
      "image/png": "[encoded data removed]",
      "text/plain": [
       "<Figure size 432x288 with 1 Axes>"
      ]
     },
     "metadata": {
      "needs_background": "light"
     },
     "output_type": "display_data"
    },
    {
     "name": "stdout",
     "output_type": "stream",
     "text": [
      "Stored 'models' (list)\n"
     ]
    }
   ],
   "source": [
    "number_models = 3\n",
    "if models is None:\n",
    "    models = [PiCollapsedNonparametricGibbsSampler(42) for i in range(number_models)]\n",
    "    for i in range(0, len(models)):\n",
    "        print(\"Model {}:\".format(i))\n",
    "        models[i].fit(inference_matrix, num_burn_in_steps = 100, delta = 1, alpha = 10**(i - 1))\n",
    "for i in range(0, len(models)):\n",
    "    print(\"Model {}:\".format(i))\n",
    "    plt.clf()\n",
    "    plt.plot(models[i].ll_list)\n",
    "    plt.show()\n",
    "\n",
    "%store models"
   ]
  },
  {
   "cell_type": "markdown",
   "metadata": {},
   "source": [
    "May pre select models e.g. according to Aitikens Information Criterion (AIC)."
   ]
  },
  {
   "cell_type": "code",
   "execution_count": 10,
   "metadata": {},
   "outputs": [
    {
     "name": "stdout",
     "output_type": "stream",
     "text": [
      "[4482991.623186531, 4408862.503381192, 4391204.236950362]\n",
      "Chose model 2.\n"
     ]
    }
   ],
   "source": [
    "def AIC(model):\n",
    "    size = np.prod(np.shape(model.theta))\n",
    "    loglikelihood =model.ll_list[-1]\n",
    "    return 2*size - 2*loglikelihood\n",
    "values = list(map(lambda x: AIC(x), models))\n",
    "print(values)\n",
    "best_idx = values.index(min(values))\n",
    "print(\"Chose model {}.\".format(best_idx))"
   ]
  },
  {
   "cell_type": "markdown",
   "metadata": {},
   "source": [
    "## Section 4: Model analysis"
   ]
  },
  {
   "cell_type": "markdown",
   "metadata": {},
   "source": [
    "In this section we explore our model a little bit."
   ]
  },
  {
   "cell_type": "code",
   "execution_count": 11,
   "metadata": {},
   "outputs": [
    {
     "data": {
      "text/plain": [
       "array([0.34239843, 0.53971578])"
      ]
     },
     "execution_count": 11,
     "metadata": {},
     "output_type": "execute_result"
    }
   ],
   "source": [
    "pca = PCA(n_components = 2)\n",
    "principalComponents = pca.fit_transform(inference_matrix)\n",
    "pca.explained_variance_ratio_.cumsum()"
   ]
  },
  {
   "cell_type": "markdown",
   "metadata": {},
   "source": [
    "=> Over 50% of the variation can be explained by the first two principle components."
   ]
  },
  {
   "cell_type": "code",
   "execution_count": 12,
   "metadata": {},
   "outputs": [],
   "source": [
    "inds = [0]*len(inference_matrix)\n",
    "for ind, pos in individual_map.items():\n",
    "    inds[2*pos] = ind\n",
    "    inds[2*pos+1] = ind\n",
    "\n",
    "populations = [\"AFR\", \"AMR\", \"EAS\", \"EUR\", \"SAS\"]\n",
    "sub_populations = ['STU', 'CLM', 'BEB', 'CHS', 'LWK', 'ACB', 'FIN', 'KHV', 'TSI', 'PUR', 'GWD', 'CDX', 'GBR', 'ESN', 'MXL', 'IBS', 'CHB', 'JPT', 'CEU', 'PEL', 'ITU', 'ASW', 'MSL', 'YRI', 'GIH', 'PJL']\n",
    "ind_map = data_manager.generate_individual_population_map()\n",
    "population_index = []\n",
    "sub_population_index = []\n",
    "for ind in inds:\n",
    "    for pop in ind_map[ind]:\n",
    "        if pop in populations:\n",
    "            population_index.append(populations.index(pop))\n",
    "        if pop in sub_populations:\n",
    "            sub_population_index.append(sub_populations.index(pop))\n",
    "pops = np.array(population_index)\n",
    "sub_pops = np.array(sub_population_index)"
   ]
  },
  {
   "cell_type": "markdown",
   "metadata": {},
   "source": [
    "When we plot the individuals in the dimensions of the first two principle components we see that the variations seem to be spread through the populations. However, this might also be due to the strong dimensional reduction."
   ]
  },
  {
   "cell_type": "code",
   "execution_count": null,
   "metadata": {},
   "outputs": [],
   "source": [
    "fig, ax = plt.subplots(nrows = 2, figsize = (20,20))\n",
    "\n",
    "for i in range(len(pops)):\n",
    "    ax[0].plot(principalComponents[pops == i,0], principalComponents[pops == i,1], \"o\", alpha=0.5)\n",
    "ax[0].legend(populations)\n",
    "for i in range(len(sub_pops)):\n",
    "    ax[1].plot(principalComponents[sub_pops == i,0], principalComponents[sub_pops == i,1], \"o\", alpha=0.5)\n",
    "ax[1].legend(sub_populations, loc = \"upper right\")\n",
    "ax[0].set_ylabel(\"First principle component\")\n",
    "ax[0].set_xlabel(\"Second principle component\")\n",
    "ax[0].set_title(\"Mapping of sequences of the different populations over the first and second principle components.\")\n",
    "\n",
    "ax[1].set_ylabel(\"First principle component\")\n",
    "ax[1].set_xlabel(\"Second principle component\")\n",
    "ax[1].set_title(\"Mapping of sequences of the different subpopulations over the first and second principle components.\")"
   ]
  },
  {
   "cell_type": "markdown",
   "metadata": {},
   "source": [
    "Plotting the same, but coloring the clusters determined by the mixture model gives some insight of how this model works. Still, we have to remember that this is a very strong dimensional reduction."
   ]
  },
  {
   "cell_type": "code",
   "execution_count": null,
   "metadata": {
    "scrolled": true
   },
   "outputs": [],
   "source": [
    "fig, ax = plt.subplots(figsize = (20,10))\n",
    "\n",
    "for i in range(int(max(models[best_idx].Z))):\n",
    "    ax.plot(principalComponents[models[best_idx].Z == i,0], principalComponents[models[best_idx].Z == i,1], \"o\", alpha=0.5)\n",
    "ax.legend(range(int(max(models[best_idx].Z))))\n",
    "\n",
    "ax.set_ylabel(\"First principle component\")\n",
    "ax.set_xlabel(\"Second principle component\")\n",
    "ax.set_title(\"Mapping of sequences of the clusters over the first and second principle components.\")"
   ]
  },
  {
   "cell_type": "markdown",
   "metadata": {},
   "source": [
    "We can also look at the distribution of populations and subpopulations within the clusters:"
   ]
  },
  {
   "cell_type": "code",
   "execution_count": null,
   "metadata": {},
   "outputs": [],
   "source": [
    "fig, ax = plt.subplots(nrows = 2, figsize=(20,20))\n",
    "pops_per_cluster = np.array([np.histogram(pops[models[best_idx].Z == i], bins=len(populations))[0] for i in range(models[best_idx].K_seen)])\n",
    "df = pd.DataFrame(dict(zip(populations, pops_per_cluster.T)))\n",
    "df.index = [\"Cluster \" + str(i) for i in range(len(models[best_idx].theta))]\n",
    "df.plot(kind=\"bar\", stacked=True, ax=ax[0])\n",
    "pops_per_cluster = np.array([np.histogram(sub_pops[models[best_idx].Z == i], bins=len(sub_populations))[0] for i in range(models[best_idx].K_seen)])\n",
    "df = pd.DataFrame(dict(zip(sub_populations, pops_per_cluster.T)))\n",
    "df.index = [\"Cluster \" + str(i) for i in range(len(models[best_idx].theta))]\n",
    "df.plot(kind=\"bar\", stacked=True, ax=ax[1])\n",
    "\n",
    "ax[0].set_ylabel(\"Number of sequences\")\n",
    "ax[0].set_xlabel(\"Clusters\")\n",
    "ax[0].set_title(\"Number of sequences in populations for each cluster.\")\n",
    "ax[1].set_ylabel(\"Number of sequences\")\n",
    "ax[1].set_xlabel(\"Clusters\")\n",
    "ax[1].set_title(\"Number of sequences in subpopulations for each cluster.\")"
   ]
  },
  {
   "cell_type": "markdown",
   "metadata": {},
   "source": [
    "In the following we plot the probability for each variant for each of the clusters. We can see that each cluster has a distinct pattern of variants."
   ]
  },
  {
   "cell_type": "code",
   "execution_count": null,
   "metadata": {
    "scrolled": true
   },
   "outputs": [],
   "source": [
    "df = pd.DataFrame(dict(zip([\"Cluster \" + str(i) for i in range(len(models[best_idx].theta))], list(models[best_idx].theta))))\n",
    "fig, ax = plt.subplots(figsize=(20,10))\n",
    "ax = sns.heatmap(df)\n",
    "ax.set_ylabel(\"Variants\")\n",
    "ax.set_xlabel(\"Clusters\")\n",
    "ax.set_title(\"Heatmap of probabilites of variants per cluster\")"
   ]
  },
  {
   "cell_type": "markdown",
   "metadata": {},
   "source": [
    "## Section 5: Sequence Generation"
   ]
  },
  {
   "cell_type": "markdown",
   "metadata": {},
   "source": [
    "The following builds a sequence generator from the parameters which were determined during model training."
   ]
  },
  {
   "cell_type": "code",
   "execution_count": null,
   "metadata": {},
   "outputs": [],
   "source": [
    "variant_ranges = data_manager.get_variation_range(**allele_args)\n",
    "mm = AlleleMM(models[best_idx].Z, models[best_idx].theta, inference_matrix, variant_ranges, variation_map)"
   ]
  },
  {
   "cell_type": "markdown",
   "metadata": {},
   "source": [
    "We can then sample a set of indices which can be mapped to variant ids."
   ]
  },
  {
   "cell_type": "code",
   "execution_count": null,
   "metadata": {},
   "outputs": [],
   "source": [
    "sample = mm.sample_variations()\n",
    "len(sample)"
   ]
  },
  {
   "cell_type": "markdown",
   "metadata": {},
   "source": [
    "We can compare the samples to the respective cluster. Here the choice of cluster is equally distributed. In the sampling without specified cluster it is determined based on infered paramters, i.e. in reality some clusters might be much more rare than it may seem here."
   ]
  },
  {
   "cell_type": "code",
   "execution_count": null,
   "metadata": {},
   "outputs": [],
   "source": [
    "number_of_samples = 5\n",
    "samples = []\n",
    "descriptions = []\n",
    "k = np.random.choice(range(int(max(models[best_idx].Z) + 1)))\n",
    "theta = models[best_idx].theta[k]\n",
    "indicator_value = theta.max()\n",
    "for i in range(number_of_samples):\n",
    "    characteristic_vector = np.zeros(len(theta))\n",
    "    characteristic_vector[mm.sample_variations(k)] = indicator_value\n",
    "    samples.append(characteristic_vector)\n",
    "    descriptions.append(\"Sample {} for Cluster {}\".format(i + 1, k))\n",
    "samples.append(theta)\n",
    "descriptions.append(\"Cluster {}\".format(k))\n",
    "df = pd.DataFrame(dict(zip(descriptions, samples)))\n",
    "fig, ax = plt.subplots(figsize=(20,10))\n",
    "ax = sns.heatmap(df)\n",
    "ax.set_ylabel(\"Variants\")\n",
    "ax.set_xlabel(\"Sequences\")\n",
    "ax.set_title(\"Comparison of variants for a cluster and samples drawn from it\")"
   ]
  },
  {
   "cell_type": "markdown",
   "metadata": {},
   "source": [
    "In order to now actually generate a sequence we first need to convert our bitvector back to variants."
   ]
  },
  {
   "cell_type": "code",
   "execution_count": null,
   "metadata": {},
   "outputs": [],
   "source": [
    "invert_variation_map = {}\n",
    "for key in variation_map:\n",
    "    invert_variation_map[variation_map[key]] = key\n",
    "alternates_map = data_manager.get_variation_alternate(**allele_args)\n",
    "\n",
    "sample = mm.sample_variations()\n",
    "selected_variants = [alternates_map[invert_variation_map[index]] for index in sample]\n",
    "selected_variants.sort(key = lambda x: x[1])\n",
    "#selected_variants"
   ]
  },
  {
   "cell_type": "markdown",
   "metadata": {},
   "source": [
    "And then insert them into the reference sequence."
   ]
  },
  {
   "cell_type": "code",
   "execution_count": null,
   "metadata": {},
   "outputs": [],
   "source": [
    "seq_data = data_manager.fetch_region(region_start, region_end, ref_name)\n",
    "seq = seq_data['seq']\n",
    "header = seq_data['id']\n",
    "offset = region_start # to compute variant coordinates relative to region start\n",
    "sequence_parts = []\n",
    "start = 0\n",
    "offset_start = 0\n",
    "for variant in selected_variants:\n",
    "    offset_start = variant[1] - offset\n",
    "    offset_end = variant[2] - offset\n",
    "    sequence_parts.append(seq[start: offset_start])\n",
    "    sequence_parts.append(np.random.choice(variant[0]))\n",
    "    start = offset_end\n",
    "sequence_parts.append(seq[start:])\n",
    "generated_sequence = \"\".join(sequence_parts)\n",
    "#generated_sequence"
   ]
  },
  {
   "cell_type": "markdown",
   "metadata": {},
   "source": [
    "We can also write the created sequences into a fasta file."
   ]
  },
  {
   "cell_type": "code",
   "execution_count": null,
   "metadata": {},
   "outputs": [],
   "source": [
    "number_of_sequences = 5\n",
    "sequences = []\n",
    "headers = []\n",
    "for i in range(number_of_sequences):\n",
    "    sample = mm.sample_variations()\n",
    "    selected_variants = [alternates_map[invert_variation_map[index]] for index in sample]\n",
    "    selected_variants.sort(key = lambda x: x[1])\n",
    "    sequence_parts = []\n",
    "    start = 0\n",
    "    offset_start = 0\n",
    "    for variant in selected_variants:\n",
    "        offset_start = variant[1] - offset\n",
    "        offset_end = variant[2] - offset\n",
    "        sequence_parts.append(seq[start: offset_start])\n",
    "        sequence_parts.append(np.random.choice(variant[0]))\n",
    "        start = offset_end\n",
    "    sequence_parts.append(seq[start:])\n",
    "    generated_sequence = \"\".join(sequence_parts)\n",
    "    sequences.append(generated_sequence)\n",
    "    headers.append(\">{} - artifical variation {}\".format(header, i))\n",
    "write_sequences(\"Generated Variations.fasta\", headers, sequences)"
   ]
  },
  {
   "cell_type": "markdown",
   "metadata": {},
   "source": [
    "For comparison we also write the reference sequence to a seperate fasta file."
   ]
  },
  {
   "cell_type": "code",
   "execution_count": null,
   "metadata": {},
   "outputs": [],
   "source": [
    "write_sequences(\"Reference Sequence.fasta\", [\">{}\".format(header)], [seq])"
   ]
  },
  {
   "cell_type": "code",
   "execution_count": null,
   "metadata": {},
   "outputs": [],
   "source": []
  }
 ],
 "metadata": {
  "kernelspec": {
   "display_name": "Python 3",
   "language": "python",
   "name": "python3"
  },
  "language_info": {
   "codemirror_mode": {
    "name": "ipython",
    "version": 3
   },
   "file_extension": ".py",
   "mimetype": "text/x-python",
   "name": "python",
   "nbconvert_exporter": "python",
   "pygments_lexer": "ipython3",
   "version": "3.6.9"
  }
 },
 "nbformat": 4,
 "nbformat_minor": 2
}
