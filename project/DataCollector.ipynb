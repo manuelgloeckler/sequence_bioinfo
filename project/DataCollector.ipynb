{
 "nbformat": 4,
 "nbformat_minor": 2,
 "metadata": {
  "language_info": {
   "name": "python",
   "codemirror_mode": {
    "name": "ipython",
    "version": 3
   },
   "version": "3.7.4"
  },
  "orig_nbformat": 2,
  "file_extension": ".py",
  "mimetype": "text/x-python",
  "name": "python",
  "npconvert_exporter": "python",
  "pygments_lexer": "ipython3",
  "version": 3
 },
 "cells": [
  {
   "cell_type": "code",
   "execution_count": 80,
   "metadata": {},
   "outputs": [],
   "source": [
    "import requests, sys\n",
    "import warnings"
   ]
  },
  {
   "cell_type": "code",
   "execution_count": 101,
   "metadata": {},
   "outputs": [],
   "source": [
    "class DataCollecter():\n",
    "    def __init__(self):\n",
    "        self.samples = list()\n",
    "        self.populations = list()\n",
    "        self.population_info = dict()\n",
    "        self.samples_info = dict()\n",
    "        self.map_samples_to_pop = dict()\n",
    "        self.map_pop_to_samples = dict()\n",
    "\n",
    "    \"\"\" This method will return all populations of ensembl with the filter set to LD -> 1000 Genome phase 3\"\"\"\n",
    "    def get_populations(self):\n",
    "        if len(self.populations) == 0:\n",
    "            server = \"https://grch37.rest.ensembl.org\"\n",
    "            ext = \"/info/variation/populations/homo_sapiens?filter=LD\"\n",
    "            r = requests.get(server+ext, headers={ \"Content-Type\" : \"application/json\"})\n",
    " \n",
    "            if not r.ok:\n",
    "                r.raise_for_status()\n",
    "                sys.exit()\n",
    "\n",
    "            populations = r.json()\n",
    "            for entry in populations:\n",
    "                key = entry[\"name\"].split(\":\")[-1]\n",
    "                self.populations.append(key)\n",
    "                self.population_info[key] = entry\n",
    "\n",
    "        return self.populations\n",
    "\n",
    "    \"\"\" This method will return all samples from 1000GENOMES:phase_3 for all populations \"\"\"\n",
    "    def get_samples(self):\n",
    "        if len(self.populations) == 0:\n",
    "            server = \"https://grch37.rest.ensembl.org\"\n",
    "            ext = \"/info/variation/populations/human/1000GENOMES:phase_3:ALL?\"\n",
    "\n",
    "            r = requests.get(server+ext, headers={ \"Content-Type\" : \"application/json\"})\n",
    "\n",
    "            if not r.ok:\n",
    "                r.raise_for_status()\n",
    "                sys.exit()\n",
    "\n",
    "            samples = r.json()[0][\"individuals\"]\n",
    "            for entry in samples:\n",
    "                key = entry[\"name\"].split(\":\")[-1]\n",
    "                self.samples.append(key)\n",
    "                self.samples_info[key] = entry \n",
    "        return self.samples\n",
    "    \n",
    "    \"\"\" Get samples by population \"\"\"\n",
    "    def get_samples_by_pop(self, population):\n",
    "        if len(self.samples) == 0:\n",
    "            self.get_samples()\n",
    "\n",
    "        if len(self.populations) == 0:\n",
    "            self.get_populations()\n",
    "\n",
    "        if len(self.map_pop_to_samples) == 0:\n",
    "            for pop in self.populations:\n",
    "                server = \"https://grch37.rest.ensembl.org\"\n",
    "                ext = \"/info/variation/populations/human/1000GENOMES:phase_3:\" + pop + \"?\"\n",
    " \n",
    "                r = requests.get(server+ext, headers={ \"Content-Type\" : \"application/json\"})\n",
    " \n",
    "                if not r.ok:\n",
    "                    r.raise_for_status()\n",
    "                    sys.exit()\n",
    " \n",
    "                samples_pop = r.json()[0][\"individuals\"]\n",
    "                \n",
    "                for entry in samples_pop:\n",
    "                    key = entry[\"name\"].split(\":\")[-1]\n",
    "                    self.map_samples_to_pop[key] = pop\n",
    "                    item = self.map_pop_to_samples.get(pop, [])\n",
    "                    item.append(key)\n",
    "                    self.map_pop_to_samples[pop] = item\n",
    "\n",
    "        if population in self.map_pop_to_samples.keys():\n",
    "            return self.map_pop_to_samples[population]\n",
    "        else:\n",
    "            warnings.warn(\"This population does not exist, returned all samples\")\n",
    "            return self.samples\n",
    "    \"\"\" This method will return the population of a sample \"\"\"\n",
    "    def get_pop_by_sample(self, sample):\n",
    "        if len(self.map_samples_to_pop) == 0:\n",
    "            this.get_samples_by_pop()\n",
    "\n",
    "        if sample in map_samples_to_pop.keys():\n",
    "            return map_samples_to_pop[sample]\n",
    "        else:\n",
    "            warnings.warn(\"This sample does not exist, returned ALL\")\n",
    "            return \"ALL\"\n",
    "\n",
    "    def _fetch_variants(start,\n",
    "                    end,\n",
    "                    pageSize = 10,\n",
    "                    variantAnnotationSetId = 'Ensembl', \n",
    "                    reference = \"a718acaa6135fdca8357d5bfe94211dd\"):\n",
    "        server = \"https://grch37.rest.ensembl.org\"\n",
    "        ext = \"/ga4gh/variantannotations/search\"\n",
    "        headers={ \"Content-Type\" : \"application/json\", \"Accept\" : \"application/json\"}\n",
    "        r = requests.post(server+ext, headers=headers, data='{\"pageSize\": \"' + pageSize +'\",                \"variantAnnotationSetId\": \"' + variantAnnotationSetId + '\", \"referenceId\": \"' + reference + '\", \"start\": '+start+' , \"end\": ' + end + ' }')\n",
    " \n",
    "        if not r.ok:\n",
    "            r.raise_for_status()\n",
    "            sys.exit()\n",
    "        \n",
    "        decoded = r.json()\n",
    "        return decoded\n",
    "\n",
    "        # TODO iterate over page tokens\n",
    "\n",
    "\n",
    "\n",
    "\n"
   ]
  },
  {
   "cell_type": "code",
   "execution_count": null,
   "metadata": {},
   "outputs": [],
   "source": []
  },
  {
   "cell_type": "code",
   "execution_count": 79,
   "metadata": {},
   "outputs": [
    {
     "ename": "KeyError",
     "evalue": "'ALL'",
     "output_type": "error",
     "traceback": [
      "\u001b[0;31m---------------------------------------------------------------------------\u001b[0m",
      "\u001b[0;31mKeyError\u001b[0m                                  Traceback (most recent call last)",
      "\u001b[0;32m<ipython-input-79-d8910f0ebef0>\u001b[0m in \u001b[0;36m<module>\u001b[0;34m\u001b[0m\n\u001b[1;32m      1\u001b[0m \u001b[0mdata\u001b[0m \u001b[0;34m=\u001b[0m \u001b[0mVariationCollecter\u001b[0m\u001b[0;34m(\u001b[0m\u001b[0;34m)\u001b[0m\u001b[0;34m\u001b[0m\u001b[0;34m\u001b[0m\u001b[0m\n\u001b[0;32m----> 2\u001b[0;31m \u001b[0mdata\u001b[0m\u001b[0;34m.\u001b[0m\u001b[0mget_samples_by_pop\u001b[0m\u001b[0;34m(\u001b[0m\u001b[0;34m\"ALL\"\u001b[0m\u001b[0;34m)\u001b[0m\u001b[0;34m\u001b[0m\u001b[0;34m\u001b[0m\u001b[0m\n\u001b[0m",
      "\u001b[0;32m<ipython-input-76-2e4127bf9ae6>\u001b[0m in \u001b[0;36mget_samples_by_pop\u001b[0;34m(self, population)\u001b[0m\n\u001b[1;32m     74\u001b[0m                     \u001b[0mself\u001b[0m\u001b[0;34m.\u001b[0m\u001b[0mmap_pop_to_samples\u001b[0m\u001b[0;34m[\u001b[0m\u001b[0mpop\u001b[0m\u001b[0;34m]\u001b[0m \u001b[0;34m=\u001b[0m \u001b[0mitem\u001b[0m\u001b[0;34m\u001b[0m\u001b[0;34m\u001b[0m\u001b[0m\n\u001b[1;32m     75\u001b[0m \u001b[0;34m\u001b[0m\u001b[0m\n\u001b[0;32m---> 76\u001b[0;31m         \u001b[0;32mreturn\u001b[0m \u001b[0mself\u001b[0m\u001b[0;34m.\u001b[0m\u001b[0mmap_pop_to_samples\u001b[0m\u001b[0;34m[\u001b[0m\u001b[0mpopulation\u001b[0m\u001b[0;34m]\u001b[0m\u001b[0;34m\u001b[0m\u001b[0;34m\u001b[0m\u001b[0m\n\u001b[0m\u001b[1;32m     77\u001b[0m \u001b[0;34m\u001b[0m\u001b[0m\n",
      "\u001b[0;31mKeyError\u001b[0m: 'ALL'"
     ]
    }
   ],
   "source": [
    "data = VariationCollecter()\n",
    "VariationCollecter._fetc(\"ALL\")"
   ]
  },
  {
   "cell_type": "code",
   "execution_count": 78,
   "metadata": {},
   "outputs": [
    {
     "data": {
      "text/plain": "['NA20412',\n 'NA20362',\n 'NA20359',\n 'NA20357',\n 'NA20356',\n 'NA20355',\n 'NA20351',\n 'NA20348',\n 'NA20346',\n 'NA20342',\n 'NA20340',\n 'NA20339',\n 'NA20334',\n 'NA20332',\n 'NA20321',\n 'NA20320',\n 'NA20318',\n 'NA20317',\n 'NA20314',\n 'NA20299',\n 'NA20298',\n 'NA20296',\n 'NA20294',\n 'NA20291',\n 'NA20289',\n 'NA20287',\n 'NA20282',\n 'NA20281',\n 'NA20278',\n 'NA20276',\n 'NA20274',\n 'NA20127',\n 'NA20126',\n 'NA19984',\n 'NA19982',\n 'NA19923',\n 'NA19922',\n 'NA19921',\n 'NA19920',\n 'NA19917',\n 'NA19916',\n 'NA19914',\n 'NA19913',\n 'NA19909',\n 'NA19908',\n 'NA19904',\n 'NA19901',\n 'NA19900',\n 'NA19835',\n 'NA19834',\n 'NA19819',\n 'NA19818',\n 'NA19713',\n 'NA19712',\n 'NA19711',\n 'NA19707',\n 'NA19704',\n 'NA19703',\n 'NA19701',\n 'NA19700',\n 'NA19625']"
     },
     "execution_count": 78,
     "metadata": {},
     "output_type": "execute_result"
    }
   ],
   "source": [
    "data.get_samples_by_pop(\"ASW\")"
   ]
  },
  {
   "cell_type": "code",
   "execution_count": 15,
   "metadata": {},
   "outputs": [
    {
     "data": {
      "text/plain": "dict_keys(['size', 'description', 'individuals', 'name'])"
     },
     "execution_count": 15,
     "metadata": {},
     "output_type": "execute_result"
    }
   ],
   "source": [
    "server = \"https://grch37.rest.ensembl.org\"\n",
    "ext = \"/info/variation/populations/human/1000GENOMES:phase_3:ALL?\"\n",
    " \n",
    "r = requests.get(server+ext, headers={ \"Content-Type\" : \"application/json\"})\n",
    " \n",
    "if not r.ok:\n",
    "  r.raise_for_status()\n",
    "  sys.exit()\n",
    " \n",
    "decoded = r.json()\n",
    "decoded[0].keys()"
   ]
  },
  {
   "cell_type": "code",
   "execution_count": 42,
   "metadata": {},
   "outputs": [
    {
     "data": {
      "text/plain": "'1000GENOMES:phase_3:NA21144'"
     },
     "execution_count": 42,
     "metadata": {},
     "output_type": "execute_result"
    }
   ],
   "source": [
    "decoded[0][\"individuals\"][0][\"name\"]"
   ]
  },
  {
   "cell_type": "code",
   "execution_count": 6,
   "metadata": {},
   "outputs": [
    {
     "data": {
      "text/plain": "dict_keys(['nextPageToken', 'variants'])"
     },
     "execution_count": 6,
     "metadata": {},
     "output_type": "execute_result"
    }
   ],
   "source": [
    "server = \"https://grch37.rest.ensembl.org\"\n",
    "ext = \"/ga4gh/variants/search\"\n",
    "headers={ \"Content-Type\" : \"application/json\", \"Accept\" : \"application/json\"}\n",
    "r = requests.post(server+ext, headers=headers, data='{ \"variantSetId\": 3, \"callSetIds\":[ \"3:NA19777\"  , \"3:HG01242\" , \"3:HG01142\"   ], \"referenceName\": 22,\"start\": 17190024 ,\"end\":  17671934 }')\n",
    " \n",
    "if not r.ok:\n",
    "  r.raise_for_status()\n",
    "  sys.exit()\n",
    " \n",
    "decoded = r.json()\n",
    "decoded.keys()"
   ]
  },
  {
   "cell_type": "code",
   "execution_count": 7,
   "metadata": {},
   "outputs": [
    {
     "data": {
      "text/plain": "[{'start': 17190036,\n  'names': ['rs533198068'],\n  'created': 1432745640000,\n  'referenceBases': 'A',\n  'referenceName': '22',\n  'alternateBases': ['G'],\n  'id': '3:rs533198068',\n  'calls': [{'callSetId': '3:HG01142',\n    'phaseset': '',\n    'info': {},\n    'genotypeLikelihood': [],\n    'callSetName': 'HG01142',\n    'genotype': [0, 0]},\n   {'info': {},\n    'callSetName': 'HG01242',\n    'genotypeLikelihood': [],\n    'genotype': [0, 0],\n    'callSetId': '3:HG01242',\n    'phaseset': ''},\n   {'genotype': [0, 0],\n    'info': {},\n    'callSetName': 'NA19777',\n    'genotypeLikelihood': [],\n    'phaseset': '',\n    'callSetId': '3:NA19777'}],\n  'info': {'SAS_AF': ['0.0000'],\n   'AMR_AF': ['0.0000'],\n   'AF': ['0.000998403'],\n   'EAS_AF': ['0.0000'],\n   'ssID': ['ss1366601865'],\n   'DP': ['12306'],\n   'AFR_AF': ['0.0038'],\n   'EUR_AF': ['0.0000'],\n   'AN': ['5008'],\n   'AC': ['5'],\n   'NS': ['2504']},\n  'end': 17190037,\n  'variantSetId': '3',\n  'updated': 1432745640000},\n {'referenceName': '22',\n  'alternateBases': ['T'],\n  'id': '3:rs551180348',\n  'calls': [{'genotype': [0, 0],\n    'info': {},\n    'genotypeLikelihood': [],\n    'callSetName': 'NA19777',\n    'phaseset': '',\n    'callSetId': '3:NA19777'},\n   {'info': {},\n    'genotypeLikelihood': [],\n    'callSetName': 'HG01242',\n    'genotype': [0, 0],\n    'callSetId': '3:HG01242',\n    'phaseset': ''},\n   {'callSetId': '3:HG01142',\n    'phaseset': '',\n    'info': {},\n    'callSetName': 'HG01142',\n    'genotypeLikelihood': [],\n    'genotype': [0, 0]}],\n  'info': {'DP': ['15688'],\n   'ssID': ['ss1366601866'],\n   'EAS_AF': ['0.0000'],\n   'AF': ['0.000399361'],\n   'AMR_AF': ['0.0000'],\n   'SAS_AF': ['0.0000'],\n   'NS': ['2504'],\n   'AC': ['2'],\n   'AN': ['5008'],\n   'AFR_AF': ['0.0015'],\n   'EUR_AF': ['0.0000']},\n  'end': 17190160,\n  'updated': 1432745640000,\n  'variantSetId': '3',\n  'names': ['rs551180348'],\n  'start': 17190159,\n  'created': 1432745640000,\n  'referenceBases': 'C'},\n {'start': 17190160,\n  'names': ['rs569780018'],\n  'created': 1432745640000,\n  'referenceBases': 'G',\n  'referenceName': '22',\n  'alternateBases': ['A'],\n  'calls': [{'phaseset': '',\n    'callSetId': '3:HG01142',\n    'genotype': [0, 0],\n    'info': {},\n    'genotypeLikelihood': [],\n    'callSetName': 'HG01142'},\n   {'genotype': [0, 0],\n    'genotypeLikelihood': [],\n    'callSetName': 'HG01242',\n    'info': {},\n    'phaseset': '',\n    'callSetId': '3:HG01242'},\n   {'callSetId': '3:NA19777',\n    'phaseset': '',\n    'callSetName': 'NA19777',\n    'genotypeLikelihood': [],\n    'info': {},\n    'genotype': [0, 0]}],\n  'id': '3:rs569780018',\n  'info': {'NS': ['2504'],\n   'AFR_AF': ['0.0000'],\n   'AN': ['5008'],\n   'EUR_AF': ['0.0010'],\n   'AC': ['1'],\n   'ssID': ['ss1366601867'],\n   'DP': ['15523'],\n   'AMR_AF': ['0.0000'],\n   'SAS_AF': ['0.0000'],\n   'EAS_AF': ['0.0000'],\n   'AF': ['0.000199681']},\n  'end': 17190161,\n  'variantSetId': '3',\n  'updated': 1432745640000},\n {'end': 17191326,\n  'info': {'EUR_AF': ['0.0000'],\n   'AFR_AF': ['0.0000'],\n   'AN': ['5008'],\n   'AC': ['2'],\n   'NS': ['2504'],\n   'AMR_AF': ['0.0000'],\n   'SAS_AF': ['0.0020'],\n   'EAS_AF': ['0.0000'],\n   'AF': ['0.000399361'],\n   'ssID': ['ss1366601868'],\n   'DP': ['9794']},\n  'variantSetId': '3',\n  'updated': 1432745640000,\n  'referenceName': '22',\n  'calls': [{'callSetId': '3:NA19777',\n    'phaseset': '',\n    'genotypeLikelihood': [],\n    'callSetName': 'NA19777',\n    'info': {},\n    'genotype': [0, 0]},\n   {'callSetId': '3:HG01242',\n    'phaseset': '',\n    'info': {},\n    'genotypeLikelihood': [],\n    'callSetName': 'HG01242',\n    'genotype': [0, 0]},\n   {'genotypeLikelihood': [],\n    'callSetName': 'HG01142',\n    'info': {},\n    'genotype': [0, 0],\n    'callSetId': '3:HG01142',\n    'phaseset': ''}],\n  'id': '3:rs578140373',\n  'alternateBases': ['C'],\n  'created': 1432745640000,\n  'referenceBases': 'T',\n  'start': 17191325,\n  'names': ['rs578140373']},\n {'start': 17191363,\n  'names': ['rs548977579'],\n  'created': 1432745640000,\n  'referenceBases': 'G',\n  'referenceName': '22',\n  'alternateBases': ['T'],\n  'id': '3:rs548977579',\n  'calls': [{'info': {},\n    'genotypeLikelihood': [],\n    'callSetName': 'HG01142',\n    'genotype': [0, 0],\n    'callSetId': '3:HG01142',\n    'phaseset': ''},\n   {'info': {},\n    'callSetName': 'HG01242',\n    'genotypeLikelihood': [],\n    'genotype': [0, 0],\n    'callSetId': '3:HG01242',\n    'phaseset': ''},\n   {'callSetId': '3:NA19777',\n    'phaseset': '',\n    'genotypeLikelihood': [],\n    'callSetName': 'NA19777',\n    'info': {},\n    'genotype': [0, 0]}],\n  'info': {'AFR_AF': ['0.0083'],\n   'AN': ['5008'],\n   'EUR_AF': ['0.0000'],\n   'AC': ['12'],\n   'NS': ['2504'],\n   'AMR_AF': ['0.0014'],\n   'SAS_AF': ['0.0000'],\n   'EAS_AF': ['0.0000'],\n   'AF': ['0.00239617'],\n   'ssID': ['ss1366601869'],\n   'DP': ['10820']},\n  'end': 17191364,\n  'updated': 1432745640000,\n  'variantSetId': '3'},\n {'referenceName': '22',\n  'id': '3:rs568385462',\n  'calls': [{'callSetId': '3:HG01142',\n    'phaseset': '',\n    'genotypeLikelihood': [],\n    'callSetName': 'HG01142',\n    'info': {},\n    'genotype': [0, 0]},\n   {'genotype': [0, 0],\n    'genotypeLikelihood': [],\n    'callSetName': 'NA19777',\n    'info': {},\n    'phaseset': '',\n    'callSetId': '3:NA19777'},\n   {'callSetId': '3:HG01242',\n    'phaseset': '',\n    'info': {},\n    'genotypeLikelihood': [],\n    'callSetName': 'HG01242',\n    'genotype': [0, 0]}],\n  'alternateBases': ['C'],\n  'end': 17192409,\n  'info': {'AF': ['0.00219649'],\n   'EAS_AF': ['0.0000'],\n   'SAS_AF': ['0.0000'],\n   'AMR_AF': ['0.0014'],\n   'DP': ['10910'],\n   'ssID': ['ss1366601870'],\n   'AC': ['11'],\n   'AFR_AF': ['0.0076'],\n   'EUR_AF': ['0.0000'],\n   'AN': ['5008'],\n   'NS': ['2504']},\n  'variantSetId': '3',\n  'updated': 1432745640000,\n  'names': ['rs568385462'],\n  'start': 17192408,\n  'created': 1432745640000,\n  'referenceBases': 'T'},\n {'names': ['rs2529891'],\n  'start': 17192743,\n  'created': 1432745640000,\n  'referenceBases': 'G',\n  'referenceName': '22',\n  'id': '3:rs2529891',\n  'calls': [{'callSetId': '3:HG01142',\n    'phaseset': '',\n    'genotypeLikelihood': [],\n    'callSetName': 'HG01142',\n    'info': {},\n    'genotype': [1, 1]},\n   {'genotypeLikelihood': [],\n    'callSetName': 'NA19777',\n    'info': {},\n    'genotype': [1, 1],\n    'callSetId': '3:NA19777',\n    'phaseset': ''},\n   {'phaseset': '',\n    'callSetId': '3:HG01242',\n    'genotype': [1, 1],\n    'callSetName': 'HG01242',\n    'genotypeLikelihood': [],\n    'info': {}}],\n  'alternateBases': ['A'],\n  'end': 17192744,\n  'info': {'SAS_AF': ['0.2076'],\n   'AMR_AF': ['0.3746'],\n   'AF': ['0.302516'],\n   'EAS_AF': ['0.1329'],\n   'ssID': ['ss1366601871'],\n   'DP': ['9797'],\n   'AFR_AF': ['0.3933'],\n   'EUR_AF': ['0.3956'],\n   'AN': ['5008'],\n   'AC': ['1515'],\n   'NS': ['2504']},\n  'variantSetId': '3',\n  'updated': 1432745640000},\n {'start': 17194348,\n  'names': ['rs549816274'],\n  'created': 1432745640000,\n  'referenceBases': 'T',\n  'referenceName': '22',\n  'id': '3:rs549816274',\n  'calls': [{'phaseset': '',\n    'callSetId': '3:HG01242',\n    'genotype': [0, 0],\n    'info': {},\n    'genotypeLikelihood': [],\n    'callSetName': 'HG01242'},\n   {'callSetId': '3:NA19777',\n    'phaseset': '',\n    'info': {},\n    'callSetName': 'NA19777',\n    'genotypeLikelihood': [],\n    'genotype': [0, 0]},\n   {'phaseset': '',\n    'callSetId': '3:HG01142',\n    'genotype': [0, 0],\n    'genotypeLikelihood': [],\n    'callSetName': 'HG01142',\n    'info': {}}],\n  'alternateBases': ['A'],\n  'end': 17194349,\n  'info': {'AN': ['5008'],\n   'AFR_AF': ['0.0000'],\n   'EUR_AF': ['0.0020'],\n   'AC': ['2'],\n   'NS': ['2504'],\n   'AMR_AF': ['0.0000'],\n   'SAS_AF': ['0.0000'],\n   'EAS_AF': ['0.0000'],\n   'AF': ['0.000399361'],\n   'DP': ['9122'],\n   'ssID': ['ss1366601872']},\n  'variantSetId': '3',\n  'updated': 1432745640000},\n {'start': 17194514,\n  'names': ['rs73376165'],\n  'referenceBases': 'C',\n  'created': 1432745640000,\n  'id': '3:rs73376165',\n  'calls': [{'genotype': [0, 0],\n    'info': {},\n    'callSetName': 'NA19777',\n    'genotypeLikelihood': [],\n    'phaseset': '',\n    'callSetId': '3:NA19777'},\n   {'genotype': [0, 0],\n    'genotypeLikelihood': [],\n    'callSetName': 'HG01242',\n    'info': {},\n    'phaseset': '',\n    'callSetId': '3:HG01242'},\n   {'genotype': [0, 0],\n    'callSetName': 'HG01142',\n    'genotypeLikelihood': [],\n    'info': {},\n    'phaseset': '',\n    'callSetId': '3:HG01142'}],\n  'alternateBases': ['T'],\n  'referenceName': '22',\n  'updated': 1432745640000,\n  'variantSetId': '3',\n  'end': 17194515,\n  'info': {'EAS_AF': ['0.0000'],\n   'AF': ['0.0131789'],\n   'AMR_AF': ['0.0014'],\n   'SAS_AF': ['0.0000'],\n   'ssID': ['ss1366601873'],\n   'DP': ['7858'],\n   'AC': ['66'],\n   'AFR_AF': ['0.0492'],\n   'AN': ['5008'],\n   'EUR_AF': ['0.0000'],\n   'NS': ['2504']}},\n {'updated': 1432745640000,\n  'variantSetId': '3',\n  'info': {'AFR_AF': ['0.5219'],\n   'AN': ['5008'],\n   'EUR_AF': ['0.4672'],\n   'AC': ['2273'],\n   'NS': ['2504'],\n   'AMR_AF': ['0.5000'],\n   'SAS_AF': ['0.3364'],\n   'EAS_AF': ['0.4335'],\n   'AF': ['0.453874'],\n   'DP': ['7228'],\n   'ssID': ['ss1366601874']},\n  'end': 17194860,\n  'alternateBases': ['T'],\n  'calls': [{'callSetId': '3:NA19777',\n    'phaseset': '',\n    'callSetName': 'NA19777',\n    'genotypeLikelihood': [],\n    'info': {},\n    'genotype': [1, 1]},\n   {'genotype': [1, 1],\n    'genotypeLikelihood': [],\n    'callSetName': 'HG01242',\n    'info': {},\n    'phaseset': '',\n    'callSetId': '3:HG01242'},\n   {'callSetId': '3:HG01142',\n    'phaseset': '',\n    'info': {},\n    'callSetName': 'HG01142',\n    'genotypeLikelihood': [],\n    'genotype': [1, 1]}],\n  'id': '3:rs59372583',\n  'referenceName': '22',\n  'referenceBases': 'C',\n  'created': 1432745640000,\n  'start': 17194859,\n  'names': ['rs59372583']}]"
     },
     "execution_count": 7,
     "metadata": {},
     "output_type": "execute_result"
    }
   ],
   "source": [
    "decoded['variants']"
   ]
  },
  {
   "cell_type": "code",
   "execution_count": 8,
   "metadata": {},
   "outputs": [
    {
     "name": "stdout",
     "output_type": "stream",
     "text": "{'datasets': [{'name': '1000 Genomes phase3', 'id': '6e340c4d1e333c7a676b1710d2e3953c', 'description': '1000 Genomes phase3 genotypes'}, {'name': 'Ensembl', 'id': 'Ensembl', 'description': 'Ensembl annotation'}, {'description': 'Illumina platinum genomes genotypes', 'name': 'Illumina platinum genomes', 'id': 'c7d2c4a0e0dcb28bdb30559f16c7819d'}], 'nextPageToken': 'da67c32cf330c0a61c014322ebc4e50a'}\n"
    }
   ],
   "source": [
    "server = \"https://grch37.rest.ensembl.org\"\n",
    "ext = \"/ga4gh/datasets/search\"\n",
    "headers={ \"Content-Type\" : \"application/json\", \"Accept\" : \"application/json\"}\n",
    "r = requests.post(server+ext, headers=headers, data='{ \"pageSize\": 3 }')\n",
    " \n",
    "if not r.ok:\n",
    "  r.raise_for_status()\n",
    "  sys.exit()\n",
    " \n",
    "decoded = r.json()\n",
    "print(repr(decoded))"
   ]
  },
  {
   "cell_type": "code",
   "execution_count": 105,
   "metadata": {},
   "outputs": [
    {
     "data": {
      "text/plain": "dict_keys(['variantAnnotations', 'nextPageToken'])"
     },
     "execution_count": 105,
     "metadata": {},
     "output_type": "execute_result"
    }
   ],
   "source": [
    "server = \"https://grch37.rest.ensembl.org\"\n",
    "ext = \"/ga4gh/variantannotations/search\"\n",
    "headers={ \"Content-Type\" : \"application/json\", \"Accept\" : \"application/json\"}\n",
    "r = requests.post(server+ext, headers=headers, data='{\"pageSize\": 1000, \"variantAnnotationSetId\": \"Ensembl\", \"referenceId\": \"a718acaa6135fdca8357d5bfe94211dd\", \"start\": 25617400 , \"end\": 25618500, \"pageToken\": 25617811 }')\n",
    " \n",
    "if not r.ok:\n",
    "  r.raise_for_status()\n",
    "  sys.exit()\n",
    " \n",
    "decoded = r.json()\n",
    "decoded.keys()"
   ]
  },
  {
   "cell_type": "code",
   "execution_count": 110,
   "metadata": {},
   "outputs": [
    {
     "data": {
      "text/plain": "157"
     },
     "execution_count": 110,
     "metadata": {},
     "output_type": "execute_result"
    }
   ],
   "source": [
    "len(decoded[\"variantAnnotations\"])"
   ]
  }
 ]
}