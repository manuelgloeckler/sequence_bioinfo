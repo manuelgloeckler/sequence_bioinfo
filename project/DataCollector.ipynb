{
 "cells": [
  {
   "cell_type": "code",
   "execution_count": 1,
   "metadata": {},
   "outputs": [],
   "source": [
    "import gentype"
   ]
  },
  {
   "cell_type": "code",
   "execution_count": 2,
   "metadata": {},
   "outputs": [
    {
     "data": {
      "text/plain": "True"
     },
     "execution_count": 2,
     "metadata": {},
     "output_type": "execute_result"
    }
   ],
   "source": [
    "gentype.ping()"
   ]
  },
  {
   "cell_type": "code",
   "execution_count": 3,
   "metadata": {},
   "outputs": [],
   "source": [
    "es = gentype.Ensembl()"
   ]
  },
  {
   "cell_type": "code",
   "execution_count": 4,
   "metadata": {},
   "outputs": [],
   "source": [
    "samples = es.get_samples()"
   ]
  },
  {
   "cell_type": "code",
   "execution_count": 5,
   "metadata": {},
   "outputs": [],
   "source": [
    "pops = es.get_populations()"
   ]
  },
  {
   "cell_type": "code",
   "execution_count": 37,
   "metadata": {},
   "outputs": [
    {
     "name": "stdout",
     "output_type": "stream",
     "text": "Fetched 10 Variants\nFetched 20 Variants\nFetched 30 Variants\nFetched 40 Variants\nFetched 50 Variants\nFetched 60 Variants\nFetched 70 Variants\nFetched 80 Variants\nFetched 90 Variants\nFetched 100 Variants\nFetched 110 Variants\nFetched 120 Variants\nFetched 130 Variants\nFetched 140 Variants\nFetched 150 Variants\nFetched 160 Variants\nFetched 170 Variants\nFetched 180 Variants\nFetched 190 Variants\nFetched 200 Variants\nFetched 210 Variants\nFetched 220 Variants\nFetched 230 Variants\nFetched 240 Variants\nFetched 250 Variants\nFetched 260 Variants\nFetched 270 Variants\nFetched 280 Variants\nFetched 290 Variants\nFetched 300 Variants\nFetched 310 Variants\nFetched 320 Variants\nFetched 330 Variants\nFetched 340 Variants\n"
    }
   ],
   "source": [
    "# For all samples this will take time may multiprocess for multiple parallel requests\n",
    "variants = es.get_variants(3,17671934, 17681934, samples)"
   ]
  },
  {
   "cell_type": "code",
   "execution_count": 43,
   "metadata": {},
   "outputs": [],
   "source": [
    "es.save(\"variants\")"
   ]
  },
  {
   "cell_type": "code",
   "execution_count": 44,
   "metadata": {},
   "outputs": [],
   "source": [
    "es = gentype.Ensembl.load(\"variants\")"
   ]
  },
  {
   "cell_type": "code",
   "execution_count": 45,
   "metadata": {},
   "outputs": [],
   "source": [
    "individuals = list(map(lambda x: gentype.Individual(x, \"X\", variants), samples))"
   ]
  },
  {
   "cell_type": "code",
   "execution_count": 47,
   "metadata": {},
   "outputs": [],
   "source": [
    "X_matrix = gentype.generate_X_matrix(individuals)"
   ]
  },
  {
   "cell_type": "code",
   "execution_count": 49,
   "metadata": {},
   "outputs": [
    {
     "data": {
      "text/plain": "(2504, 2, 334)"
     },
     "execution_count": 49,
     "metadata": {},
     "output_type": "execute_result"
    }
   ],
   "source": [
    "X_matrix.shape"
   ]
  },
  {
   "cell_type": "code",
   "execution_count": 0,
   "metadata": {},
   "outputs": [],
   "source": [
    "X_matrix[0]"
   ]
  },
  {
   "cell_type": "code",
   "execution_count": 48,
   "metadata": {},
   "outputs": [],
   "source": [
    "import pickle\n",
    "\n",
    "with open(\"X_matrix\", \"wb\") as file1:\n",
    "    pickle.dump(X_matrix, file1)"
   ]
  }
 ],
 "metadata": {
  "file_extension": ".py",
  "kernelspec": {
   "display_name": "Python 3",
   "language": "python",
   "name": "python3"
  },
  "language_info": {
   "codemirror_mode": {
    "name": "ipython",
    "version": 3
   },
   "file_extension": ".py",
   "mimetype": "text/x-python",
   "name": "python",
   "nbconvert_exporter": "python",
   "pygments_lexer": "ipython3",
   "version": "3.7.4"
  },
  "mimetype": "text/x-python",
  "name": "python",
  "npconvert_exporter": "python",
  "pygments_lexer": "ipython3",
  "version": 3
 },
 "nbformat": 4,
 "nbformat_minor": 2
}