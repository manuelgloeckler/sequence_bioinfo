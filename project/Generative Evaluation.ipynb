{
 "cells": [
  {
   "cell_type": "markdown",
   "metadata": {},
   "source": [
    "# Evaluation of artifical sequence data based on Categorical Mixture Models"
   ]
  },
  {
   "cell_type": "markdown",
   "metadata": {},
   "source": [
    "This notebook shows how the evaluation for our generative model was performed."
   ]
  },
  {
   "cell_type": "markdown",
   "metadata": {},
   "source": [
    "## Section 1: Setup"
   ]
  },
  {
   "cell_type": "code",
   "execution_count": 1,
   "metadata": {},
   "outputs": [],
   "source": [
    "from gentype import EnsemblClient, DataManager, PiCollapsedNonparametricGibbsSampler\n",
    "from gentype import AlleleMM, write_sequences\n",
    "import matplotlib.pyplot as plt\n",
    "import seaborn as sns\n",
    "import pandas as pd\n",
    "from sklearn.decomposition import PCA\n",
    "import numpy as np"
   ]
  },
  {
   "cell_type": "markdown",
   "metadata": {},
   "source": [
    "Set up Classes:"
   ]
  },
  {
   "cell_type": "code",
   "execution_count": 2,
   "metadata": {},
   "outputs": [],
   "source": [
    "Database_Name = \"Gentype_HLA_DB.db\"\n",
    "client = EnsemblClient()\n",
    "data_manager = DataManager(client, Database_Name)"
   ]
  },
  {
   "cell_type": "markdown",
   "metadata": {},
   "source": [
    "Setting the paramaters for our selected allele: HLA-A. For options for ref_name and population_name you can also take a look at the database after fetching."
   ]
  },
  {
   "cell_type": "code",
   "execution_count": 3,
   "metadata": {},
   "outputs": [],
   "source": [
    "region_start = 29941260\n",
    "region_end = 29945884\n",
    "ref_name = \"6\" # generally the name of the chromosome\n",
    "population_name = \"ALL\"\n",
    "project_name = \"1000GENOMES:phase_3\"\n",
    "allele_args = {'start' : region_start, 'end' : region_end, 'reference_name' : ref_name, 'population' : population_name, 'project' : project_name}"
   ]
  },
  {
   "cell_type": "markdown",
   "metadata": {},
   "source": [
    "We use store magic to store the values of costly computations (data fetching, model training), so they only have to be done once."
   ]
  },
  {
   "cell_type": "markdown",
   "metadata": {},
   "source": [
    "Initialize storable data:"
   ]
  },
  {
   "cell_type": "code",
   "execution_count": 4,
   "metadata": {},
   "outputs": [],
   "source": [
    "fetched = False\n",
    "inference_matrix = None\n",
    "models = None"
   ]
  },
  {
   "cell_type": "markdown",
   "metadata": {},
   "source": [
    "Restore stored data (remove # to recompute instead of restore respective data):"
   ]
  },
  {
   "cell_type": "code",
   "execution_count": 5,
   "metadata": {},
   "outputs": [],
   "source": [
    "%store -d fetched # if you want to refetch the data, uncomment this line\n",
    "%store -d inference_matrix # if you want to recompute the inference_matrix, uncomment this line\n",
    "%store -d models # if you want to recompute the models, uncomment this line\n",
    "%store -r"
   ]
  },
  {
   "cell_type": "markdown",
   "metadata": {},
   "source": [
    "## Section 2: Collecting and preparing data"
   ]
  },
  {
   "cell_type": "markdown",
   "metadata": {},
   "source": [
    "Fetches all HLA-A data obtained in 1000 Genomes project phase3 and stores them in a local sqlite server. This only needs to be done once but might take a while."
   ]
  },
  {
   "cell_type": "code",
   "execution_count": 6,
   "metadata": {},
   "outputs": [
    {
     "name": "stdout",
     "output_type": "stream",
     "text": [
      "Finished fetching reference set.\n",
      "Finished fetching reference sequences for set: GRCh38.\n",
      "Finished fetching populations for species: homo_sapiens.\n",
      "Finished fetching individuals for population: African Caribbean in Barbados.\n",
      "Finished fetching individuals for population: African.\n",
      "Finished fetching individuals for population: All phase 3 individuals.\n",
      "Finished fetching individuals for population: American.\n",
      "Finished fetching individuals for population: African Ancestry in Southwest US.\n",
      "Finished fetching individuals for population: Bengali in Bangladesh.\n",
      "Finished fetching individuals for population: Chinese Dai in Xishuangbanna, China.\n",
      "Finished fetching individuals for population: Utah residents with Northern and Western European ancestry.\n",
      "Finished fetching individuals for population: Han Chinese in Bejing, China.\n",
      "Finished fetching individuals for population: Southern Han Chinese, China.\n",
      "Finished fetching individuals for population: Colombian in Medellin, Colombia.\n",
      "Finished fetching individuals for population: East Asian.\n",
      "Finished fetching individuals for population: Esan in Nigeria.\n",
      "Finished fetching individuals for population: European.\n",
      "Finished fetching individuals for population: Finnish in Finland.\n",
      "Finished fetching individuals for population: British in England and Scotland.\n",
      "Finished fetching individuals for population: Gujarati Indian in Houston, TX.\n",
      "Finished fetching individuals for population: Gambian in Western Division, The Gambia.\n",
      "Finished fetching individuals for population: Iberian populations in Spain.\n",
      "Finished fetching individuals for population: Indian Telugu in the UK.\n",
      "Finished fetching individuals for population: Japanese in Tokyo, Japan.\n",
      "Finished fetching individuals for population: Kinh in Ho Chi Minh City, Vietnam.\n",
      "Finished fetching individuals for population: Luhya in Webuye, Kenya.\n",
      "Finished fetching individuals for population: Mende in Sierra Leone.\n",
      "Finished fetching individuals for population: Mexican Ancestry in Los Angeles, California.\n",
      "Finished fetching individuals for population: Peruvian in Lima, Peru.\n",
      "Finished fetching individuals for population: Punjabi in Lahore, Pakistan.\n",
      "Finished fetching individuals for population: Puerto Rican in Puerto Rico.\n",
      "Finished fetching individuals for population: South Asian.\n",
      "Finished fetching individuals for population: Sri Lankan Tamil in the UK.\n",
      "Finished fetching individuals for population: Toscani in Italy.\n",
      "Finished fetching individuals for population: Yoruba in Ibadan, Nigeria.\n",
      "Finished fetching 10 variants next is 135788196.\n",
      "Finished fetching 10 variants next is 135788560.\n",
      "Finished fetching 10 variants next is 135788641.\n",
      "Finished fetching 10 variants next is 135789027.\n",
      "Finished fetching 10 variants next is 135789343.\n",
      "Finished fetching 10 variants next is 135789912.\n",
      "Finished fetching 10 variants next is 135790350.\n",
      "Finished fetching 10 variants next is 135790594.\n",
      "Finished fetching 10 variants next is 135791048.\n",
      "Finished fetching 10 variants next is 135791285.\n",
      "Finished fetching 10 variants next is 135791616.\n",
      "Finished fetching 10 variants next is 135792167.\n",
      "Finished fetching 10 variants next is 135792445.\n",
      "Finished fetching 10 variants next is 135792849.\n",
      "Finished fetching 10 variants next is 135793171.\n",
      "Finished fetching 10 variants next is 135793382.\n",
      "Finished fetching 10 variants next is 135793788.\n",
      "Finished fetching 10 variants next is 135794123.\n",
      "Finished fetching 10 variants next is 135794611.\n",
      "Finished fetching 10 variants next is 135794840.\n",
      "Finished fetching 10 variants next is 135794980.\n",
      "Finished fetching 10 variants next is 135795293.\n",
      "Finished fetching 10 variants next is 135795730.\n",
      "Finished fetching 10 variants next is 135795969.\n",
      "Finished fetching 10 variants next is 135796294.\n",
      "Finished fetching 10 variants next is 135796736.\n",
      "Finished fetching 10 variants next is 135797016.\n",
      "Finished fetching 10 variants next is 135797229.\n",
      "Finished fetching 10 variants next is 135797454.\n",
      "Finished fetching 10 variants next is 135797865.\n",
      "Finished fetching 10 variants next is 135798082.\n",
      "Finished fetching 10 variants next is 135798496.\n",
      "Finished fetching 10 variants next is 135799017.\n",
      "Finished fetching 10 variants next is 135799458.\n",
      "Finished fetching 10 variants next is 135799748.\n",
      "Finished fetching 10 variants next is 135800245.\n",
      "Finished fetching 10 variants next is 135800565.\n",
      "Finished fetching 10 variants next is 135800813.\n",
      "Finished fetching 10 variants next is 135801436.\n",
      "Finished fetching 10 variants next is 135801718.\n",
      "Finished fetching 10 variants next is 135802095.\n",
      "Finished fetching 10 variants next is 135802386.\n",
      "Finished fetching 10 variants next is 135802665.\n",
      "Finished fetching 10 variants next is 135802881.\n",
      "Finished fetching 10 variants next is 135803443.\n",
      "Finished fetching 10 variants next is 135803826.\n",
      "Finished fetching 10 variants next is 135804206.\n",
      "Finished fetching 10 variants next is 135804632.\n",
      "Finished fetching 10 variants next is 135804901.\n",
      "Finished fetching 10 variants next is 135805225.\n",
      "Finished fetching 10 variants next is 135805516.\n",
      "Finished fetching 10 variants next is 135805731.\n",
      "Finished fetching 10 variants next is 135806154.\n",
      "Finished fetching 10 variants next is 135806532.\n",
      "Finished fetching 10 variants next is 135806708.\n",
      "Finished fetching 10 variants next is 135807118.\n",
      "Finished fetching 10 variants next is 135807353.\n",
      "Finished fetching 10 variants next is 135807711.\n",
      "Finished fetching 10 variants next is 135807979.\n",
      "Finished fetching 10 variants next is 135808264.\n",
      "Finished fetching 10 variants next is 135808585.\n",
      "Finished fetching 10 variants next is 135808926.\n",
      "Finished fetching 10 variants next is 135809455.\n",
      "Finished fetching 10 variants next is 135809877.\n",
      "Finished fetching 10 variants next is 135810201.\n",
      "Finished fetching 10 variants next is 135810870.\n",
      "Finished fetching 10 variants next is 135811189.\n",
      "Finished fetching 10 variants next is 135811469.\n",
      "Finished fetching 10 variants next is 135811828.\n",
      "Finished fetching 10 variants next is 135812597.\n",
      "Finished fetching 10 variants next is 135812924.\n",
      "Finished fetching 10 variants next is 135813237.\n",
      "Finished fetching 10 variants next is 135813553.\n",
      "Finished fetching 10 variants next is 135813861.\n",
      "Finished fetching 10 variants next is 135814281.\n",
      "Finished fetching 10 variants next is 135814577.\n",
      "Finished fetching 10 variants next is 135814765.\n",
      "Finished fetching 10 variants next is 135815241.\n",
      "Finished fetching 10 variants next is 135815681.\n",
      "Finished fetching 10 variants next is 135816017.\n",
      "Finished fetching 10 variants next is 135816546.\n",
      "Finished fetching 10 variants next is 135816885.\n",
      "Finished fetching 10 variants next is 135817120.\n",
      "Finished fetching 10 variants next is 135817565.\n",
      "Finished fetching 10 variants next is 135817931.\n",
      "Finished fetching 10 variants next is 135818293.\n",
      "Finished fetching 10 variants next is 135818595.\n",
      "Finished fetching 10 variants next is 135818841.\n",
      "Finished fetching 10 variants next is 135819101.\n",
      "Finished fetching 10 variants next is 135819607.\n",
      "Finished fetching 10 variants next is 135819760.\n",
      "Finished fetching 10 variants next is 135820177.\n",
      "Finished fetching 10 variants next is 135820735.\n",
      "Finished fetching 10 variants next is 135821029.\n",
      "Finished fetching 10 variants next is 135821169.\n",
      "Finished fetching 10 variants next is 135821419.\n",
      "Finished fetching 10 variants next is 135821837.\n",
      "Finished fetching 10 variants next is 135822346.\n",
      "Finished fetching 10 variants next is 135822963.\n",
      "Finished fetching 10 variants next is 135823370.\n",
      "Finished fetching 10 variants next is 135823692.\n",
      "Finished fetching 10 variants next is 135824082.\n",
      "Finished fetching 10 variants next is 135824503.\n",
      "Finished fetching 10 variants next is 135824827.\n",
      "Finished fetching 10 variants next is 135825154.\n",
      "Finished fetching 10 variants next is 135825505.\n",
      "Finished fetching 10 variants next is 135825718.\n",
      "Finished fetching 10 variants next is 135825910.\n",
      "Finished fetching 10 variants next is 135826295.\n",
      "Finished fetching 10 variants next is 135826514.\n",
      "Finished fetching 10 variants next is 135826947.\n",
      "Finished fetching 10 variants next is 135827143.\n",
      "Finished fetching 10 variants next is 135827533.\n",
      "Finished fetching 10 variants next is 135827699.\n",
      "Finished fetching 10 variants next is 135828154.\n",
      "Finished fetching 10 variants next is 135828426.\n",
      "Finished fetching 10 variants next is 135828762.\n"
     ]
    },
    {
     "name": "stdout",
     "output_type": "stream",
     "text": [
      "Finished fetching 10 variants next is 135828981.\n",
      "Finished fetching 10 variants next is 135829269.\n",
      "Finished fetching 10 variants next is 135829578.\n",
      "Finished fetching 10 variants next is 135829920.\n",
      "Finished fetching 10 variants next is 135830275.\n",
      "Finished fetching 10 variants next is 135830753.\n",
      "Finished fetching 10 variants next is 135831020.\n",
      "Finished fetching 10 variants next is 135831291.\n",
      "Finished fetching 10 variants next is 135831511.\n",
      "Finished fetching 10 variants next is 135831832.\n",
      "Finished fetching 10 variants next is 135832041.\n",
      "Finished fetching 10 variants next is 135832658.\n",
      "Finished fetching 10 variants next is 135833032.\n",
      "Finished fetching 10 variants next is 135833505.\n",
      "Finished fetching 10 variants next is 135833734.\n",
      "Finished fetching 10 variants next is 135834056.\n",
      "Finished fetching 10 variants next is 135834479.\n",
      "Finished fetching 10 variants next is 135834943.\n",
      "Finished fetching 10 variants next is 135835316.\n",
      "Finished fetching 10 variants next is 135835500.\n",
      "Finished fetching 10 variants next is 135835886.\n",
      "Finished fetching 10 variants next is 135836123.\n",
      "Finished fetching 10 variants next is 135836297.\n",
      "Finished fetching 10 variants next is 135836473.\n",
      "Finished fetching 10 variants next is 135836692.\n",
      "Finished fetching 10 variants next is 135837001.\n",
      "Finished fetching 10 variants next is None.\n",
      "Finished fetching phenotypes from 135833190 to 135833190 for sequence 2.\n",
      "Stored 'fetched' (bool)\n"
     ]
    }
   ],
   "source": [
    "if not fetched:\n",
    "    data_manager.fetch_all(region_start, region_end, ref_name, report_progress = True)\n",
    "fetched = True\n",
    "%store fetched"
   ]
  },
  {
   "cell_type": "markdown",
   "metadata": {},
   "source": [
    "The following generates an inference matrix from the data provided by the local database. The inference matrix can be constructed with respect to a population and a section specified by start and end. Be sure to fetch the according population before constructing the matrix. \n",
    "\n",
    "Each row in the matrix represents the variants present in each individual as a bitvector."
   ]
  },
  {
   "cell_type": "code",
   "execution_count": 7,
   "metadata": {},
   "outputs": [
    {
     "name": "stdout",
     "output_type": "stream",
     "text": [
      "Stored 'inference_matrix' (ndarray)\n",
      "Stored 'individual_map' (dict)\n",
      "Stored 'variation_map' (dict)\n"
     ]
    },
    {
     "data": {
      "text/plain": [
       "(5008, 1429)"
      ]
     },
     "execution_count": 7,
     "metadata": {},
     "output_type": "execute_result"
    }
   ],
   "source": [
    "if inference_matrix is None:\n",
    "    inference_matrix, individual_map, variation_map = data_manager.generate_inference_matrix(**allele_args)\n",
    "%store inference_matrix \n",
    "%store individual_map \n",
    "%store variation_map\n",
    "inference_matrix.shape"
   ]
  },
  {
   "cell_type": "markdown",
   "metadata": {},
   "source": [
    "We then split the matrix into a training and a test set."
   ]
  },
  {
   "cell_type": "code",
   "execution_count": 8,
   "metadata": {},
   "outputs": [],
   "source": [
    "split_point = int(len(inference_matrix) - len(inference_matrix)/3)\n",
    "# if we want to keep using our mapping we need to use the first half for training\n",
    "inference_matrix_training = inference_matrix[:split_point]\n",
    "inference_matrix_test = inference_matrix[split_point:]"
   ]
  },
  {
   "cell_type": "markdown",
   "metadata": {},
   "source": [
    "In the PCA plot we can see that our training and test sets are fairly evenly distributed."
   ]
  },
  {
   "cell_type": "code",
   "execution_count": 9,
   "metadata": {},
   "outputs": [
    {
     "name": "stdout",
     "output_type": "stream",
     "text": [
      "[0.35828123 0.61805429]\n"
     ]
    },
    {
     "data": {
      "text/plain": [
       "<matplotlib.legend.Legend at 0x7fc92bc57588>"
      ]
     },
     "execution_count": 9,
     "metadata": {},
     "output_type": "execute_result"
    },
    {
     "data": {
      "image/png": "[encoded data removed]",
      "text/plain": [
       "<Figure size 1440x720 with 1 Axes>"
      ]
     },
     "metadata": {
      "needs_background": "light"
     },
     "output_type": "display_data"
    }
   ],
   "source": [
    "fig, ax = plt.subplots(figsize = (20,10))\n",
    "\n",
    "pca = PCA(n_components = 2)\n",
    "principalComponents = pca.fit_transform(inference_matrix)\n",
    "print(pca.explained_variance_ratio_.cumsum())\n",
    "ax.plot(principalComponents[:split_point,0], principalComponents[:split_point,1], \"o\", alpha=0.5)\n",
    "ax.plot(principalComponents[split_point:,0], principalComponents[split_point:,1], \"o\", alpha=0.5)\n",
    "ax.legend([\"Training set\", \"Test set\"])"
   ]
  },
  {
   "cell_type": "markdown",
   "metadata": {},
   "source": [
    "## Section 3: Training the Model"
   ]
  },
  {
   "cell_type": "markdown",
   "metadata": {},
   "source": [
    "Train models with different initializations without seeding.\n",
    "\n",
    "Here we compute different models with varying dirichlet prior alpha. This prior is proportional to the probability of creating a new cluster, therefore inference with high alphas tends to begin with a higher number of clusters. This might take a while."
   ]
  },
  {
   "cell_type": "code",
   "execution_count": null,
   "metadata": {},
   "outputs": [
    {
     "name": "stdout",
     "output_type": "stream",
     "text": [
      "Iteration: 1; Current clusters: 49; Likelihood: -953466.932\n",
      "Iteration: 2; Current clusters: 44; Likelihood: -951818.003\n",
      "Iteration: 3; Current clusters: 43; Likelihood: -951167.079\n",
      "Iteration: 4; Current clusters: 41; Likelihood: -950859.574\n",
      "Iteration: 5; Current clusters: 40; Likelihood: -950767.071\n",
      "Iteration: 6; Current clusters: 40; Likelihood: -950729.158\n",
      "Iteration: 7; Current clusters: 40; Likelihood: -950611.163\n",
      "Iteration: 8; Current clusters: 39; Likelihood: -950598.358\n",
      "Iteration: 9; Current clusters: 38; Likelihood: -950575.620\n",
      "Iteration: 10; Current clusters: 37; Likelihood: -950434.347\n",
      "Iteration: 11; Current clusters: 37; Likelihood: -950404.899\n",
      "Iteration: 12; Current clusters: 37; Likelihood: -950265.799\n",
      "Iteration: 13; Current clusters: 37; Likelihood: -950356.267\n",
      "Iteration: 14; Current clusters: 37; Likelihood: -950241.776\n",
      "Iteration: 15; Current clusters: 37; Likelihood: -950248.708\n",
      "Iteration: 16; Current clusters: 37; Likelihood: -950304.264\n",
      "Iteration: 17; Current clusters: 37; Likelihood: -950247.529\n",
      "Iteration: 18; Current clusters: 37; Likelihood: -950201.344\n",
      "Iteration: 19; Current clusters: 37; Likelihood: -950067.743\n",
      "Iteration: 20; Current clusters: 37; Likelihood: -950153.859\n",
      "Iteration: 21; Current clusters: 37; Likelihood: -950191.713\n",
      "Iteration: 22; Current clusters: 37; Likelihood: -950105.704\n",
      "Iteration: 23; Current clusters: 37; Likelihood: -950065.802\n",
      "Iteration: 24; Current clusters: 37; Likelihood: -949948.548\n",
      "Iteration: 25; Current clusters: 37; Likelihood: -950070.787\n",
      "Iteration: 26; Current clusters: 37; Likelihood: -949934.926\n",
      "Iteration: 27; Current clusters: 37; Likelihood: -950119.589\n",
      "Iteration: 28; Current clusters: 37; Likelihood: -950047.779\n",
      "Iteration: 29; Current clusters: 37; Likelihood: -950051.840\n",
      "Iteration: 30; Current clusters: 37; Likelihood: -950138.856\n",
      "Iteration: 31; Current clusters: 37; Likelihood: -950018.373\n",
      "Iteration: 32; Current clusters: 37; Likelihood: -949949.816\n",
      "Iteration: 33; Current clusters: 37; Likelihood: -950106.645\n",
      "Iteration: 34; Current clusters: 37; Likelihood: -950029.737\n",
      "Iteration: 35; Current clusters: 37; Likelihood: -949942.503\n",
      "Iteration: 36; Current clusters: 37; Likelihood: -949952.566\n",
      "Iteration: 37; Current clusters: 37; Likelihood: -950007.808\n",
      "Iteration: 38; Current clusters: 37; Likelihood: -950043.358\n",
      "Iteration: 39; Current clusters: 37; Likelihood: -950052.205\n",
      "Iteration: 40; Current clusters: 37; Likelihood: -949956.021\n",
      "Iteration: 1; Current clusters: 26; Likelihood: -958723.183\n",
      "Iteration: 2; Current clusters: 22; Likelihood: -958084.759\n",
      "Iteration: 3; Current clusters: 22; Likelihood: -957887.973\n",
      "Iteration: 4; Current clusters: 22; Likelihood: -957609.418\n",
      "Iteration: 5; Current clusters: 22; Likelihood: -957285.110\n",
      "Iteration: 6; Current clusters: 22; Likelihood: -957116.478\n",
      "Iteration: 7; Current clusters: 22; Likelihood: -957158.001\n",
      "Iteration: 8; Current clusters: 22; Likelihood: -957163.329\n",
      "Iteration: 9; Current clusters: 22; Likelihood: -957134.209\n",
      "Iteration: 10; Current clusters: 22; Likelihood: -957114.731\n",
      "Iteration: 11; Current clusters: 22; Likelihood: -957071.262\n",
      "Iteration: 12; Current clusters: 22; Likelihood: -957072.600\n",
      "Iteration: 13; Current clusters: 22; Likelihood: -956953.187\n",
      "Iteration: 14; Current clusters: 22; Likelihood: -957131.043\n",
      "Iteration: 15; Current clusters: 22; Likelihood: -957113.825\n",
      "Iteration: 16; Current clusters: 22; Likelihood: -957044.528\n",
      "Iteration: 17; Current clusters: 22; Likelihood: -957102.050\n",
      "Iteration: 18; Current clusters: 22; Likelihood: -957009.515\n",
      "Iteration: 19; Current clusters: 22; Likelihood: -956990.372\n",
      "Iteration: 20; Current clusters: 22; Likelihood: -957096.746\n",
      "Iteration: 21; Current clusters: 22; Likelihood: -957049.038\n",
      "Iteration: 22; Current clusters: 22; Likelihood: -957008.179\n",
      "Iteration: 23; Current clusters: 22; Likelihood: -957064.505\n",
      "Iteration: 24; Current clusters: 22; Likelihood: -957077.788\n",
      "Iteration: 25; Current clusters: 22; Likelihood: -957116.793\n",
      "Iteration: 26; Current clusters: 22; Likelihood: -957052.173\n",
      "Iteration: 27; Current clusters: 22; Likelihood: -957126.447\n",
      "Iteration: 28; Current clusters: 22; Likelihood: -957118.860\n",
      "Iteration: 29; Current clusters: 22; Likelihood: -957050.746\n",
      "Iteration: 30; Current clusters: 22; Likelihood: -957078.552\n",
      "Iteration: 31; Current clusters: 22; Likelihood: -957141.747\n",
      "Iteration: 32; Current clusters: 22; Likelihood: -957034.223\n",
      "Iteration: 33; Current clusters: 22; Likelihood: -956989.921\n",
      "Iteration: 34; Current clusters: 22; Likelihood: -956905.800\n",
      "Iteration: 35; Current clusters: 22; Likelihood: -957165.834\n",
      "Iteration: 36; Current clusters: 22; Likelihood: -957093.325\n",
      "Iteration: 37; Current clusters: 22; Likelihood: -957080.634\n",
      "Iteration: 38; Current clusters: 22; Likelihood: -957050.547\n",
      "Iteration: 39; Current clusters: 22; Likelihood: -957069.979\n",
      "Iteration: 40; Current clusters: 22; Likelihood: -956996.733\n",
      "Iteration: 1; Current clusters: 8; Likelihood: -981904.290\n",
      "Iteration: 2; Current clusters: 7; Likelihood: -973518.116\n",
      "Iteration: 3; Current clusters: 7; Likelihood: -973263.640\n",
      "Iteration: 4; Current clusters: 7; Likelihood: -973303.233\n",
      "Iteration: 5; Current clusters: 7; Likelihood: -973228.886\n",
      "Iteration: 6; Current clusters: 7; Likelihood: -973346.864\n",
      "Iteration: 7; Current clusters: 7; Likelihood: -973204.695\n",
      "Iteration: 8; Current clusters: 7; Likelihood: -973274.578\n",
      "Iteration: 9; Current clusters: 7; Likelihood: -973244.392\n",
      "Iteration: 10; Current clusters: 7; Likelihood: -973298.443\n",
      "Iteration: 11; Current clusters: 7; Likelihood: -973097.920\n",
      "Iteration: 12; Current clusters: 7; Likelihood: -973285.816\n",
      "Iteration: 13; Current clusters: 7; Likelihood: -973135.542\n",
      "Iteration: 14; Current clusters: 7; Likelihood: -973176.337\n",
      "Iteration: 15; Current clusters: 7; Likelihood: -973159.130\n",
      "Iteration: 16; Current clusters: 7; Likelihood: -973113.655\n",
      "Iteration: 17; Current clusters: 7; Likelihood: -973026.781\n",
      "Iteration: 18; Current clusters: 7; Likelihood: -972933.393\n",
      "Iteration: 19; Current clusters: 7; Likelihood: -972951.086\n",
      "Iteration: 20; Current clusters: 7; Likelihood: -973025.454\n",
      "Iteration: 21; Current clusters: 7; Likelihood: -972964.656\n",
      "Iteration: 22; Current clusters: 7; Likelihood: -973120.166\n",
      "Iteration: 23; Current clusters: 7; Likelihood: -973007.765\n",
      "Iteration: 24; Current clusters: 7; Likelihood: -972976.180\n",
      "Iteration: 25; Current clusters: 7; Likelihood: -972992.006\n",
      "Iteration: 26; Current clusters: 7; Likelihood: -973014.903\n",
      "Iteration: 27; Current clusters: 7; Likelihood: -972911.366\n",
      "Iteration: 28; Current clusters: 7; Likelihood: -972957.348\n",
      "Iteration: 29; Current clusters: 7; Likelihood: -972964.052\n",
      "Iteration: 30; Current clusters: 7; Likelihood: -973099.496\n",
      "Iteration: 31; Current clusters: 7; Likelihood: -973009.222\n",
      "Iteration: 32; Current clusters: 7; Likelihood: -973041.167\n",
      "Iteration: 33; Current clusters: 7; Likelihood: -973004.896\n",
      "Iteration: 34; Current clusters: 7; Likelihood: -972943.543\n",
      "Iteration: 35; Current clusters: 7; Likelihood: -973031.730\n",
      "Iteration: 36; Current clusters: 7; Likelihood: -973053.623\n",
      "Iteration: 1; Current clusters: 5; Likelihood: -1014764.199\n",
      "Iteration: 2; Current clusters: 5; Likelihood: -1006129.376\n",
      "Iteration: 3; Current clusters: 5; Likelihood: -1001927.488\n",
      "Iteration: 4; Current clusters: 4; Likelihood: -1001620.516\n",
      "Iteration: 5; Current clusters: 4; Likelihood: -1001472.519\n",
      "Iteration: 6; Current clusters: 4; Likelihood: -1001683.877\n",
      "Iteration: 7; Current clusters: 4; Likelihood: -1001533.853\n",
      "Iteration: 8; Current clusters: 4; Likelihood: -1001516.652\n",
      "Iteration: 9; Current clusters: 4; Likelihood: -1001627.147\n",
      "Iteration: 10; Current clusters: 4; Likelihood: -1001697.144\n",
      "Iteration: 11; Current clusters: 4; Likelihood: -1001509.371\n",
      "Iteration: 12; Current clusters: 4; Likelihood: -1001667.703\n",
      "Iteration: 13; Current clusters: 4; Likelihood: -1001594.197\n",
      "Iteration: 14; Current clusters: 4; Likelihood: -1001589.907\n",
      "Iteration: 15; Current clusters: 4; Likelihood: -1001453.529\n",
      "Iteration: 16; Current clusters: 4; Likelihood: -1001590.874\n",
      "Iteration: 17; Current clusters: 4; Likelihood: -1001587.431\n",
      "Iteration: 18; Current clusters: 4; Likelihood: -1001539.743\n",
      "Iteration: 19; Current clusters: 4; Likelihood: -1001417.923\n",
      "Iteration: 20; Current clusters: 4; Likelihood: -1001577.513\n"
     ]
    },
    {
     "name": "stdout",
     "output_type": "stream",
     "text": [
      "Iteration: 21; Current clusters: 4; Likelihood: -1001605.748\n",
      "Iteration: 22; Current clusters: 4; Likelihood: -1001558.255\n",
      "Iteration: 23; Current clusters: 4; Likelihood: -1001567.554\n",
      "Iteration: 24; Current clusters: 4; Likelihood: -1001514.030\n",
      "Iteration: 25; Current clusters: 4; Likelihood: -1001467.508\n",
      "Iteration: 26; Current clusters: 4; Likelihood: -1001569.754\n",
      "Iteration: 27; Current clusters: 4; Likelihood: -1001547.072\n",
      "Iteration: 28; Current clusters: 4; Likelihood: -1001573.593\n",
      "Iteration: 29; Current clusters: 4; Likelihood: -1001516.456\n",
      "Iteration: 30; Current clusters: 4; Likelihood: -1001415.565\n",
      "Iteration: 31; Current clusters: 4; Likelihood: -1001339.463\n",
      "Iteration: 32; Current clusters: 4; Likelihood: -1001616.373\n",
      "Iteration: 33; Current clusters: 4; Likelihood: -1001561.417\n",
      "Iteration: 34; Current clusters: 4; Likelihood: -1001557.389\n",
      "Iteration: 35; Current clusters: 4; Likelihood: -1001672.760\n",
      "Iteration: 36; Current clusters: 4; Likelihood: -1001546.622\n",
      "Iteration: 37; Current clusters: 4; Likelihood: -1001420.121\n",
      "Iteration: 38; Current clusters: 4; Likelihood: -1001451.185\n",
      "Iteration: 39; Current clusters: 4; Likelihood: -1001446.999\n",
      "Iteration: 40; Current clusters: 4; Likelihood: -1001510.410\n",
      "Iteration: 1; Current clusters: 50; Likelihood: -953503.040\n",
      "Iteration: 2; Current clusters: 44; Likelihood: -952137.650\n",
      "Iteration: 3; Current clusters: 43; Likelihood: -951845.108\n",
      "Iteration: 4; Current clusters: 43; Likelihood: -951480.636\n",
      "Iteration: 5; Current clusters: 41; Likelihood: -951389.510\n",
      "Iteration: 6; Current clusters: 41; Likelihood: -951250.182\n",
      "Iteration: 7; Current clusters: 41; Likelihood: -951177.068\n",
      "Iteration: 8; Current clusters: 41; Likelihood: -951070.149\n",
      "Iteration: 9; Current clusters: 41; Likelihood: -951125.088\n"
     ]
    }
   ],
   "source": [
    "alphas = [0.1,1,10]\n",
    "gammas = [0.05, 0.1, 0.5, 1]\n",
    "if models is None:\n",
    "    models = [PiCollapsedNonparametricGibbsSampler() for i in range(len(alphas) * len(gammas))]\n",
    "    i = 0\n",
    "    for alpha in alphas:\n",
    "        for gamma in gammas:\n",
    "                models[i].fit(inference_matrix_training, num_burn_in_steps = 20, num_steps=20, delta = 2, alpha = alpha, gamma = gamma)\n",
    "                i+=1\n",
    "%store models"
   ]
  },
  {
   "cell_type": "code",
   "execution_count": null,
   "metadata": {},
   "outputs": [],
   "source": [
    "for i, model in enumerate(models):\n",
    "    print(\"Model {}:\".format(i))\n",
    "    plt.clf()\n",
    "    plt.plot(models[i].ll_list)\n",
    "    plt.show()"
   ]
  },
  {
   "cell_type": "markdown",
   "metadata": {},
   "source": [
    "May pre select models e.g. according to Aitikens Information Criterion (AIC)."
   ]
  },
  {
   "cell_type": "code",
   "execution_count": null,
   "metadata": {},
   "outputs": [],
   "source": [
    "def compute_AIC(model):\n",
    "    size = np.prod(np.shape(model.theta))\n",
    "    loglikelihood =model.ll_list[-1]\n",
    "    return 2*size - 2*loglikelihood\n",
    "values = list(map(lambda x: compute_AIC(x), models))\n",
    "AIC = sorted(zip(values, range(len(values)), list(map(lambda x: x.K_seen, models))), key = lambda x: x[0])\n",
    "for a in AIC:\n",
    "    print(\"AIC: {} Model: {} Cluster {}\".format(a[0], a[1], a[2]))"
   ]
  },
  {
   "cell_type": "markdown",
   "metadata": {},
   "source": [
    "## Section 4: Generative Validation"
   ]
  },
  {
   "cell_type": "markdown",
   "metadata": {},
   "source": [
    "In this section we run the evaluation of our models. In the following a sample refers to an artifical sequence."
   ]
  },
  {
   "cell_type": "code",
   "execution_count": null,
   "metadata": {},
   "outputs": [],
   "source": [
    "from gentype import AlleleMM, get_distances"
   ]
  },
  {
   "cell_type": "markdown",
   "metadata": {},
   "source": [
    "First we define the Kullback–Leibler divergence:"
   ]
  },
  {
   "cell_type": "code",
   "execution_count": null,
   "metadata": {},
   "outputs": [],
   "source": [
    "def KL_div(p, q):\n",
    "    return np.nan_to_num([p[i] * np.log(p[i]/q[i]) for i in range(len(p))]).sum()"
   ]
  },
  {
   "cell_type": "markdown",
   "metadata": {},
   "source": [
    "The following function takes samples from the given model and turns them into the respective characteristic vector for further analysis."
   ]
  },
  {
   "cell_type": "code",
   "execution_count": null,
   "metadata": {},
   "outputs": [],
   "source": [
    "def sample(number_of_samples, eval_model):\n",
    "    variant_ranges = data_manager.get_variation_range(**allele_args)\n",
    "    mm = AlleleMM(eval_model.Z, eval_model.theta, inference_matrix_training, variant_ranges, variation_map)\n",
    "    number_of_samples = number_of_samples\n",
    "    samples = []\n",
    "    clusters = []\n",
    "    descriptions = []\n",
    "    for i in range(number_of_samples):\n",
    "        characteristic_vector = np.zeros(len(eval_model.theta[0]))\n",
    "        sample, cluster = mm.sample_variations(return_cluster = True)\n",
    "        characteristic_vector[sample] = 1\n",
    "        samples.append(characteristic_vector)\n",
    "        clusters.append(cluster)\n",
    "\n",
    "    return samples, clusters, descriptions"
   ]
  },
  {
   "cell_type": "markdown",
   "metadata": {},
   "source": [
    "Create artificial sequences from every model we have created."
   ]
  },
  {
   "cell_type": "code",
   "execution_count": null,
   "metadata": {},
   "outputs": [],
   "source": [
    "SAMPLE_SIZE = 200\n",
    "samplings = []\n",
    "for model in models:\n",
    "    samplings.append(sample(SAMPLE_SIZE, model))"
   ]
  },
  {
   "cell_type": "markdown",
   "metadata": {},
   "source": [
    "The following function evaluates our metrics m_D and m_S and returns them."
   ]
  },
  {
   "cell_type": "code",
   "execution_count": null,
   "metadata": {},
   "outputs": [],
   "source": [
    "def evaluate(samples):\n",
    "    assigned_distance, distributions, assignments = get_distances(samples, inference_matrix_test, return_assignments = True)\n",
    "\n",
    "    sum_distances = 0\n",
    "    for sample in samples:\n",
    "        sum_distances += assigned_distance[tuple(sample)]\n",
    "    avg_distances = sum_distances/len(samples)\n",
    "\n",
    "    distribution_difference = 0\n",
    "    test_probabilites = []\n",
    "    generated_probabilites = []\n",
    "    test_set = [tuple(individual) for individual in inference_matrix_test]\n",
    "    for individual in set(test_set):\n",
    "        test_quota, generated_quota = distributions[individual]\n",
    "        test_probabilites.append(test_quota)\n",
    "        generated_probabilites.append(generated_quota)\n",
    "        distribution_difference += np.absolute(test_quota - generated_quota)\n",
    "\n",
    "    return avg_distances, distribution_difference, KL_div(generated_probabilites, test_probabilites)"
   ]
  },
  {
   "cell_type": "markdown",
   "metadata": {},
   "source": [
    "Evaluate each set of artificial sequences."
   ]
  },
  {
   "cell_type": "code",
   "execution_count": null,
   "metadata": {},
   "outputs": [],
   "source": [
    "evaluations = []\n",
    "for samples in samplings:\n",
    "    evaluations.append(evaluate(samples[0]))"
   ]
  },
  {
   "cell_type": "markdown",
   "metadata": {},
   "source": [
    "Show a table of the average distances (m_S) for each of the models:"
   ]
  },
  {
   "cell_type": "code",
   "execution_count": null,
   "metadata": {},
   "outputs": [],
   "source": [
    "alphas_dict = {}\n",
    "for i in range(len(alphas)):\n",
    "    gamma_evals = []\n",
    "    for j in range(len(gammas)):\n",
    "        evaluation = evaluations[(i*len(gammas)) + j]\n",
    "        gamma_evals.append(evaluation[0])\n",
    "    alphas_dict[alphas[i]] = gamma_evals\n",
    "pd.DataFrame(alphas_dict, gammas)"
   ]
  },
  {
   "cell_type": "markdown",
   "metadata": {},
   "source": [
    "Show a table of the Kullback–Leibler divergence (m_D) for each of the models:"
   ]
  },
  {
   "cell_type": "code",
   "execution_count": null,
   "metadata": {},
   "outputs": [],
   "source": [
    "alphas_dict = {}\n",
    "for i in range(len(alphas)):\n",
    "    gamma_evals = []\n",
    "    for j in range(len(gammas)):\n",
    "        evaluation = evaluations[(i*len(gammas)) + j]\n",
    "        gamma_evals.append(evaluation[2])\n",
    "    alphas_dict[alphas[i]] = gamma_evals\n",
    "pd.DataFrame(alphas_dict, gammas)"
   ]
  },
  {
   "cell_type": "markdown",
   "metadata": {},
   "source": [
    "Show a table of the AIC values for each of the models:"
   ]
  },
  {
   "cell_type": "code",
   "execution_count": null,
   "metadata": {},
   "outputs": [],
   "source": [
    "alphas_dict = {}\n",
    "avg_AIC = min([x[0] for x in AIC])\n",
    "for i in range(len(alphas)):\n",
    "    gamma_evals = []\n",
    "    for j in range(len(gammas)):\n",
    "        evaluation = compute_AIC(models[(i*len(gammas)) + j])\n",
    "        gamma_evals.append(str(\"{:10.1f}\".format(evaluation - avg_AIC)))\n",
    "    alphas_dict[alphas[i]] = gamma_evals\n",
    "pd.DataFrame(alphas_dict, gammas)"
   ]
  },
  {
   "cell_type": "markdown",
   "metadata": {},
   "source": [
    "Finally we choose a greater sample size to compare our best and worst model with a null model and the training data."
   ]
  },
  {
   "cell_type": "code",
   "execution_count": null,
   "metadata": {},
   "outputs": [],
   "source": [
    "SAMPLE_SIZE = 2000\n",
    "compared_models = [models[AIC[0][1]], models[AIC[-1][1]]] \n",
    "used_samplings = []\n",
    "for model in compared_models:\n",
    "    used_samplings.append(sample(SAMPLE_SIZE, model)[0])"
   ]
  },
  {
   "cell_type": "code",
   "execution_count": null,
   "metadata": {},
   "outputs": [],
   "source": [
    "null_model = inference_matrix_training.sum(axis=0)\n",
    "null_model /= inference_matrix_training.sum()\n",
    "\n",
    "draws = inference_matrix_training.sum(axis=1)\n",
    "unique_elements, counts_elements = np.unique(draws, return_counts=True)\n",
    "counts_elements = counts_elements / counts_elements.sum()\n",
    "\n",
    "def null_model_sample(number_of_samples, vec_size = 438):\n",
    "    null_samples = []\n",
    "    for i in range(number_of_samples):\n",
    "        s = np.zeros(vec_size)\n",
    "        variants =  np.random.choice(range(vec_size), p= null_model, size = int(np.random.choice(unique_elements, p =counts_elements)), replace=False)\n",
    "        for var in variants:\n",
    "            s[var] = 1\n",
    "        null_samples.append(s)\n",
    "    return null_samples\n"
   ]
  },
  {
   "cell_type": "code",
   "execution_count": null,
   "metadata": {},
   "outputs": [],
   "source": [
    "sample_null = null_model_sample(SAMPLE_SIZE)"
   ]
  },
  {
   "cell_type": "code",
   "execution_count": null,
   "metadata": {},
   "outputs": [],
   "source": [
    "used_samplings.extend([sample_null, inference_matrix_training])\n",
    "results = []\n",
    "for used_samples in used_samplings:\n",
    "    results.append(evaluate(used_samples))\n",
    "results"
   ]
  },
  {
   "cell_type": "code",
   "execution_count": null,
   "metadata": {},
   "outputs": [],
   "source": []
  }
 ],
 "metadata": {
  "kernelspec": {
   "display_name": "Python 3",
   "language": "python",
   "name": "python3"
  },
  "language_info": {
   "codemirror_mode": {
    "name": "ipython",
    "version": 3
   },
   "file_extension": ".py",
   "mimetype": "text/x-python",
   "name": "python",
   "nbconvert_exporter": "python",
   "pygments_lexer": "ipython3",
   "version": "3.6.9"
  }
 },
 "nbformat": 4,
 "nbformat_minor": 2
}
